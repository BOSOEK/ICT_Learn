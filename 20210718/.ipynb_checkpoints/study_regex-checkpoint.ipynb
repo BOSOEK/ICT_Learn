{
 "cells": [
  {
   "cell_type": "markdown",
   "metadata": {},
   "source": [
    "## study_regex.ipynb"
   ]
  },
  {
   "cell_type": "code",
   "execution_count": 1,
   "metadata": {},
   "outputs": [],
   "source": [
    "import re"
   ]
  },
  {
   "cell_type": "code",
   "execution_count": 4,
   "metadata": {},
   "outputs": [
    {
     "data": {
      "text/plain": [
       "['abc', 'abc', 'abc']"
      ]
     },
     "execution_count": 4,
     "metadata": {},
     "output_type": "execute_result"
    }
   ],
   "source": [
    "re.findall(\"abc\", \"kafabceiaselfabcalisjeabcflajslefj;aef\")"
   ]
  },
  {
   "cell_type": "code",
   "execution_count": 8,
   "metadata": {},
   "outputs": [
    {
     "ename": "Error",
     "evalue": "The kernel died. View Jupyter [log](command:jupyter.viewOutput) for further details. \nError: ImportError...",
     "output_type": "error",
     "traceback": [
      "Error:",
      "at new o (c:\\Users\\김보석\\.vscode\\extensions\\ms-toolsai.jupyter-2021.8.1013163132\\out\\client\\extension.js:16:23375)",
      "at new i (c:\\Users\\김보석\\.vscode\\extensions\\ms-toolsai.jupyter-2021.8.1013163132\\out\\client\\extension.js:16:86196)",
      "at b.launch (c:\\Users\\김보석\\.vscode\\extensions\\ms-toolsai.jupyter-2021.8.1013163132\\out\\client\\extension.js:52:774515)",
      "at runMicrotasks (<anonymous>)",
      "at processTicksAndRejections (internal/process/task_queues.js:93:5)",
      "Error: Kernel died with exit code 1. d:\\ICT_learn\\20210718\\venv_20210718\\lib\\site-packages\\traitlets\\traitlets.py:2196: FutureWarning: Supporting extra quotes around Unicode is deprecated in traitlets 5.0. Use 'hmac-sha256' instead of '\"hmac-sha256\"' – or use CUnicode.",
      "warn(",
      "d:\\ICT_learn\\20210718\\venv_20210718\\lib\\site-packages\\traitlets\\traitlets.py:2151: FutureWarning: Supporting extra quotes around Bytes is deprecated in traitlets 5.0. Use 'bc1cf1df-4979-4b21-b902-a6017836743d' instead of 'b\"bc1cf1df-4979-4b21-b902-a6017836743d\"'.",
      "warn(",
      "Traceback (most recent call last):",
      "File \"c:\\Users\\김보석\\.vscode\\extensions\\ms-toolsai.jupyter-2021.8.1013163132\\pythonFiles\\vscode_datascience_helpers\\kernel_prewarm_starter.py\", line 31, in <module>",
      "runpy.run_module(module, run_name=\"__main__\", alter_sys=False)",
      "File \"D:\\download\\Anaconda\\lib\\runpy.py\", line 210, in run_module",
      "return _run_code(code, {}, init_globals, run_name, mod_spec)",
      "File \"D:\\download\\Anaconda\\lib\\runpy.py\", line 87, in _run_code",
      "exec(code, run_globals)",
      "File \"d:\\ICT_learn\\20210718\\venv_20210718\\lib\\site-packages\\ipykernel_launcher.py\", line 16, in <module>",
      "app.launch_new_instance()",
      "File \"d:\\ICT_learn\\20210718\\venv_20210718\\lib\\site-packages\\traitlets\\config\\application.py\", line 844, in launch_instance",
      "app.initialize(argv)",
      "File \"d:\\ICT_learn\\20210718\\venv_20210718\\lib\\site-packages\\traitlets\\config\\application.py\", line 87, in inner",
      "return method(app, *args, **kwargs)",
      "File \"d:\\ICT_learn\\20210718\\venv_20210718\\lib\\site-packages\\ipykernel\\kernelapp.py\", line 625, in initialize",
      "self.write_connection_file()",
      "File \"d:\\ICT_learn\\20210718\\venv_20210718\\lib\\site-packages\\ipykernel\\kernelapp.py\", line 234, in write_connection_file",
      "write_connection_file(cf, ip=self.ip, key=self.session.key, transport=self.transport,",
      "File \"d:\\ICT_learn\\20210718\\venv_20210718\\lib\\site-packages\\jupyter_client\\connect.py\", line 136, in write_connection_file",
      "with secure_write(fname) as f:",
      "File \"D:\\download\\Anaconda\\lib\\contextlib.py\", line 113, in __enter__",
      "return next(self.gen)",
      "File \"d:\\ICT_learn\\20210718\\venv_20210718\\lib\\site-packages\\jupyter_core\\paths.py\", line 461, in secure_write",
      "win32_restrict_file_to_user(fname)",
      "File \"d:\\ICT_learn\\20210718\\venv_20210718\\lib\\site-packages\\jupyter_core\\paths.py\", line 387, in win32_restrict_file_to_user",
      "import win32api",
      "ImportError: DLL load failed while importing win32api: 지정된 프로시저를 찾을 수 없습니다.",
      "at c:\\Users\\김보석\\.vscode\\extensions\\ms-toolsai.jupyter-2021.8.1013163132\\out\\client\\extension.js:52:770756",
      "at c:\\Users\\김보석\\.vscode\\extensions\\ms-toolsai.jupyter-2021.8.1013163132\\out\\client\\extension.js:52:433760",
      "at c:\\Users\\김보석\\.vscode\\extensions\\ms-toolsai.jupyter-2021.8.1013163132\\out\\client\\extension.js:52:433978",
      "at Immediate._onImmediate (c:\\Users\\김보석\\.vscode\\extensions\\ms-toolsai.jupyter-2021.8.1013163132\\out\\client\\extension.js:52:435543)",
      "at processImmediate (internal/timers.js:461:21)"
     ]
    }
   ],
   "source": [
    "for match in re.findall(\"abc\", \"kafabceiaselfabcalisjeabcflajslefj;aef\"): # 파이썬의 리스트 형태로\r\n",
    "    print(match)"
   ]
  },
  {
   "cell_type": "code",
   "execution_count": 5,
   "metadata": {},
   "outputs": [],
   "source": [
    "iterator = re.finditer(\"abc\", \"kafabceiaselfabcalisjeabcflajslefj;aef\")"
   ]
  },
  {
   "cell_type": "code",
   "execution_count": 7,
   "metadata": {},
   "outputs": [
    {
     "name": "stdout",
     "output_type": "stream",
     "text": [
      "abc\n",
      "abc\n",
      "abc\n"
     ]
    }
   ],
   "source": [
    "for match in iterator:\r\n",
    "    print(match.group())"
   ]
  },
  {
   "cell_type": "code",
   "execution_count": 10,
   "metadata": {},
   "outputs": [
    {
     "data": {
      "text/plain": [
       "['abc', 'abc']"
      ]
     },
     "execution_count": 10,
     "metadata": {},
     "output_type": "execute_result"
    }
   ],
   "source": [
    "# [ ] : 일치시키려는 문자 집합인 문자 클래스를 지정하는데 사용\r\n",
    "re.findall(\"abc\", \"askdfj;akdfj;lajdf;laj;lakdsfabcasdfaabcdadf\")"
   ]
  },
  {
   "cell_type": "code",
   "execution_count": 16,
   "metadata": {},
   "outputs": [
    {
     "data": {
      "text/plain": [
       "[]"
      ]
     },
     "execution_count": 16,
     "metadata": {},
     "output_type": "execute_result"
    }
   ],
   "source": [
    "# - 로 문자 클래스의 범위를 지정할 수 있다.\r\n",
    "re.findall(\"[xy]\", \"askdfj;akdfj;lajdf;laj;lakdsfabcasdfaabcdadf\")"
   ]
  },
  {
   "cell_type": "code",
   "execution_count": 15,
   "metadata": {},
   "outputs": [
    {
     "data": {
      "text/plain": [
       "['a', 'a', 'a', 'a', 'a', 'a', 'b', 'c', 'a', 'a', 'a', 'b', 'c', 'a']"
      ]
     },
     "execution_count": 15,
     "metadata": {},
     "output_type": "execute_result"
    }
   ],
   "source": [
    "re.findall(\"[abc]\", \"askdfj;akdfj;lajdf;laj;lakdsfabcasdfaabcdadf\")"
   ]
  },
  {
   "cell_type": "code",
   "execution_count": 20,
   "metadata": {},
   "outputs": [
    {
     "data": {
      "text/plain": [
       "(['3', '5', '3', '4', '2', '3', '4'], list)"
      ]
     },
     "execution_count": 20,
     "metadata": {},
     "output_type": "execute_result"
    }
   ],
   "source": [
    "# 퀴즈 1 : 제시한 문자열에서 숫자들의 갯수\r\n",
    "re.findall(\"[0123456789]\", \"asdfjl;ajdf;la3534l2k3o;lkdagj;qi4touoq\"), type(re.findall(\"[0123456789]\", \"asdfjl;ajdf;la3534l2k3o;lkdagj;qi4touoq\"))"
   ]
  },
  {
   "cell_type": "code",
   "execution_count": 22,
   "metadata": {},
   "outputs": [
    {
     "data": {
      "text/plain": [
       "7"
      ]
     },
     "execution_count": 22,
     "metadata": {},
     "output_type": "execute_result"
    }
   ],
   "source": [
    "# len(re.findall(\"[0123456789]\", \"asdfjl;ajdf;la3534l2k3o;lkdagj;qi4touoq\"))\r\n",
    "len(re.findall(\"[0-9]\", \"asdfjl;ajdf;la3534l2k3o;lkdagj;qi4touoq\"))"
   ]
  },
  {
   "cell_type": "code",
   "execution_count": null,
   "metadata": {},
   "outputs": [],
   "source": [
    "# 파이썬에서 정말 많이 사용하는 데이터 구조 3형제\r\n",
    "# () : tuple, 변경이 안 됨! pandas나 numpy에서 특정한 결과를 줄 때 튜플 형태로 결과를 알려줌\r\n",
    "# {} : dictionary, key-value, JSON 포맷과 형태 비슷. JSON 형태를 웹에서 데이트를 가져오면, decode하면 바로 dictionary\r\n",
    "# [] : list, 모든 것들을 다 담을 수 있다. 길이도 가변적... 왠만한 경우 거의 리스트를 사용! 메모리 사용이 비효율적"
   ]
  },
  {
   "cell_type": "code",
   "execution_count": 23,
   "metadata": {},
   "outputs": [
    {
     "data": {
      "text/plain": [
       "['3534']"
      ]
     },
     "execution_count": 23,
     "metadata": {},
     "output_type": "execute_result"
    }
   ],
   "source": [
    "# 퀴즈 2 : 숫자가 4개 이어진 부분을 찾아주세요!\r\n",
    "re.findall(\"[0-9][0-9][0-9][0-9]\", \"asdfjl;ajdf;la3534l2k3o;lkdagj;qi4touoq\")"
   ]
  },
  {
   "cell_type": "code",
   "execution_count": 25,
   "metadata": {},
   "outputs": [
    {
     "name": "stdout",
     "output_type": "stream",
     "text": [
      "없다!\n"
     ]
    }
   ],
   "source": [
    "if len(re.findall(\"[0-9][0-9][0-9][0-9][0-9]\", \"asdfjl;ajdf;la3534l2k3o;lkdagj;qi4touoq\")) > 0:\r\n",
    "    print(\"찾았다!\")\r\n",
    "else:\r\n",
    "    print(\"없다!\")"
   ]
  },
  {
   "cell_type": "code",
   "execution_count": 28,
   "metadata": {},
   "outputs": [
    {
     "name": "stdout",
     "output_type": "stream",
     "text": [
      "asdkfjqoitlskdnfoqwiekhas;ioew=adgoie\n",
      "askdfl_asdkfei_asdjkfla****askeasfff\n"
     ]
    }
   ],
   "source": [
    "# ^ : 지정한 클래스에 해당되지 않는 것을 찾아라!\r\n",
    "documents = ['asdfj;laieorkdjf;aliejr;akjdf23k4j;lajds;l',\r\n",
    "            'asdfjoqweitulad;ai@weutadg;lajoetiuaodkgjier',\r\n",
    "            'asdkfjqoitlskdnfoqwiekhas;ioew=adgoie',\r\n",
    "            'askdfl_asdkfei_asdjkfla****askeasfff',\r\n",
    "            '{{{{{asdfjowei@@##askdfoie}}}}}']\r\n",
    "regExp = '[0-9:\"{}()@#&]'\r\n",
    "\r\n",
    "for doc in documents:\r\n",
    "    if len(re.findall(regExp, doc)) > 0:\r\n",
    "        pass\r\n",
    "    else:\r\n",
    "        print(doc)"
   ]
  },
  {
   "cell_type": "code",
   "execution_count": 34,
   "metadata": {},
   "outputs": [
    {
     "name": "stdout",
     "output_type": "stream",
     "text": [
      "['a', 's', 'd', 'f', 'j', 'l', 'a', 'i', 'e', 'o', 'r', 'k', 'd', 'j', 'f', 'a', 'l', 'i', 'e', 'j', 'r', 'a', 'k', 'j', 'd', 'f', 'k', 'j', 'l', 'a', 'j', 'd', 's', 'l']\n",
      "['a', 's', 'd', 'f', 'j', 'o', 'q', 'w', 'e', 'i', 't', 'u', 'l', 'a', 'd', 'a', 'i', 'w', 'e', 'u', 't', 'a', 'd', 'g', 'l', 'a', 'j', 'o', 'e', 't', 'i', 'u', 'a', 'o', 'd', 'k', 'g', 'j', 'i', 'e', 'r']\n",
      "['a', 's', 'd', 'k', 'f', 'j', 'q', 'o', 'i', 't', 'l', 's', 'k', 'd', 'n', 'f', 'o', 'q', 'w', 'i', 'e', 'k', 'h', 'a', 's', 'i', 'o', 'e', 'w', 'a', 'd', 'g', 'o', 'i', 'e']\n",
      "['a', 's', 'k', 'd', 'f', 'l', 'a', 's', 'd', 'k', 'f', 'e', 'i', 'a', 's', 'd', 'j', 'k', 'f', 'l', 'a', 'a', 's', 'k', 'e', 'a', 's', 'f', 'f', 'f']\n",
      "['a', 's', 'd', 'f', 'j', 'o', 'w', 'e', 'i', 'a', 's', 'k', 'd', 'f', 'o', 'i', 'e']\n"
     ]
    }
   ],
   "source": [
    "documents = ['asdfj;laieorkdjf;aliejr;akjdf23k4j;lajds;l',\r\n",
    "            'asdfjoqweitulad;ai@weutadg;lajoetiuaodkgjier',\r\n",
    "            'asdkfjqoitlskdnfoqwiekhas;ioew=adgoie',\r\n",
    "            'askdfl_asdkfei_asdjkfla****askeasfff',\r\n",
    "            '{{{{{asdfjowei@@##askdfoie}}}}}']\r\n",
    "regExp = '[^0-9:;=\"_*{}()@#&]'\r\n",
    "\r\n",
    "for doc in documents:\r\n",
    "    if len(re.findall(regExp, doc)) < 0:\r\n",
    "        pass\r\n",
    "    else:\r\n",
    "        print(re.findall(regExp, doc))"
   ]
  },
  {
   "cell_type": "code",
   "execution_count": null,
   "metadata": {},
   "outputs": [],
   "source": [
    "# \\\r\n",
    "# 퀴즈 3 : doc에서 모든 \\를 찾아보세요!\r\n",
    "doc = \"\\n for new [line, ] \\section and \\document and \\\\\\section \\n\""
   ]
  },
  {
   "cell_type": "code",
   "execution_count": 37,
   "metadata": {},
   "outputs": [
    {
     "ename": "SyntaxError",
     "evalue": "EOL while scanning string literal (CreatorTemp/ipykernel_15700/409492750.py, line 2)",
     "output_type": "error",
     "traceback": [
      "\u001b[1;36m  File \u001b[1;32m\"C:\\Users\\Public\\Documents\\ESTsoft\\CreatorTemp/ipykernel_15700/409492750.py\"\u001b[1;36m, line \u001b[1;32m2\u001b[0m\n\u001b[1;33m    regExp = \"\\\"\u001b[0m\n\u001b[1;37m                ^\u001b[0m\n\u001b[1;31mSyntaxError\u001b[0m\u001b[1;31m:\u001b[0m EOL while scanning string literal\n"
     ]
    }
   ],
   "source": [
    "doc = \"\\n for new [line, ] \\section and \\document and \\\\\\section \\n\"\r\n",
    "regExp = \"\\\"\r\n",
    "print(len(re.findall(regExp, doc)))"
   ]
  },
  {
   "cell_type": "code",
   "execution_count": 40,
   "metadata": {},
   "outputs": [
    {
     "name": "stdout",
     "output_type": "stream",
     "text": [
      "0\n"
     ]
    }
   ],
   "source": [
    "# doc = \"\\n for new [line, ] '\\'section and \\document and \\\\\\section \\n\"\r\n",
    "doc = \"\\n for new [line, ] \\section and \\document and \\\\\\section \\n\"\r\n",
    "regExp = \"'\\'\"\r\n",
    "print(len(re.findall(regExp, doc)))"
   ]
  },
  {
   "cell_type": "code",
   "execution_count": 47,
   "metadata": {},
   "outputs": [
    {
     "name": "stdout",
     "output_type": "stream",
     "text": [
      "0\n"
     ]
    }
   ],
   "source": [
    "\r\n",
    "# doc = \"\\n for new [line, ] '\\'section and \\document and \\\\\\section \\n\"\r\n",
    "doc = \"\\n for new [line, ] \\section and \\document and \\\\\\section \\n\"\r\n",
    "# regExp = \"\\\\\" # escape character 특수문자를 표시하기 일반적으로 \\를 추가\r\n",
    "regExp = \"'\\\\'\" # escape character 특수문자를 표시하기 일반적으로 \\를 추가\r\n",
    "print(len(re.findall(regExp, doc)))"
   ]
  },
  {
   "cell_type": "code",
   "execution_count": 56,
   "metadata": {},
   "outputs": [
    {
     "name": "stdout",
     "output_type": "stream",
     "text": [
      " for new [line, ] \\section and \\document and \\\\section \n"
     ]
    }
   ],
   "source": [
    "# doc = \"\\n for new [line, ] \\section and \\document and \\\\\\section \\n\"\r\n",
    "doc = \" for new [line, ] \\section and \\document and \\\\\\section \"\r\n",
    "print(doc)"
   ]
  },
  {
   "cell_type": "code",
   "execution_count": 57,
   "metadata": {},
   "outputs": [
    {
     "name": "stdout",
     "output_type": "stream",
     "text": [
      " for new [line, ] \\section and \\document and \\\\section \n"
     ]
    }
   ],
   "source": [
    "doc = \" for new [line, ] \\section and \\document and \\\\\\section \"\r\n",
    "print(doc)"
   ]
  },
  {
   "cell_type": "code",
   "execution_count": 58,
   "metadata": {},
   "outputs": [
    {
     "name": "stdout",
     "output_type": "stream",
     "text": [
      "\n",
      " for new [line, ] \\section and \\document and \\\\section \n",
      "\n"
     ]
    }
   ],
   "source": [
    "doc = \"\\n for new [line, ] \\section and \\document and \\\\\\section \\n\"\r\n",
    "print(doc)"
   ]
  },
  {
   "cell_type": "code",
   "execution_count": 59,
   "metadata": {},
   "outputs": [
    {
     "name": "stdout",
     "output_type": "stream",
     "text": [
      "4\n"
     ]
    }
   ],
   "source": [
    "doc = \"\\n for new [line, ] \\section and \\document and \\\\\\section \\n\"\r\n",
    "regExp = \"[\\\\\\]\"\r\n",
    "print(len(re.findall(regExp, doc)))"
   ]
  },
  {
   "cell_type": "code",
   "execution_count": 51,
   "metadata": {},
   "outputs": [
    {
     "name": "stdout",
     "output_type": "stream",
     "text": [
      "\\\\section\n"
     ]
    }
   ],
   "source": [
    "print(\"\\\\\\section\") # \\\\ => \\"
   ]
  },
  {
   "cell_type": "code",
   "execution_count": 64,
   "metadata": {},
   "outputs": [
    {
     "name": "stdout",
     "output_type": "stream",
     "text": [
      "7\n"
     ]
    }
   ],
   "source": [
    "doc = r\"\\n for new [line, ] \\section and \\document and \\\\\\section \\n\"\r\n",
    "regExp = \"[\\\\\\]\"\r\n",
    "print(len(re.findall(regExp, doc)))"
   ]
  },
  {
   "cell_type": "code",
   "execution_count": 61,
   "metadata": {},
   "outputs": [
    {
     "name": "stdout",
     "output_type": "stream",
     "text": [
      "\n",
      " for new [line, ] \\section and \\document and \\\\section \n",
      "\n"
     ]
    }
   ],
   "source": [
    "doc = \"\\n for new [line, ] \\section and \\document and \\\\\\section \\n\"\r\n",
    "print(doc)"
   ]
  },
  {
   "cell_type": "code",
   "execution_count": 62,
   "metadata": {},
   "outputs": [
    {
     "name": "stdout",
     "output_type": "stream",
     "text": [
      "\\n for new [line, ] \\section and \\document and \\\\\\section \\n\n"
     ]
    }
   ],
   "source": [
    "doc = r\"\\n for new [line, ] \\section and \\document and \\\\\\section \\n\"\r\n",
    "print(doc)"
   ]
  },
  {
   "cell_type": "code",
   "execution_count": 67,
   "metadata": {},
   "outputs": [
    {
     "name": "stdout",
     "output_type": "stream",
     "text": [
      "9\n"
     ]
    }
   ],
   "source": [
    "# 퀴즈 : \\랑 [랑 ]랑 가진 부분을 찾아주세요 : 갯수는 9가 되어야 합니다.\r\n",
    "doc = r\"\\n for new [line, ] \\section and \\document and \\\\\\section \\n\"\r\n",
    "regExp = \"[\\[\\]\\\\\\]\"\r\n",
    "print(len(re.findall(regExp, doc)))\r\n",
    "\r\n",
    "# \"[\\[\\]\\\\\\]\"\r\n",
    "# \"[  \\[   \\]  \\\\\\]\""
   ]
  },
  {
   "cell_type": "code",
   "execution_count": 73,
   "metadata": {},
   "outputs": [
    {
     "name": "stdout",
     "output_type": "stream",
     "text": [
      "9\n"
     ]
    }
   ],
   "source": [
    "doc = r\"\\n for new [line, ] \\section and \\document and \\\\\\section \\n\"\r\n",
    "regExp_Brackets = \"[\\[\\]]\"\r\n",
    "brackets_count = len(re.findall(regExp_Brackets, doc))\r\n",
    "\r\n",
    "regExp_Slash = \"[\\\\\\\\]\"\r\n",
    "slash_count = len(re.findall(regExp_Slash, doc))\r\n",
    "\r\n",
    "print(brackets_count + slash_count)"
   ]
  },
  {
   "cell_type": "code",
   "execution_count": 81,
   "metadata": {},
   "outputs": [
    {
     "name": "stdout",
     "output_type": "stream",
     "text": [
      "['\\\\section', '\\\\section']\n"
     ]
    }
   ],
   "source": [
    "# 퀴즈 : \\section 부분을 찾아주세요! \r\n",
    "doc = \"\\n for new [line, ] \\section and \\document and \\\\\\section \\n\"\r\n",
    "regExp = \"[\\\\\\]section\"\r\n",
    "print(re.findall(regExp, doc))\r\n"
   ]
  },
  {
   "cell_type": "code",
   "execution_count": null,
   "metadata": {},
   "outputs": [],
   "source": [
    "# \\d : 모두 숫자 0-9와 똑같다! [0-9]\r\n",
    "# \\D : [^0-9]\r\n",
    "# \\s : 모든 공백문자를 의미 [\\t\\n\\r\\f\\v]와 동일\r\n",
    "# \\S : [^\\t\\n\\r\\f\\v]\r\n",
    "# \\w : 모든 영문자 + 숫자 + underscore [a-zA-Z0-9_]와 동일 \r\n",
    "# \\W : [^a-zA-Z0-9_]"
   ]
  },
  {
   "cell_type": "code",
   "execution_count": 86,
   "metadata": {},
   "outputs": [
    {
     "name": "stdout",
     "output_type": "stream",
     "text": [
      "[';', ';', ';', ';', ';']\n",
      "[';', '@', ';']\n",
      "[';', '=']\n",
      "['*', '*', '*', '*']\n",
      "['{', '{', '{', '{', '{', '@', '@', '#', '#', '}', '}', '}', '}', '}']\n"
     ]
    }
   ],
   "source": [
    "documents = ['asdfj;laieorkdjf;aliejr;akjdf23k4j;lajds;l',\r\n",
    "            'asdfjoqweitulad;ai@weutadg;lajoetiuaodkgjier',\r\n",
    "            'asdkfjqoitlskdnfoqwiekhas;ioew=adgoie',\r\n",
    "            'askdfl_asdkfei_asdjkfla****askeasfff',\r\n",
    "            '{{{{{asdfjowei@@##askdfoie}}}}}']\r\n",
    "regExp = '[\\W]'\r\n",
    "\r\n",
    "for line in documents:\r\n",
    "    rs = re.findall(regExp, line)\r\n",
    "    print(rs)"
   ]
  },
  {
   "cell_type": "code",
   "execution_count": 93,
   "metadata": {},
   "outputs": [
    {
     "name": "stdout",
     "output_type": "stream",
     "text": [
      "['Yahoo', 'Yahooo', 'Yahoooo', 'Yahooooo', 'Yaho']\n"
     ]
    }
   ],
   "source": [
    "# * : *앞에 있는 문자가 없거나 갯수에 상관없이 형태를 유지하며 찾는다 : Greedy matching\r\n",
    "doc = \"YahooYahoooYahooooYahoooooYaho\"\r\n",
    "regExp = \"Yahoo*\"\r\n",
    "rs = re.findall(regExp, doc)\r\n",
    "print(rs)"
   ]
  },
  {
   "cell_type": "code",
   "execution_count": 95,
   "metadata": {},
   "outputs": [
    {
     "name": "stdout",
     "output_type": "stream",
     "text": [
      "['asdfj', '', 'laieorkdjf', '', 'aliejr', '', 'akjdf23k4j', '', 'lajds', '', 'l', '']\n",
      "['asdfjoqweitulad', '', 'ai', '', 'weutadg', '', 'lajoetiuaodkgjier', '']\n",
      "['asdkfjqoitlskdnfoqwiekhas', '', 'ioew', '', 'adgoie', '']\n",
      "['askdfl_asdkfei_asdjkfla', '', '', '', '', 'askeasfff', '']\n",
      "['', '', '', '', '', 'asdfjowei', '', '', '', '', 'askdfoie', '', '', '', '', '', '']\n"
     ]
    }
   ],
   "source": [
    "documents = ['asdfj;laieorkdjf;aliejr;akjdf23k4j;lajds;l',\r\n",
    "            'asdfjoqweitulad;ai@weutadg;lajoetiuaodkgjier',\r\n",
    "            'asdkfjqoitlskdnfoqwiekhas;ioew=adgoie',\r\n",
    "            'askdfl_asdkfei_asdjkfla****askeasfff',\r\n",
    "            '{{{{{asdfjowei@@##askdfoie}}}}}']\r\n",
    "regExp = '[\\w]*'\r\n",
    "\r\n",
    "for line in documents:\r\n",
    "    rs = re.findall(regExp, line)\r\n",
    "    print(rs)"
   ]
  },
  {
   "cell_type": "code",
   "execution_count": 98,
   "metadata": {},
   "outputs": [
    {
     "name": "stdout",
     "output_type": "stream",
     "text": [
      "['Yahooo', 'Yahoooo', 'Yahooooo']\n"
     ]
    }
   ],
   "source": [
    "# + : *앞에 있는 문자가 최소 1개이상 갯수에 상관없이 형태를 유지하며 찾는다\r\n",
    "doc = \"YahooYahoooYahooooYahoooooYaho\"\r\n",
    "regExp = \"Yahooo+\"\r\n",
    "rs = re.findall(regExp, doc)\r\n",
    "print(rs)"
   ]
  },
  {
   "cell_type": "code",
   "execution_count": 102,
   "metadata": {},
   "outputs": [
    {
     "name": "stdout",
     "output_type": "stream",
     "text": [
      "['Yahooo', 'Yahooo', 'Yahooo']\n"
     ]
    }
   ],
   "source": [
    "# ? : ? 뒤에 문자가 없거나 존재하는 것 계속 확인\r\n",
    "doc = \"YahooYahoooYahooooYahoooooYaho\"\r\n",
    "regExp = \"Yah?ooo\" # Yahoo 라는 패턴이 있는 것 다 찾아달라\r\n",
    "rs = re.findall(regExp, doc)\r\n",
    "print(rs)"
   ]
  },
  {
   "cell_type": "code",
   "execution_count": 127,
   "metadata": {},
   "outputs": [
    {
     "name": "stdout",
     "output_type": "stream",
     "text": [
      "['23', '4']\n",
      "['33', '53']\n",
      "['3', '3', '23', '42', '35', '23']\n",
      "['33', '43']\n",
      "[]\n"
     ]
    }
   ],
   "source": [
    "# {m, n}\r\n",
    "documents = ['asdfj;laieorkdjf;aliejr;akjdf23k4j;lajds;l',\r\n",
    "            'asdf33joqweitulad;ai@weutadg;lajoeti53uaodkgjier',\r\n",
    "            'asdkfjqoitf3f3lskdnfoqwi23423523ekhas;ioew=adgoie',\r\n",
    "            'a3343skdfl_asdkfei_asdjkfla****askeasfff',\r\n",
    "            '{{{{{asdfjowei@@##askdfoie}}}}}']\r\n",
    "regExp = '\\d{1,2}' # {0,} = *, {1,} = +, {0,1} = ?\r\n",
    "\r\n",
    "for line in documents:\r\n",
    "    rs = re.findall(regExp, line)\r\n",
    "    print(rs)"
   ]
  },
  {
   "cell_type": "code",
   "execution_count": null,
   "metadata": {},
   "outputs": [],
   "source": []
  }
 ],
 "metadata": {
  "kernelspec": {
   "display_name": "Python 3",
   "language": "python",
   "name": "python3"
  },
  "language_info": {
   "codemirror_mode": {
    "name": "ipython",
    "version": 3
   },
   "file_extension": ".py",
   "mimetype": "text/x-python",
   "name": "python",
   "nbconvert_exporter": "python",
   "pygments_lexer": "ipython3",
   "version": "3.8.8"
  }
 },
 "nbformat": 4,
 "nbformat_minor": 4
}
