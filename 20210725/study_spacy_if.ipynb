{
 "cells": [
  {
   "cell_type": "code",
   "execution_count": 4,
   "source": [
    "import spacy\r\n",
    "nlp = spacy.load('en_core_web_sm')"
   ],
   "outputs": [],
   "metadata": {}
  },
  {
   "cell_type": "code",
   "execution_count": 5,
   "source": [
    "doc= nlp('Ailcia and me went to school by bus')"
   ],
   "outputs": [],
   "metadata": {}
  },
  {
   "cell_type": "code",
   "execution_count": 6,
   "source": [
    "for token in doc:\r\n",
    "    print(token.text, token.pos, spacy.explain(token.pos_))"
   ],
   "outputs": [
    {
     "output_type": "stream",
     "name": "stdout",
     "text": [
      "Ailcia 96 proper noun\n",
      "and 89 coordinating conjunction\n",
      "me 95 pronoun\n",
      "went 100 verb\n",
      "to 85 adposition\n",
      "school 92 noun\n",
      "by 85 adposition\n",
      "bus 92 noun\n"
     ]
    }
   ],
   "metadata": {}
  },
  {
   "cell_type": "code",
   "execution_count": 7,
   "source": [
    "# POS : part of speech : 각 단어가 위치나 문장 구조 안에 형태에 따라 어떤 형식을 가지는지 알아보았는데\r\n",
    "# NLU(Natural Language Understanding) 측면에서 정확도를 높이기 위해 필요함.\r\n",
    "# 구문 정보 pos에 영향을 가져왔다고 할 수 있다."
   ],
   "outputs": [],
   "metadata": {}
  },
  {
   "cell_type": "code",
   "execution_count": 9,
   "source": [
    "sentence1 = 'I flew to Rome'\r\n",
    "sentence2 = \"I'm flying to Rome\"\r\n",
    "sentence3 = 'I will fly to Rome'\r\n",
    "\r\n",
    "doc1 = nlp(sentence1)\r\n",
    "doc2 = nlp(sentence2)\r\n",
    "doc3 = nlp(sentence3)\r\n",
    "\r\n",
    "for doc in [doc1, doc2, doc3]:\r\n",
    "    print( [(w.text, w.lemma_) for w in doc if w.tag_ == 'VBG' or w.tag_ == 'VB'])"
   ],
   "outputs": [
    {
     "output_type": "stream",
     "name": "stdout",
     "text": [
      "[]\n",
      "[('flying', 'fly')]\n",
      "[('fly', 'fly')]\n"
     ]
    }
   ],
   "metadata": {}
  },
  {
   "cell_type": "code",
   "execution_count": 10,
   "source": [
    "# WSD : 단어 의미 중의성 해소\r\n",
    "# 단어들이 가진 중의성으로 인해 사람들도 다른 의미로 해석을 한다\r\n",
    "# WSD problem : 자연어 처리에서 open problem, 복잡하고 통계적인 모델을 계속 연구하고 발표하고 있音\r\n",
    "\r\n",
    "# Bass - fish (Noun)\r\n",
    "# Bass = lowest male voice (Noun)\r\n",
    "# Bass - guitar(Noun)\r\n",
    "\r\n",
    "for token in doc3:\r\n",
    "    print(token.text, token.tag_, spacy.explain(token.tag_))"
   ],
   "outputs": [
    {
     "output_type": "stream",
     "name": "stdout",
     "text": [
      "I PRP pronoun, personal\n",
      "will MD verb, modal auxiliary\n",
      "fly VB verb, base form\n",
      "to IN conjunction, subordinating or preposition\n",
      "Rome NNP noun, proper singular\n"
     ]
    }
   ],
   "metadata": {}
  },
  {
   "cell_type": "code",
   "execution_count": 11,
   "source": [
    "doc = nlp('He earned $5. 5 million in 2020 and paid %3$ max.')\r\n",
    "\r\n",
    "for token in doc:\r\n",
    "    print(token.text, token.tag_, spacy.explain(token.tag_))"
   ],
   "outputs": [
    {
     "output_type": "stream",
     "name": "stdout",
     "text": [
      "He PRP pronoun, personal\n",
      "earned VBD verb, past tense\n",
      "$ $ symbol, currency\n",
      "5 CD cardinal number\n",
      ". . punctuation mark, sentence closer\n",
      "5 CD cardinal number\n",
      "million CD cardinal number\n",
      "in IN conjunction, subordinating or preposition\n",
      "2020 CD cardinal number\n",
      "and CC conjunction, coordinating\n",
      "paid VBD verb, past tense\n",
      "% NN noun, singular or mass\n",
      "3 CD cardinal number\n",
      "$ $ symbol, currency\n",
      "max NN noun, singular or mass\n",
      ". . punctuation mark, sentence closer\n"
     ]
    }
   ],
   "metadata": {}
  },
  {
   "cell_type": "code",
   "execution_count": 12,
   "source": [
    "doc = nlp('blue flower')\r\n",
    "for token in doc:\r\n",
    "    print(token.text, token.dep_)"
   ],
   "outputs": [
    {
     "output_type": "stream",
     "name": "stdout",
     "text": [
      "blue amod\n",
      "flower ROOT\n"
     ]
    }
   ],
   "metadata": {}
  },
  {
   "cell_type": "code",
   "execution_count": 13,
   "source": [
    "# NER : name entity\r\n",
    "doc = nlp('The president Donald Trump visited France')\r\n",
    "doc.ents"
   ],
   "outputs": [
    {
     "output_type": "execute_result",
     "data": {
      "text/plain": [
       "(Donald Trump, France)"
      ]
     },
     "metadata": {},
     "execution_count": 13
    }
   ],
   "metadata": {}
  },
  {
   "cell_type": "code",
   "execution_count": 14,
   "source": [
    "spacy.explain('france')"
   ],
   "outputs": [],
   "metadata": {}
  },
  {
   "cell_type": "code",
   "execution_count": 16,
   "source": [
    "doc = nlp('He worked for NASA')\r\n",
    "doc[3].ent_type_, spacy.explain(doc[3].ent_type_)"
   ],
   "outputs": [
    {
     "output_type": "execute_result",
     "data": {
      "text/plain": [
       "('ORG', 'Companies, agencies, institutions, etc.')"
      ]
     },
     "metadata": {},
     "execution_count": 16
    }
   ],
   "metadata": {}
  },
  {
   "cell_type": "code",
   "execution_count": 17,
   "source": [
    "# 많이 사용되는 entity type\r\n",
    "# PER : Named person or family\r\n",
    "# LOC\r\n",
    "# OBG\r\n",
    "# MISC : 기타등등"
   ],
   "outputs": [],
   "metadata": {}
  },
  {
   "cell_type": "code",
   "execution_count": 18,
   "source": [
    "doc = nlp('Albert Einstain was born in Ulm on 19=897. he studied electronical engineering at ETH 2urich.')\r\n",
    "doc.ents"
   ],
   "outputs": [
    {
     "output_type": "execute_result",
     "data": {
      "text/plain": [
       "(Albert Einstain, Ulm, 19=897, ETH 2urich)"
      ]
     },
     "metadata": {},
     "execution_count": 18
    }
   ],
   "metadata": {}
  },
  {
   "cell_type": "code",
   "execution_count": 19,
   "source": [
    "for token in doc:\r\n",
    "    print(token.text, token.ent_type_, spacy.explain(token.ent_type_))"
   ],
   "outputs": [
    {
     "output_type": "stream",
     "name": "stdout",
     "text": [
      "Albert PERSON People, including fictional\n",
      "Einstain PERSON People, including fictional\n",
      "was  None\n",
      "born  None\n",
      "in  None\n",
      "Ulm PERSON People, including fictional\n",
      "on  None\n",
      "19=897 CARDINAL Numerals that do not fall under another type\n",
      ".  None\n",
      "he  None\n",
      "studied  None\n",
      "electronical  None\n",
      "engineering  None\n",
      "at  None\n",
      "ETH ORG Companies, agencies, institutions, etc.\n",
      "2urich ORG Companies, agencies, institutions, etc.\n",
      ".  None\n"
     ]
    }
   ],
   "metadata": {}
  },
  {
   "cell_type": "code",
   "execution_count": 20,
   "source": [
    "doc = nlp('Jean-Michel Basquiat was an American artist of Haitian and Puerto Rican descent who gained fame with his graffiti and street art work')\r\n",
    "doc.ents"
   ],
   "outputs": [
    {
     "output_type": "execute_result",
     "data": {
      "text/plain": [
       "(Jean-Michel Basquiat, American, Haitian, Puerto Rican)"
      ]
     },
     "metadata": {},
     "execution_count": 20
    }
   ],
   "metadata": {}
  },
  {
   "cell_type": "code",
   "execution_count": 21,
   "source": [
    "type(doc.ents)"
   ],
   "outputs": [
    {
     "output_type": "execute_result",
     "data": {
      "text/plain": [
       "tuple"
      ]
     },
     "metadata": {},
     "execution_count": 21
    }
   ],
   "metadata": {}
  },
  {
   "cell_type": "code",
   "execution_count": 23,
   "source": [
    "for ent in doc.ents:\r\n",
    "    print(ent, ent.label_, spacy.explain(ent.label))"
   ],
   "outputs": [
    {
     "output_type": "stream",
     "name": "stdout",
     "text": [
      "Jean-Michel Basquiat PERSON None\n",
      "American NORP None\n",
      "Haitian GPE None\n",
      "Puerto Rican NORP None\n"
     ]
    }
   ],
   "metadata": {}
  },
  {
   "cell_type": "code",
   "execution_count": null,
   "source": [],
   "outputs": [],
   "metadata": {}
  }
 ],
 "metadata": {
  "orig_nbformat": 4,
  "language_info": {
   "name": "python",
   "version": "3.8.8",
   "mimetype": "text/x-python",
   "codemirror_mode": {
    "name": "ipython",
    "version": 3
   },
   "pygments_lexer": "ipython3",
   "nbconvert_exporter": "python",
   "file_extension": ".py"
  },
  "kernelspec": {
   "name": "python3",
   "display_name": "Python 3.8.8 64-bit ('base': conda)"
  },
  "interpreter": {
   "hash": "c51866af5932a30ced745c559e11655979284d26a8584ef1cea07a060531f851"
  }
 },
 "nbformat": 4,
 "nbformat_minor": 2
}