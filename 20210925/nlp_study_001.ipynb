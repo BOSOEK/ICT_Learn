{
 "cells": [
  {
   "cell_type": "markdown",
   "source": [
    "# 자연어 처리 : 음성 or 텍스트 \r\n",
    "# IT에서 특히, 프로그래밍 언어에서는 텍스트 (text) -> 문자열 (string)"
   ],
   "metadata": {}
  },
  {
   "cell_type": "code",
   "execution_count": 1,
   "source": [
    "# 문자열 연결\r\n",
    "a = \"chicken\" + \"man\"\r\n",
    "a"
   ],
   "outputs": [
    {
     "output_type": "execute_result",
     "data": {
      "text/plain": [
       "'chickenman'"
      ]
     },
     "metadata": {},
     "execution_count": 1
    }
   ],
   "metadata": {}
  },
  {
   "cell_type": "code",
   "execution_count": 3,
   "source": [
    "# 문자열 slicing\r\n",
    "# 파이썬은 0-index programming language\r\n",
    "print(a[1])\r\n",
    "print(a[2:])\r\n",
    "print(a[2:-1])\r\n",
    "print(a[2:-2])"
   ],
   "outputs": [
    {
     "output_type": "stream",
     "name": "stdout",
     "text": [
      "h\n",
      "ickenman\n",
      "ickenma\n",
      "ickenm\n"
     ]
    }
   ],
   "metadata": {}
  },
  {
   "cell_type": "code",
   "execution_count": 4,
   "source": [
    "# 특정 문자나 문자열이 존재하는지 확인\r\n",
    "print(\"hi\" in a)\r\n",
    "print(\"zi\" in a)\r\n",
    "print(\"HI\" in a)\r\n",
    "print(\"HI\".lower() in a)"
   ],
   "outputs": [
    {
     "output_type": "stream",
     "name": "stdout",
     "text": [
      "True\n",
      "False\n",
      "False\n",
      "True\n"
     ]
    }
   ],
   "metadata": {}
  },
  {
   "cell_type": "code",
   "execution_count": 6,
   "source": [
    "# 특정 문자열로 문장이 시작되거나 끝나는지 확인\r\n",
    "print(a.startswith(\"ch\"))\r\n",
    "print(a.startswith(\"cha\"))\r\n",
    "print(a.endswith(\"man\"))"
   ],
   "outputs": [
    {
     "output_type": "stream",
     "name": "stdout",
     "text": [
      "True\n",
      "False\n",
      "True\n"
     ]
    }
   ],
   "metadata": {}
  },
  {
   "cell_type": "code",
   "execution_count": 7,
   "source": [
    "print(a)\r\n",
    "print(a[3])"
   ],
   "outputs": [
    {
     "output_type": "stream",
     "name": "stdout",
     "text": [
      "chickenman\n",
      "c\n"
     ]
    }
   ],
   "metadata": {}
  },
  {
   "cell_type": "code",
   "execution_count": 8,
   "source": [
    "# 파이썬에서 문자열은 immutable이다!\r\n",
    "# 즉, 변경이 불가하다!\r\n",
    "a[3] = \"X\""
   ],
   "outputs": [
    {
     "output_type": "error",
     "ename": "TypeError",
     "evalue": "'str' object does not support item assignment",
     "traceback": [
      "\u001b[1;31m---------------------------------------------------------------------------\u001b[0m",
      "\u001b[1;31mTypeError\u001b[0m                                 Traceback (most recent call last)",
      "\u001b[1;32m~\\AppData\\Local\\Temp/ipykernel_4428/708451322.py\u001b[0m in \u001b[0;36m<module>\u001b[1;34m\u001b[0m\n\u001b[1;32m----> 1\u001b[1;33m \u001b[0ma\u001b[0m\u001b[1;33m[\u001b[0m\u001b[1;36m3\u001b[0m\u001b[1;33m]\u001b[0m \u001b[1;33m=\u001b[0m \u001b[1;34m\"X\"\u001b[0m\u001b[1;33m\u001b[0m\u001b[1;33m\u001b[0m\u001b[0m\n\u001b[0m",
      "\u001b[1;31mTypeError\u001b[0m: 'str' object does not support item assignment"
     ]
    }
   ],
   "metadata": {}
  },
  {
   "cell_type": "code",
   "execution_count": 9,
   "source": [
    "tuple_example = (1, 2, 3)\r\n",
    "tuple_example[1]"
   ],
   "outputs": [
    {
     "output_type": "execute_result",
     "data": {
      "text/plain": [
       "2"
      ]
     },
     "metadata": {},
     "execution_count": 9
    }
   ],
   "metadata": {}
  },
  {
   "cell_type": "code",
   "execution_count": 10,
   "source": [
    "tuple_example[1] = 4"
   ],
   "outputs": [
    {
     "output_type": "error",
     "ename": "TypeError",
     "evalue": "'tuple' object does not support item assignment",
     "traceback": [
      "\u001b[1;31m---------------------------------------------------------------------------\u001b[0m",
      "\u001b[1;31mTypeError\u001b[0m                                 Traceback (most recent call last)",
      "\u001b[1;32m~\\AppData\\Local\\Temp/ipykernel_4428/464162708.py\u001b[0m in \u001b[0;36m<module>\u001b[1;34m\u001b[0m\n\u001b[1;32m----> 1\u001b[1;33m \u001b[0mtuple_example\u001b[0m\u001b[1;33m[\u001b[0m\u001b[1;36m1\u001b[0m\u001b[1;33m]\u001b[0m \u001b[1;33m=\u001b[0m \u001b[1;36m4\u001b[0m\u001b[1;33m\u001b[0m\u001b[1;33m\u001b[0m\u001b[0m\n\u001b[0m",
      "\u001b[1;31mTypeError\u001b[0m: 'tuple' object does not support item assignment"
     ]
    }
   ],
   "metadata": {}
  },
  {
   "cell_type": "code",
   "execution_count": 11,
   "source": [
    "new_string = a[:3] + \"X\" + a[4:]\r\n",
    "print(new_string)\r\n",
    "print(a)"
   ],
   "outputs": [
    {
     "output_type": "stream",
     "name": "stdout",
     "text": [
      "chiXkenman\n",
      "chickenman\n"
     ]
    }
   ],
   "metadata": {}
  },
  {
   "cell_type": "code",
   "execution_count": 15,
   "source": [
    "# 문자열을 나누어 보자! \r\n",
    "word_list = \"I love to drive cars.\".split(\" \")\r\n",
    "print(word_list)\r\n",
    "print(type(word_list))"
   ],
   "outputs": [
    {
     "output_type": "stream",
     "name": "stdout",
     "text": [
      "['I', 'love', 'to', 'drive', 'cars.']\n",
      "<class 'list'>\n"
     ]
    }
   ],
   "metadata": {}
  },
  {
   "cell_type": "code",
   "execution_count": 22,
   "source": [
    "# 문장의 끝에 있을 수 있는 개행문자를 제거\r\n",
    "return_at_end = \"Hi there.\\n\"\r\n",
    "print(return_at_end)\r\n",
    "print(\"Next line.\")\r\n",
    "print(return_at_end.strip())\r\n",
    "print(\"Next line.\")"
   ],
   "outputs": [
    {
     "output_type": "stream",
     "name": "stdout",
     "text": [
      "Hi there.\n",
      "\n",
      "Next line.\n",
      "Hi there.\n",
      "Next line.\n"
     ]
    }
   ],
   "metadata": {}
  },
  {
   "cell_type": "code",
   "execution_count": 23,
   "source": [
    "# 문자열의 특정 부분의 교체\r\n",
    "new_string = \"I love tacos.\".replace(\"love\", \"enjoy\")\r\n",
    "print(new_string)"
   ],
   "outputs": [
    {
     "output_type": "stream",
     "name": "stdout",
     "text": [
      "I enjoy tacos.\n"
     ]
    }
   ],
   "metadata": {}
  },
  {
   "cell_type": "code",
   "execution_count": 27,
   "source": [
    "# 파이썬에서는 '' 든 \"\" 는 모두 문자열로 처리\r\n",
    "# 통일이 되도록 사용\r\n",
    "# '''''' 이나 \"\"\"\"\"\"는 여러개 문자열을 보관하기 위한 방법\r\n",
    "a = 'bob'\r\n",
    "b = \"tom\"\r\n",
    "c = '''frank'''\r\n",
    "d = \"\"\"fran\"\"\"\r\n",
    "print(a)\r\n",
    "print(b)\r\n",
    "print(c)\r\n",
    "print(d)"
   ],
   "outputs": [
    {
     "output_type": "stream",
     "name": "stdout",
     "text": [
      "bob\n",
      "tom\n",
      "frank\n",
      "fran\n"
     ]
    }
   ],
   "metadata": {}
  },
  {
   "cell_type": "code",
   "execution_count": 28,
   "source": [
    "# 이제 escape character가 필요한 시점\r\n",
    "print('I can't believe it.')"
   ],
   "outputs": [
    {
     "output_type": "error",
     "ename": "SyntaxError",
     "evalue": "invalid syntax (Temp/ipykernel_4428/4124891155.py, line 2)",
     "traceback": [
      "\u001b[1;36m  File \u001b[1;32m\"C:\\Users\\fermat39\\AppData\\Local\\Temp/ipykernel_4428/4124891155.py\"\u001b[1;36m, line \u001b[1;32m2\u001b[0m\n\u001b[1;33m    print('I can't believe it.')\u001b[0m\n\u001b[1;37m                 ^\u001b[0m\n\u001b[1;31mSyntaxError\u001b[0m\u001b[1;31m:\u001b[0m invalid syntax\n"
     ]
    }
   ],
   "metadata": {}
  },
  {
   "cell_type": "code",
   "execution_count": 30,
   "source": [
    "print(\"I can't believe it.\")\r\n",
    "print('I can\\'t believe it.')"
   ],
   "outputs": [
    {
     "output_type": "stream",
     "name": "stdout",
     "text": [
      "I can't believe it.\n",
      "I can't believe it.\n"
     ]
    }
   ],
   "metadata": {}
  },
  {
   "cell_type": "markdown",
   "source": [
    "# 문자열 (string)은 문자 (character)들의 모임\r\n",
    "# 문자열을 immutable, 즉 변경이 불가하다!"
   ],
   "metadata": {}
  },
  {
   "cell_type": "markdown",
   "source": [],
   "metadata": {}
  }
 ],
 "metadata": {
  "orig_nbformat": 4,
  "language_info": {
   "name": "python",
   "version": "3.9.7",
   "mimetype": "text/x-python",
   "codemirror_mode": {
    "name": "ipython",
    "version": 3
   },
   "pygments_lexer": "ipython3",
   "nbconvert_exporter": "python",
   "file_extension": ".py"
  },
  "kernelspec": {
   "name": "python3",
   "display_name": "Python 3.9.7 64-bit ('venv_20210925': venv)"
  },
  "interpreter": {
   "hash": "1a73f05940ecfc64156ad3c5af9d7661c90053aeba3099e1b118e9f516be088c"
  }
 },
 "nbformat": 4,
 "nbformat_minor": 2
}