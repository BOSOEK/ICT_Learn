{
 "cells": [
  {
   "cell_type": "code",
   "execution_count": 16,
   "source": [
    "!python -m spacy download en_core_web_sm"
   ],
   "outputs": [
    {
     "output_type": "stream",
     "name": "stdout",
     "text": [
      "Collecting en-core-web-sm==3.1.0\n",
      "  Using cached https://github.com/explosion/spacy-models/releases/download/en_core_web_sm-3.1.0/en_core_web_sm-3.1.0-py3-none-any.whl (13.6 MB)\n",
      "Requirement already satisfied: spacy<3.2.0,>=3.1.0 in .\\venv_20210925\\lib\\site-packages (from en-core-web-sm==3.1.0) (3.1.3)\n",
      "Requirement already satisfied: murmurhash<1.1.0,>=0.28.0 in .\\venv_20210925\\lib\\site-packages (from spacy<3.2.0,>=3.1.0->en-core-web-sm==3.1.0) (1.0.5)\n",
      "Requirement already satisfied: srsly<3.0.0,>=2.4.1 in .\\venv_20210925\\lib\\site-packages (from spacy<3.2.0,>=3.1.0->en-core-web-sm==3.1.0) (2.4.1)\n",
      "Requirement already satisfied: packaging>=20.0 in .\\venv_20210925\\lib\\site-packages (from spacy<3.2.0,>=3.1.0->en-core-web-sm==3.1.0) (21.0)\n",
      "Requirement already satisfied: catalogue<2.1.0,>=2.0.6 in .\\venv_20210925\\lib\\site-packages (from spacy<3.2.0,>=3.1.0->en-core-web-sm==3.1.0) (2.0.6)\n",
      "Requirement already satisfied: blis<0.8.0,>=0.4.0 in .\\venv_20210925\\lib\\site-packages (from spacy<3.2.0,>=3.1.0->en-core-web-sm==3.1.0) (0.7.4)\n",
      "Requirement already satisfied: tqdm<5.0.0,>=4.38.0 in .\\venv_20210925\\lib\\site-packages (from spacy<3.2.0,>=3.1.0->en-core-web-sm==3.1.0) (4.62.3)\n",
      "Requirement already satisfied: wasabi<1.1.0,>=0.8.1 in .\\venv_20210925\\lib\\site-packages (from spacy<3.2.0,>=3.1.0->en-core-web-sm==3.1.0) (0.8.2)\n",
      "Requirement already satisfied: pathy>=0.3.5 in .\\venv_20210925\\lib\\site-packages (from spacy<3.2.0,>=3.1.0->en-core-web-sm==3.1.0) (0.6.0)\n",
      "Requirement already satisfied: setuptools in .\\venv_20210925\\lib\\site-packages (from spacy<3.2.0,>=3.1.0->en-core-web-sm==3.1.0) (56.0.0)\n",
      "Requirement already satisfied: typer<0.5.0,>=0.3.0 in .\\venv_20210925\\lib\\site-packages (from spacy<3.2.0,>=3.1.0->en-core-web-sm==3.1.0) (0.4.0)\n",
      "Requirement already satisfied: thinc<8.1.0,>=8.0.9 in .\\venv_20210925\\lib\\site-packages (from spacy<3.2.0,>=3.1.0->en-core-web-sm==3.1.0) (8.0.10)\n",
      "Requirement already satisfied: pydantic!=1.8,!=1.8.1,<1.9.0,>=1.7.4 in .\\venv_20210925\\lib\\site-packages (from spacy<3.2.0,>=3.1.0->en-core-web-sm==3.1.0) (1.8.2)\n",
      "Requirement already satisfied: spacy-legacy<3.1.0,>=3.0.8 in .\\venv_20210925\\lib\\site-packages (from spacy<3.2.0,>=3.1.0->en-core-web-sm==3.1.0) (3.0.8)\n",
      "Requirement already satisfied: jinja2 in .\\venv_20210925\\lib\\site-packages (from spacy<3.2.0,>=3.1.0->en-core-web-sm==3.1.0) (3.0.1)\n",
      "Requirement already satisfied: cymem<2.1.0,>=2.0.2 in .\\venv_20210925\\lib\\site-packages (from spacy<3.2.0,>=3.1.0->en-core-web-sm==3.1.0) (2.0.5)\n",
      "Requirement already satisfied: preshed<3.1.0,>=3.0.2 in .\\venv_20210925\\lib\\site-packages (from spacy<3.2.0,>=3.1.0->en-core-web-sm==3.1.0) (3.0.5)\n",
      "Requirement already satisfied: requests<3.0.0,>=2.13.0 in .\\venv_20210925\\lib\\site-packages (from spacy<3.2.0,>=3.1.0->en-core-web-sm==3.1.0) (2.26.0)\n",
      "Requirement already satisfied: numpy>=1.15.0 in .\\venv_20210925\\lib\\site-packages (from spacy<3.2.0,>=3.1.0->en-core-web-sm==3.1.0) (1.21.2)\n",
      "Requirement already satisfied: pyparsing>=2.0.2 in .\\venv_20210925\\lib\\site-packages (from packaging>=20.0->spacy<3.2.0,>=3.1.0->en-core-web-sm==3.1.0) (2.4.7)\n",
      "Requirement already satisfied: smart-open<6.0.0,>=5.0.0 in .\\venv_20210925\\lib\\site-packages (from pathy>=0.3.5->spacy<3.2.0,>=3.1.0->en-core-web-sm==3.1.0) (5.2.1)\n",
      "Requirement already satisfied: typing-extensions>=3.7.4.3 in .\\venv_20210925\\lib\\site-packages (from pydantic!=1.8,!=1.8.1,<1.9.0,>=1.7.4->spacy<3.2.0,>=3.1.0->en-core-web-sm==3.1.0) (3.10.0.2)\n",
      "Requirement already satisfied: certifi>=2017.4.17 in .\\venv_20210925\\lib\\site-packages (from requests<3.0.0,>=2.13.0->spacy<3.2.0,>=3.1.0->en-core-web-sm==3.1.0) (2021.5.30)\n",
      "Requirement already satisfied: urllib3<1.27,>=1.21.1 in .\\venv_20210925\\lib\\site-packages (from requests<3.0.0,>=2.13.0->spacy<3.2.0,>=3.1.0->en-core-web-sm==3.1.0) (1.26.7)\n",
      "Requirement already satisfied: charset-normalizer~=2.0.0 in .\\venv_20210925\\lib\\site-packages (from requests<3.0.0,>=2.13.0->spacy<3.2.0,>=3.1.0->en-core-web-sm==3.1.0) (2.0.6)\n",
      "Requirement already satisfied: idna<4,>=2.5 in .\\venv_20210925\\lib\\site-packages (from requests<3.0.0,>=2.13.0->spacy<3.2.0,>=3.1.0->en-core-web-sm==3.1.0) (3.2)\n",
      "Requirement already satisfied: colorama in .\\venv_20210925\\lib\\site-packages (from tqdm<5.0.0,>=4.38.0->spacy<3.2.0,>=3.1.0->en-core-web-sm==3.1.0) (0.4.4)\n",
      "Requirement already satisfied: click<9.0.0,>=7.1.1 in .\\venv_20210925\\lib\\site-packages (from typer<0.5.0,>=0.3.0->spacy<3.2.0,>=3.1.0->en-core-web-sm==3.1.0) (8.0.1)\n",
      "Requirement already satisfied: MarkupSafe>=2.0 in .\\venv_20210925\\lib\\site-packages (from jinja2->spacy<3.2.0,>=3.1.0->en-core-web-sm==3.1.0) (2.0.1)\n",
      "✔ Download and installation successful\n",
      "You can now load the package via spacy.load('en_core_web_sm')\n"
     ]
    },
    {
     "output_type": "stream",
     "name": "stderr",
     "text": [
      "WARNING: You are using pip version 21.1.3; however, version 21.2.4 is available.\n",
      "You should consider upgrading via the 'C:\\20210925\\venv_20210925\\Scripts\\python.exe -m pip install --upgrade pip' command.\n"
     ]
    }
   ],
   "metadata": {}
  },
  {
   "cell_type": "code",
   "execution_count": 41,
   "source": [
    "# The structure of text\r\n",
    "import spacy\r\n",
    "\r\n",
    "token_parser = spacy.load(\"en_core_web_sm\")"
   ],
   "outputs": [],
   "metadata": {}
  },
  {
   "cell_type": "code",
   "execution_count": 42,
   "source": [
    "tokens = token_parser(\"She ran\")\r\n",
    "tokens, type(tokens), len(tokens)"
   ],
   "outputs": [
    {
     "output_type": "execute_result",
     "data": {
      "text/plain": [
       "(She ran, spacy.tokens.doc.Doc, 2)"
      ]
     },
     "metadata": {},
     "execution_count": 42
    }
   ],
   "metadata": {}
  },
  {
   "cell_type": "code",
   "execution_count": 43,
   "source": [
    "tokens[0], tokens[1]"
   ],
   "outputs": [
    {
     "output_type": "execute_result",
     "data": {
      "text/plain": [
       "(She, ran)"
      ]
     },
     "metadata": {},
     "execution_count": 43
    }
   ],
   "metadata": {}
  },
  {
   "cell_type": "code",
   "execution_count": 44,
   "source": [
    "dir(tokens[0]), dir(tokens[1])"
   ],
   "outputs": [
    {
     "output_type": "execute_result",
     "data": {
      "text/plain": [
       "(['_',\n",
       "  '__bytes__',\n",
       "  '__class__',\n",
       "  '__delattr__',\n",
       "  '__dir__',\n",
       "  '__doc__',\n",
       "  '__eq__',\n",
       "  '__format__',\n",
       "  '__ge__',\n",
       "  '__getattribute__',\n",
       "  '__gt__',\n",
       "  '__hash__',\n",
       "  '__init__',\n",
       "  '__init_subclass__',\n",
       "  '__le__',\n",
       "  '__len__',\n",
       "  '__lt__',\n",
       "  '__ne__',\n",
       "  '__new__',\n",
       "  '__pyx_vtable__',\n",
       "  '__reduce__',\n",
       "  '__reduce_ex__',\n",
       "  '__repr__',\n",
       "  '__setattr__',\n",
       "  '__sizeof__',\n",
       "  '__str__',\n",
       "  '__subclasshook__',\n",
       "  '__unicode__',\n",
       "  'ancestors',\n",
       "  'check_flag',\n",
       "  'children',\n",
       "  'cluster',\n",
       "  'conjuncts',\n",
       "  'dep',\n",
       "  'dep_',\n",
       "  'doc',\n",
       "  'ent_id',\n",
       "  'ent_id_',\n",
       "  'ent_iob',\n",
       "  'ent_iob_',\n",
       "  'ent_kb_id',\n",
       "  'ent_kb_id_',\n",
       "  'ent_type',\n",
       "  'ent_type_',\n",
       "  'get_extension',\n",
       "  'has_dep',\n",
       "  'has_extension',\n",
       "  'has_head',\n",
       "  'has_morph',\n",
       "  'has_vector',\n",
       "  'head',\n",
       "  'i',\n",
       "  'idx',\n",
       "  'iob_strings',\n",
       "  'is_alpha',\n",
       "  'is_ancestor',\n",
       "  'is_ascii',\n",
       "  'is_bracket',\n",
       "  'is_currency',\n",
       "  'is_digit',\n",
       "  'is_left_punct',\n",
       "  'is_lower',\n",
       "  'is_oov',\n",
       "  'is_punct',\n",
       "  'is_quote',\n",
       "  'is_right_punct',\n",
       "  'is_sent_end',\n",
       "  'is_sent_start',\n",
       "  'is_space',\n",
       "  'is_stop',\n",
       "  'is_title',\n",
       "  'is_upper',\n",
       "  'lang',\n",
       "  'lang_',\n",
       "  'left_edge',\n",
       "  'lefts',\n",
       "  'lemma',\n",
       "  'lemma_',\n",
       "  'lex',\n",
       "  'lex_id',\n",
       "  'like_email',\n",
       "  'like_num',\n",
       "  'like_url',\n",
       "  'lower',\n",
       "  'lower_',\n",
       "  'morph',\n",
       "  'n_lefts',\n",
       "  'n_rights',\n",
       "  'nbor',\n",
       "  'norm',\n",
       "  'norm_',\n",
       "  'orth',\n",
       "  'orth_',\n",
       "  'pos',\n",
       "  'pos_',\n",
       "  'prefix',\n",
       "  'prefix_',\n",
       "  'prob',\n",
       "  'rank',\n",
       "  'remove_extension',\n",
       "  'right_edge',\n",
       "  'rights',\n",
       "  'sent',\n",
       "  'sent_start',\n",
       "  'sentiment',\n",
       "  'set_extension',\n",
       "  'set_morph',\n",
       "  'shape',\n",
       "  'shape_',\n",
       "  'similarity',\n",
       "  'subtree',\n",
       "  'suffix',\n",
       "  'suffix_',\n",
       "  'tag',\n",
       "  'tag_',\n",
       "  'tensor',\n",
       "  'text',\n",
       "  'text_with_ws',\n",
       "  'vector',\n",
       "  'vector_norm',\n",
       "  'vocab',\n",
       "  'whitespace_'],\n",
       " ['_',\n",
       "  '__bytes__',\n",
       "  '__class__',\n",
       "  '__delattr__',\n",
       "  '__dir__',\n",
       "  '__doc__',\n",
       "  '__eq__',\n",
       "  '__format__',\n",
       "  '__ge__',\n",
       "  '__getattribute__',\n",
       "  '__gt__',\n",
       "  '__hash__',\n",
       "  '__init__',\n",
       "  '__init_subclass__',\n",
       "  '__le__',\n",
       "  '__len__',\n",
       "  '__lt__',\n",
       "  '__ne__',\n",
       "  '__new__',\n",
       "  '__pyx_vtable__',\n",
       "  '__reduce__',\n",
       "  '__reduce_ex__',\n",
       "  '__repr__',\n",
       "  '__setattr__',\n",
       "  '__sizeof__',\n",
       "  '__str__',\n",
       "  '__subclasshook__',\n",
       "  '__unicode__',\n",
       "  'ancestors',\n",
       "  'check_flag',\n",
       "  'children',\n",
       "  'cluster',\n",
       "  'conjuncts',\n",
       "  'dep',\n",
       "  'dep_',\n",
       "  'doc',\n",
       "  'ent_id',\n",
       "  'ent_id_',\n",
       "  'ent_iob',\n",
       "  'ent_iob_',\n",
       "  'ent_kb_id',\n",
       "  'ent_kb_id_',\n",
       "  'ent_type',\n",
       "  'ent_type_',\n",
       "  'get_extension',\n",
       "  'has_dep',\n",
       "  'has_extension',\n",
       "  'has_head',\n",
       "  'has_morph',\n",
       "  'has_vector',\n",
       "  'head',\n",
       "  'i',\n",
       "  'idx',\n",
       "  'iob_strings',\n",
       "  'is_alpha',\n",
       "  'is_ancestor',\n",
       "  'is_ascii',\n",
       "  'is_bracket',\n",
       "  'is_currency',\n",
       "  'is_digit',\n",
       "  'is_left_punct',\n",
       "  'is_lower',\n",
       "  'is_oov',\n",
       "  'is_punct',\n",
       "  'is_quote',\n",
       "  'is_right_punct',\n",
       "  'is_sent_end',\n",
       "  'is_sent_start',\n",
       "  'is_space',\n",
       "  'is_stop',\n",
       "  'is_title',\n",
       "  'is_upper',\n",
       "  'lang',\n",
       "  'lang_',\n",
       "  'left_edge',\n",
       "  'lefts',\n",
       "  'lemma',\n",
       "  'lemma_',\n",
       "  'lex',\n",
       "  'lex_id',\n",
       "  'like_email',\n",
       "  'like_num',\n",
       "  'like_url',\n",
       "  'lower',\n",
       "  'lower_',\n",
       "  'morph',\n",
       "  'n_lefts',\n",
       "  'n_rights',\n",
       "  'nbor',\n",
       "  'norm',\n",
       "  'norm_',\n",
       "  'orth',\n",
       "  'orth_',\n",
       "  'pos',\n",
       "  'pos_',\n",
       "  'prefix',\n",
       "  'prefix_',\n",
       "  'prob',\n",
       "  'rank',\n",
       "  'remove_extension',\n",
       "  'right_edge',\n",
       "  'rights',\n",
       "  'sent',\n",
       "  'sent_start',\n",
       "  'sentiment',\n",
       "  'set_extension',\n",
       "  'set_morph',\n",
       "  'shape',\n",
       "  'shape_',\n",
       "  'similarity',\n",
       "  'subtree',\n",
       "  'suffix',\n",
       "  'suffix_',\n",
       "  'tag',\n",
       "  'tag_',\n",
       "  'tensor',\n",
       "  'text',\n",
       "  'text_with_ws',\n",
       "  'vector',\n",
       "  'vector_norm',\n",
       "  'vocab',\n",
       "  'whitespace_'])"
      ]
     },
     "metadata": {},
     "execution_count": 44
    }
   ],
   "metadata": {}
  },
  {
   "cell_type": "code",
   "execution_count": 47,
   "source": [
    "def show_POS(text):\r\n",
    "    tokens = token_parser(text)\r\n",
    "    for token in tokens:\r\n",
    "        print(\"{} : {}\".format(token.orth_, token.pos_))\r\n",
    "        # print(f\"{token.orth_} : {token.pos_}\")"
   ],
   "outputs": [],
   "metadata": {}
  },
  {
   "cell_type": "code",
   "execution_count": 48,
   "source": [
    "print(show_POS(\"She hit the wall.\"))"
   ],
   "outputs": [
    {
     "output_type": "stream",
     "name": "stdout",
     "text": [
      "She : PRON\n",
      "hit : VERB\n",
      "the : DET\n",
      "wall : NOUN\n",
      ". : PUNCT\n",
      "None\n"
     ]
    }
   ],
   "metadata": {}
  },
  {
   "cell_type": "code",
   "execution_count": 53,
   "source": [
    "def show_dep(text):\r\n",
    "    tokens = token_parser(text)\r\n",
    "    for token in tokens:\r\n",
    "        print(\"{} : {} : {} : {}\".format(token.orth_, token.pos_, token.dep_, token.head))"
   ],
   "outputs": [],
   "metadata": {}
  },
  {
   "cell_type": "code",
   "execution_count": 56,
   "source": [
    "print(\"token : POS : dep. : head\")\r\n",
    "print(\"-----------------------------\")\r\n",
    "print(show_dep(\"She hit the wall.\"))"
   ],
   "outputs": [
    {
     "output_type": "stream",
     "name": "stdout",
     "text": [
      "token : POS : dep. : head\n",
      "-----------------------------\n",
      "She : PRON : nsubj : hit\n",
      "hit : VERB : ROOT : hit\n",
      "the : DET : det : wall\n",
      "wall : NOUN : dobj : hit\n",
      ". : PUNCT : punct : hit\n",
      "None\n"
     ]
    }
   ],
   "metadata": {}
  },
  {
   "cell_type": "code",
   "execution_count": 78,
   "source": [
    "def get_head_of_sentence(text):\r\n",
    "    tokens = token_parser(text)\r\n",
    "    for token in tokens:\r\n",
    "        print(token.head)\r\n",
    "        if token.head is token:\r\n",
    "            print(token.head)\r\n",
    "            return token\r\n",
    "    return None"
   ],
   "outputs": [],
   "metadata": {}
  },
  {
   "cell_type": "code",
   "execution_count": 72,
   "source": [
    "print(get_head_of_sentence(\"She hit the wall.\"))"
   ],
   "outputs": [
    {
     "output_type": "stream",
     "name": "stdout",
     "text": [
      "hit\n",
      "<class 'spacy.tokens.token.Token'>\n",
      "hit\n",
      "<class 'spacy.tokens.token.Token'>\n",
      "wall\n",
      "<class 'spacy.tokens.token.Token'>\n",
      "hit\n",
      "<class 'spacy.tokens.token.Token'>\n",
      "hit\n",
      "<class 'spacy.tokens.token.Token'>\n",
      "None\n"
     ]
    }
   ],
   "metadata": {}
  },
  {
   "cell_type": "code",
   "execution_count": 75,
   "source": [
    "def show_ents(text):\r\n",
    "    print(\"showing by token ....\")\r\n",
    "    parsed = token_parser(text)\r\n",
    "    for token in parsed:\r\n",
    "        print(token.orth_, token.ent_type_)\r\n",
    "    print()\r\n",
    "\r\n",
    "    print(\"Just showing the entities ....\")\r\n",
    "    entities = list(parsed.ents)\r\n",
    "    for entity in entities:\r\n",
    "        print(entity.label_, \" \".join(t.orth_ for t in entity))"
   ],
   "outputs": [],
   "metadata": {}
  },
  {
   "cell_type": "code",
   "execution_count": 76,
   "source": [
    "show_ents(\"I went to New York City and spoke in French.\")"
   ],
   "outputs": [
    {
     "output_type": "stream",
     "name": "stdout",
     "text": [
      "showing by token ....\n",
      "I \n",
      "went \n",
      "to \n",
      "New GPE\n",
      "York GPE\n",
      "City GPE\n",
      "and \n",
      "spoke \n",
      "in \n",
      "French LANGUAGE\n",
      ". \n",
      "\n",
      "Just showing the entities ....\n",
      "GPE New York City\n",
      "LANGUAGE French\n"
     ]
    }
   ],
   "metadata": {}
  },
  {
   "cell_type": "code",
   "execution_count": 79,
   "source": [
    "get_head_of_sentence(\"I went to New York City and spoke in French.\")"
   ],
   "outputs": [
    {
     "output_type": "stream",
     "name": "stdout",
     "text": [
      "went\n",
      "went\n",
      "went\n",
      "York\n",
      "City\n",
      "to\n",
      "went\n",
      "went\n",
      "spoke\n",
      "in\n",
      "went\n"
     ]
    }
   ],
   "metadata": {}
  },
  {
   "cell_type": "code",
   "execution_count": 80,
   "source": [
    "# NLU : Natural Language Understanding "
   ],
   "outputs": [],
   "metadata": {}
  },
  {
   "cell_type": "code",
   "execution_count": 81,
   "source": [
    "show_ents(\"I paid $50 and 50 dollars on March 12, 2016\")"
   ],
   "outputs": [
    {
     "output_type": "stream",
     "name": "stdout",
     "text": [
      "showing by token ....\n",
      "I \n",
      "paid \n",
      "$ \n",
      "50 MONEY\n",
      "and \n",
      "50 \n",
      "dollars \n",
      "on \n",
      "March DATE\n",
      "12 DATE\n",
      ", DATE\n",
      "2016 DATE\n",
      "\n",
      "Just showing the entities ....\n",
      "MONEY 50\n",
      "DATE March 12 , 2016\n"
     ]
    }
   ],
   "metadata": {}
  },
  {
   "cell_type": "code",
   "execution_count": null,
   "source": [],
   "outputs": [],
   "metadata": {}
  }
 ],
 "metadata": {
  "orig_nbformat": 4,
  "language_info": {
   "name": "python",
   "version": "3.9.6",
   "mimetype": "text/x-python",
   "codemirror_mode": {
    "name": "ipython",
    "version": 3
   },
   "pygments_lexer": "ipython3",
   "nbconvert_exporter": "python",
   "file_extension": ".py"
  },
  "kernelspec": {
   "name": "python3",
   "display_name": "Python 3.9.6 64-bit ('venv_20210925': venv)"
  },
  "interpreter": {
   "hash": "1a73f05940ecfc64156ad3c5af9d7661c90053aeba3099e1b118e9f516be088c"
  }
 },
 "nbformat": 4,
 "nbformat_minor": 2
}