{
 "cells": [
  {
   "cell_type": "markdown",
   "source": [
    "# 문서 -> 문장 -> 토큰 : 자연어 처리를 할 수 있는 데이터가 준비!\r\n",
    "# 자연어 처리를 하기 위한 최소한의 단위 (unit)가 준비가 되어 있는데...\r\n",
    "# 문제는 이 토큰이 숫자가 아니라 문자열이라는 것!\r\n",
    "# 사람은 문자를 인식할 수 있지만, 컴퓨터는 모든 것을 숫자로 처리!\r\n",
    "# 우리는 그래서 토큰을 숫자화 시키는 과정이 필요!\r\n",
    "# 문서나 단어를 벡터 (vector)로 변환!\r\n",
    "# 이런 벡터로 변환이 되면 단어들간의 거리를 비교할 수 있습니다.\r\n",
    "# 즉, 이를 통해서 우리는 유서 문장이나 단어를 찾을 수 있습니다."
   ],
   "metadata": {}
  },
  {
   "cell_type": "code",
   "execution_count": 1,
   "source": [
    "!pip install gensim"
   ],
   "outputs": [
    {
     "output_type": "stream",
     "name": "stdout",
     "text": [
      "Collecting gensim\n",
      "  Downloading gensim-4.1.2-cp39-cp39-win_amd64.whl (24.0 MB)\n",
      "Requirement already satisfied: smart-open>=1.8.1 in .\\venv_20210925\\lib\\site-packages (from gensim) (5.2.1)\n",
      "Collecting Cython==0.29.23\n",
      "  Downloading Cython-0.29.23-cp39-cp39-win_amd64.whl (1.7 MB)\n",
      "Requirement already satisfied: numpy>=1.17.0 in .\\venv_20210925\\lib\\site-packages (from gensim) (1.21.2)\n",
      "Collecting scipy>=0.18.1\n",
      "  Using cached scipy-1.7.1-cp39-cp39-win_amd64.whl (33.8 MB)\n",
      "Installing collected packages: scipy, Cython, gensim\n",
      "Successfully installed Cython-0.29.23 gensim-4.1.2 scipy-1.7.1\n"
     ]
    },
    {
     "output_type": "stream",
     "name": "stderr",
     "text": [
      "WARNING: You are using pip version 21.2.3; however, version 21.2.4 is available.\n",
      "You should consider upgrading via the 'C:\\20210925\\venv_20210925\\Scripts\\python.exe -m pip install --upgrade pip' command.\n"
     ]
    }
   ],
   "metadata": {}
  },
  {
   "cell_type": "code",
   "execution_count": 2,
   "source": [
    "import gensim"
   ],
   "outputs": [],
   "metadata": {}
  },
  {
   "cell_type": "code",
   "execution_count": 42,
   "source": [
    "raw_documents = [\r\n",
    "    'I love tacos.',\r\n",
    "    'She ran with the chicken.',\r\n",
    "    'I don’t choose to take a nap. The nap chooses me.',\r\n",
    "    'That man is nice as pie with ice cream.',\r\n",
    "    'This pizza is an affront to nature.'\r\n",
    "]"
   ],
   "outputs": [],
   "metadata": {}
  },
  {
   "cell_type": "code",
   "execution_count": 43,
   "source": [
    "from nltk.tokenize import word_tokenize"
   ],
   "outputs": [],
   "metadata": {}
  },
  {
   "cell_type": "code",
   "execution_count": 44,
   "source": [
    "def get_tokens(text):\r\n",
    "    tokens = word_tokenize(text)\r\n",
    "    return tokens"
   ],
   "outputs": [],
   "metadata": {}
  },
  {
   "cell_type": "code",
   "execution_count": 45,
   "source": [
    "gen_docs = [ get_tokens(text) for text in raw_documents]\r\n",
    "print(gen_docs)"
   ],
   "outputs": [
    {
     "output_type": "stream",
     "name": "stdout",
     "text": [
      "[['I', 'love', 'tacos', '.'], ['She', 'ran', 'with', 'the', 'chicken', '.'], ['I', 'don', '’', 't', 'choose', 'to', 'take', 'a', 'nap', '.', 'The', 'nap', 'chooses', 'me', '.'], ['That', 'man', 'is', 'nice', 'as', 'pie', 'with', 'ice', 'cream', '.'], ['This', 'pizza', 'is', 'an', 'affront', 'to', 'nature', '.']]\n"
     ]
    }
   ],
   "metadata": {}
  },
  {
   "cell_type": "code",
   "execution_count": 46,
   "source": [
    "dictionary = gensim.corpora.Dictionary(gen_docs)\r\n",
    "num_words = len(dictionary)\r\n",
    "print(f\"dictionary에 있는 단어의 수는 {num_words} {type(dictionary)}\")"
   ],
   "outputs": [
    {
     "output_type": "stream",
     "name": "stdout",
     "text": [
      "dictionary에 있는 단어의 수는 33 <class 'gensim.corpora.dictionary.Dictionary'>\n"
     ]
    }
   ],
   "metadata": {}
  },
  {
   "cell_type": "code",
   "execution_count": 47,
   "source": [
    "for idx, word in dictionary.items():\r\n",
    "    print(idx, word)"
   ],
   "outputs": [
    {
     "output_type": "stream",
     "name": "stdout",
     "text": [
      "0 .\n",
      "1 I\n",
      "2 love\n",
      "3 tacos\n",
      "4 She\n",
      "5 chicken\n",
      "6 ran\n",
      "7 the\n",
      "8 with\n",
      "9 The\n",
      "10 a\n",
      "11 choose\n",
      "12 chooses\n",
      "13 don\n",
      "14 me\n",
      "15 nap\n",
      "16 t\n",
      "17 take\n",
      "18 to\n",
      "19 ’\n",
      "20 That\n",
      "21 as\n",
      "22 cream\n",
      "23 ice\n",
      "24 is\n",
      "25 man\n",
      "26 nice\n",
      "27 pie\n",
      "28 This\n",
      "29 affront\n",
      "30 an\n",
      "31 nature\n",
      "32 pizza\n"
     ]
    }
   ],
   "metadata": {}
  },
  {
   "cell_type": "code",
   "execution_count": 48,
   "source": [
    "print(dictionary[7])\r\n",
    "print(dictionary.id2token[7])"
   ],
   "outputs": [
    {
     "output_type": "stream",
     "name": "stdout",
     "text": [
      "the\n",
      "the\n"
     ]
    }
   ],
   "metadata": {}
  },
  {
   "cell_type": "code",
   "execution_count": 49,
   "source": [
    "print(dictionary.token2id[\"ran\"])"
   ],
   "outputs": [
    {
     "output_type": "stream",
     "name": "stdout",
     "text": [
      "6\n"
     ]
    }
   ],
   "metadata": {}
  },
  {
   "cell_type": "code",
   "execution_count": 50,
   "source": [
    "# bag of words를 생성!\r\n",
    "# bag of words는 단어들의 빈도 (tf : term frequence)를 의미!\r\n",
    "# 순서는 의미가 없다! 왜? bag of words를 이루는 tuple이 단어의 인덱스를 가진다!\r\n",
    "# dictionary에 존재하는 단어들만 처리가 된다\r\n",
    "\r\n",
    "bow_doc = dictionary.doc2bow([\"I\", \"love\", \"love\", \"love\", \"tacos\", \"Korea\", \"!\"])\r\n",
    "print(bow_doc)\r\n",
    "print(type(bow_doc))"
   ],
   "outputs": [
    {
     "output_type": "stream",
     "name": "stdout",
     "text": [
      "[(1, 1), (2, 3), (3, 1)]\n",
      "<class 'list'>\n"
     ]
    }
   ],
   "metadata": {}
  },
  {
   "cell_type": "code",
   "execution_count": 51,
   "source": [
    "corpus = [ dictionary.doc2bow(gen_doc) for gen_doc in gen_docs ] \r\n",
    "print(corpus)"
   ],
   "outputs": [
    {
     "output_type": "stream",
     "name": "stdout",
     "text": [
      "[[(0, 1), (1, 1), (2, 1), (3, 1)], [(0, 1), (4, 1), (5, 1), (6, 1), (7, 1), (8, 1)], [(0, 2), (1, 1), (9, 1), (10, 1), (11, 1), (12, 1), (13, 1), (14, 1), (15, 2), (16, 1), (17, 1), (18, 1), (19, 1)], [(0, 1), (8, 1), (20, 1), (21, 1), (22, 1), (23, 1), (24, 1), (25, 1), (26, 1), (27, 1)], [(0, 1), (18, 1), (24, 1), (28, 1), (29, 1), (30, 1), (31, 1), (32, 1)]]\n"
     ]
    }
   ],
   "metadata": {}
  },
  {
   "cell_type": "code",
   "execution_count": 52,
   "source": [
    "tf_idf = gensim.models.TfidfModel(corpus)\r\n",
    "print(tf_idf)"
   ],
   "outputs": [
    {
     "output_type": "stream",
     "name": "stdout",
     "text": [
      "TfidfModel(num_docs=5, num_nnz=41)\n"
     ]
    }
   ],
   "metadata": {}
  },
  {
   "cell_type": "markdown",
   "source": [
    "0 .\r\n",
    "1 I\r\n",
    "2 love\r\n",
    "3 tacos"
   ],
   "metadata": {}
  },
  {
   "cell_type": "code",
   "execution_count": 53,
   "source": [
    "# .의 경우 log_2(1) = 0\r\n",
    "print(gen_docs[0])\r\n",
    "print(corpus[0])\r\n",
    "print(tf_idf[corpus][0])"
   ],
   "outputs": [
    {
     "output_type": "stream",
     "name": "stdout",
     "text": [
      "['I', 'love', 'tacos', '.']\n",
      "[(0, 1), (1, 1), (2, 1), (3, 1)]\n",
      "[(1, 0.37344696513776354), (2, 0.6559486886294514), (3, 0.6559486886294514)]\n"
     ]
    }
   ],
   "metadata": {}
  },
  {
   "cell_type": "markdown",
   "source": [
    "0 .\r\n",
    "1 I\r\n",
    "2 love\r\n",
    "32 pizza"
   ],
   "metadata": {}
  },
  {
   "cell_type": "code",
   "execution_count": 55,
   "source": [
    "bow = dictionary.doc2bow([\"I\", \"love\", \"pizza\", \".\"])\r\n",
    "print(bow)\r\n",
    "print(tf_idf[bow])"
   ],
   "outputs": [
    {
     "output_type": "stream",
     "name": "stdout",
     "text": [
      "[(0, 1), (1, 1), (2, 1), (32, 1)]\n",
      "[(1, 0.37344696513776354), (2, 0.6559486886294514), (32, 0.6559486886294514)]\n"
     ]
    }
   ],
   "metadata": {}
  },
  {
   "cell_type": "markdown",
   "source": [
    "raw_documents = [\r\n",
    "    'I love tacos.',\r\n",
    "    'She ran with the chicken.',\r\n",
    "    'I don’t choose to take a nap. The nap chooses me.',\r\n",
    "    'That man is nice as pie with ice cream.',\r\n",
    "    'This pizza is an affront to nature.'\r\n",
    "]\r\n",
    "\r\n",
    "2 love\r\n",
    "3 tacos\r\n",
    "5 chicken\r\n",
    "8 with"
   ],
   "metadata": {}
  },
  {
   "cell_type": "code",
   "execution_count": 58,
   "source": [
    "query_doc = \"chicken with tacos love\".split()\r\n",
    "print(query_doc)\r\n",
    "query_doc_bow = dictionary.doc2bow(query_doc)\r\n",
    "print(query_doc_bow)\r\n",
    "query_doc_tf_idf = tf_idf[query_doc_bow]\r\n",
    "print(query_doc_tf_idf)"
   ],
   "outputs": [
    {
     "output_type": "stream",
     "name": "stdout",
     "text": [
      "['chicken', 'with', 'tacos', 'love']\n",
      "[(2, 1), (3, 1), (5, 1), (8, 1)]\n",
      "[(2, 0.5484803253891997), (3, 0.5484803253891997), (5, 0.5484803253891997), (8, 0.31226270667960454)]\n"
     ]
    }
   ],
   "metadata": {}
  },
  {
   "cell_type": "code",
   "execution_count": 61,
   "source": [
    "sims = gensim.similarities.Similarity(\".\", tf_idf[corpus], num_features=len(dictionary))"
   ],
   "outputs": [],
   "metadata": {}
  },
  {
   "cell_type": "code",
   "execution_count": 62,
   "source": [
    "sims[query_doc_tf_idf]"
   ],
   "outputs": [
    {
     "output_type": "execute_result",
     "data": {
      "text/plain": [
       "array([0.7195499 , 0.34925455, 0.        , 0.06428327, 0.        ],\n",
       "      dtype=float32)"
      ]
     },
     "metadata": {},
     "execution_count": 62
    }
   ],
   "metadata": {}
  },
  {
   "cell_type": "code",
   "execution_count": null,
   "source": [],
   "outputs": [],
   "metadata": {}
  }
 ],
 "metadata": {
  "orig_nbformat": 4,
  "language_info": {
   "name": "python",
   "version": "3.9.7",
   "mimetype": "text/x-python",
   "codemirror_mode": {
    "name": "ipython",
    "version": 3
   },
   "pygments_lexer": "ipython3",
   "nbconvert_exporter": "python",
   "file_extension": ".py"
  },
  "kernelspec": {
   "name": "python3",
   "display_name": "Python 3.9.7 64-bit ('venv_20210925': venv)"
  },
  "interpreter": {
   "hash": "1a73f05940ecfc64156ad3c5af9d7661c90053aeba3099e1b118e9f516be088c"
  }
 },
 "nbformat": 4,
 "nbformat_minor": 2
}