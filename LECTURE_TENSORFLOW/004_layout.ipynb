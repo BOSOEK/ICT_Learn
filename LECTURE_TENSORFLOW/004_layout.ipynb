{
 "cells": [
  {
   "cell_type": "code",
   "execution_count": null,
   "source": [
    "## 004_layout.ipynb"
   ],
   "outputs": [],
   "metadata": {}
  },
  {
   "cell_type": "code",
   "execution_count": 1,
   "source": [
    "import PySimpleGUI as sg"
   ],
   "outputs": [],
   "metadata": {}
  },
  {
   "cell_type": "code",
   "execution_count": 2,
   "source": [
    "layout = [\r\n",
    "    [sg.T(\"Task-1\"), sg.I(key = \"-IN1-\")],\r\n",
    "    [sg.T(\"Task-2\"), sg.I(key = \"-IN2-\")],\r\n",
    "    [sg.T(\"Task-3\"), sg.I(key = \"-IN3-\")],\r\n",
    "    [sg.T(\"Task-4\"), sg.I(key = \"-IN4-\")],\r\n",
    "    [sg.T(\"Task-5\"), sg.I(key = \"-IN5-\")],\r\n",
    "    [sg.T(\"Task-6\"), sg.I(key = \"-IN6-\")],\r\n",
    "    [sg.Ok(), sg.Cancel()]\r\n",
    "]"
   ],
   "outputs": [],
   "metadata": {}
  },
  {
   "cell_type": "code",
   "execution_count": 3,
   "source": [
    "window = sg.Window(\"Tasks\", layout)"
   ],
   "outputs": [],
   "metadata": {}
  },
  {
   "cell_type": "code",
   "execution_count": 4,
   "source": [
    "event, values = window.read()\r\n",
    "window.close()\r\n",
    "print(event, values)"
   ],
   "outputs": [
    {
     "output_type": "stream",
     "name": "stdout",
     "text": [
      "Ok {'-IN1-': '1', '-IN2-': '2', '-IN3-': '3', '-IN4-': '4', '-IN5-': '5', '-IN6-': '6'}\n"
     ]
    }
   ],
   "metadata": {}
  },
  {
   "cell_type": "code",
   "execution_count": 18,
   "source": [
    "layout = []"
   ],
   "outputs": [],
   "metadata": {}
  },
  {
   "cell_type": "code",
   "execution_count": 19,
   "source": [
    "for i in range(1, 7):\r\n",
    "    layout += [sg.T(f\"Task-{i}\"), sg.I(key=f\"-IN{i}-\")],\r\n",
    "layout += [[sg.Ok(), sg.Cancel()]]"
   ],
   "outputs": [],
   "metadata": {}
  },
  {
   "cell_type": "code",
   "execution_count": 20,
   "source": [
    "window = sg.Window(\"Tasks\", layout)"
   ],
   "outputs": [],
   "metadata": {}
  },
  {
   "cell_type": "code",
   "execution_count": 21,
   "source": [
    "event, values = window.read()\r\n",
    "window.close()\r\n",
    "print(event, values)"
   ],
   "outputs": [
    {
     "output_type": "stream",
     "name": "stdout",
     "text": [
      "Ok {'-IN1-': '11', '-IN2-': '22', '-IN3-': '33', '-IN4-': '44', '-IN5-': '55', '-IN6-': '66'}\n"
     ]
    }
   ],
   "metadata": {}
  },
  {
   "cell_type": "code",
   "execution_count": 22,
   "source": [
    "layout = [ [sg.T(f\"Task-{i}\"), sg.I(key=f\"-IN{i}-\")] for i in range(1, 7) ]\r\n",
    "layout += [[sg.Ok(), sg.Cancel()]]"
   ],
   "outputs": [],
   "metadata": {}
  },
  {
   "cell_type": "code",
   "execution_count": 23,
   "source": [
    "window = sg.Window(\"Tasks\", layout)"
   ],
   "outputs": [],
   "metadata": {}
  },
  {
   "cell_type": "code",
   "execution_count": 24,
   "source": [
    "event, values = window.read()\r\n",
    "window.close()\r\n",
    "print(event, values)"
   ],
   "outputs": [
    {
     "output_type": "stream",
     "name": "stdout",
     "text": [
      "Ok {'-IN1-': 'aa', '-IN2-': 'bb', '-IN3-': 'cc', '-IN4-': 'dd', '-IN5-': 'ee', '-IN6-': 'ff'}\n"
     ]
    }
   ],
   "metadata": {}
  },
  {
   "cell_type": "code",
   "execution_count": 25,
   "source": [
    "def create_row(idx, vals):\r\n",
    "    return [\r\n",
    "        sg.T(f\"Item-{idx}\", size = (8, 1)), \r\n",
    "        sg.Combo(values=vals, default_value=vals[0], size=(3, 1)),\r\n",
    "        sg.I(key=f\"-IN{idx}-\")\r\n",
    "    ]"
   ],
   "outputs": [],
   "metadata": {}
  },
  {
   "cell_type": "code",
   "execution_count": 26,
   "source": [
    "values = list(\"ABCDEF\")\r\n",
    "layout = [create_row(i, values) for i in range(11)]\r\n",
    "layout += [[sg.Ok(), sg.Cancel()]]"
   ],
   "outputs": [],
   "metadata": {}
  },
  {
   "cell_type": "code",
   "execution_count": 27,
   "source": [
    "window = sg.Window(\"Tasks\", layout)"
   ],
   "outputs": [],
   "metadata": {}
  },
  {
   "cell_type": "code",
   "execution_count": 28,
   "source": [
    "event, values = window.read()\r\n",
    "window.close()\r\n",
    "print(event, values)"
   ],
   "outputs": [
    {
     "output_type": "stream",
     "name": "stdout",
     "text": [
      "Ok {0: 'C', '-IN0-': 'asdf', 1: 'A', '-IN1-': '', 2: 'A', '-IN2-': 'asdf', 3: 'E', '-IN3-': '', 4: 'A', '-IN4-': '', 5: 'A', '-IN5-': 'sadf', 6: 'A', '-IN6-': '', 7: 'A', '-IN7-': '', 8: 'D', '-IN8-': '', 9: 'A', '-IN9-': '', 10: 'A', '-IN10-': ''}\n"
     ]
    }
   ],
   "metadata": {}
  },
  {
   "cell_type": "code",
   "execution_count": 32,
   "source": [
    "layout = [sg.Ok(), sg.Cancel()]  # 리스트의 리스트가 아니라서 error가 발생"
   ],
   "outputs": [],
   "metadata": {}
  },
  {
   "cell_type": "code",
   "execution_count": 33,
   "source": [
    "window = sg.Window(\"Tasks\", layout)"
   ],
   "outputs": [],
   "metadata": {}
  },
  {
   "cell_type": "code",
   "execution_count": 34,
   "source": [
    "event, values = window.read()\r\n",
    "window.close()\r\n",
    "print(event, values)"
   ],
   "outputs": [
    {
     "output_type": "error",
     "ename": "ValueError",
     "evalue": "max() arg is an empty sequence",
     "traceback": [
      "\u001b[1;31m---------------------------------------------------------------------------\u001b[0m",
      "\u001b[1;31mValueError\u001b[0m                                Traceback (most recent call last)",
      "\u001b[1;32mC:\\Users\\Public\\Documents\\ESTsoft\\CreatorTemp/ipykernel_4980/6626803.py\u001b[0m in \u001b[0;36m<module>\u001b[1;34m\u001b[0m\n\u001b[1;32m----> 1\u001b[1;33m \u001b[0mevent\u001b[0m\u001b[1;33m,\u001b[0m \u001b[0mvalues\u001b[0m \u001b[1;33m=\u001b[0m \u001b[0mwindow\u001b[0m\u001b[1;33m.\u001b[0m\u001b[0mread\u001b[0m\u001b[1;33m(\u001b[0m\u001b[1;33m)\u001b[0m\u001b[1;33m\u001b[0m\u001b[1;33m\u001b[0m\u001b[0m\n\u001b[0m\u001b[0;32m      2\u001b[0m \u001b[0mwindow\u001b[0m\u001b[1;33m.\u001b[0m\u001b[0mclose\u001b[0m\u001b[1;33m(\u001b[0m\u001b[1;33m)\u001b[0m\u001b[1;33m\u001b[0m\u001b[1;33m\u001b[0m\u001b[0m\n\u001b[0;32m      3\u001b[0m \u001b[0mprint\u001b[0m\u001b[1;33m(\u001b[0m\u001b[0mevent\u001b[0m\u001b[1;33m,\u001b[0m \u001b[0mvalues\u001b[0m\u001b[1;33m)\u001b[0m\u001b[1;33m\u001b[0m\u001b[1;33m\u001b[0m\u001b[0m\n",
      "\u001b[1;32mc:\\lecture_tensorflow\\venv\\lib\\site-packages\\PySimpleGUI\\PySimpleGUI.py\u001b[0m in \u001b[0;36mread\u001b[1;34m(self, timeout, timeout_key, close)\u001b[0m\n\u001b[0;32m   8751\u001b[0m \u001b[1;33m\u001b[0m\u001b[0m\n\u001b[0;32m   8752\u001b[0m         \u001b[1;32mwhile\u001b[0m \u001b[1;32mTrue\u001b[0m\u001b[1;33m:\u001b[0m\u001b[1;33m\u001b[0m\u001b[1;33m\u001b[0m\u001b[0m\n\u001b[1;32m-> 8753\u001b[1;33m             \u001b[0mresults\u001b[0m \u001b[1;33m=\u001b[0m \u001b[0mself\u001b[0m\u001b[1;33m.\u001b[0m\u001b[0m_read\u001b[0m\u001b[1;33m(\u001b[0m\u001b[0mtimeout\u001b[0m\u001b[1;33m=\u001b[0m\u001b[0mtimeout\u001b[0m\u001b[1;33m,\u001b[0m \u001b[0mtimeout_key\u001b[0m\u001b[1;33m=\u001b[0m\u001b[0mtimeout_key\u001b[0m\u001b[1;33m)\u001b[0m\u001b[1;33m\u001b[0m\u001b[1;33m\u001b[0m\u001b[0m\n\u001b[0m\u001b[0;32m   8754\u001b[0m             \u001b[1;31m# Post processing for Calendar Chooser Button\u001b[0m\u001b[1;33m\u001b[0m\u001b[1;33m\u001b[0m\u001b[1;33m\u001b[0m\u001b[0m\n\u001b[0;32m   8755\u001b[0m             \u001b[1;32mtry\u001b[0m\u001b[1;33m:\u001b[0m\u001b[1;33m\u001b[0m\u001b[1;33m\u001b[0m\u001b[0m\n",
      "\u001b[1;32mc:\\lecture_tensorflow\\venv\\lib\\site-packages\\PySimpleGUI\\PySimpleGUI.py\u001b[0m in \u001b[0;36m_read\u001b[1;34m(self, timeout, timeout_key)\u001b[0m\n\u001b[0;32m   8817\u001b[0m             \u001b[1;32mreturn\u001b[0m \u001b[1;32mNone\u001b[0m\u001b[1;33m,\u001b[0m \u001b[1;32mNone\u001b[0m\u001b[1;33m\u001b[0m\u001b[1;33m\u001b[0m\u001b[0m\n\u001b[0;32m   8818\u001b[0m         \u001b[1;32mif\u001b[0m \u001b[1;32mnot\u001b[0m \u001b[0mself\u001b[0m\u001b[1;33m.\u001b[0m\u001b[0mShown\u001b[0m\u001b[1;33m:\u001b[0m\u001b[1;33m\u001b[0m\u001b[1;33m\u001b[0m\u001b[0m\n\u001b[1;32m-> 8819\u001b[1;33m             \u001b[0mself\u001b[0m\u001b[1;33m.\u001b[0m\u001b[0m_Show\u001b[0m\u001b[1;33m(\u001b[0m\u001b[1;33m)\u001b[0m\u001b[1;33m\u001b[0m\u001b[1;33m\u001b[0m\u001b[0m\n\u001b[0m\u001b[0;32m   8820\u001b[0m         \u001b[1;32melse\u001b[0m\u001b[1;33m:\u001b[0m\u001b[1;33m\u001b[0m\u001b[1;33m\u001b[0m\u001b[0m\n\u001b[0;32m   8821\u001b[0m             \u001b[1;31m# if already have a button waiting, the return previously built results\u001b[0m\u001b[1;33m\u001b[0m\u001b[1;33m\u001b[0m\u001b[1;33m\u001b[0m\u001b[0m\n",
      "\u001b[1;32mc:\\lecture_tensorflow\\venv\\lib\\site-packages\\PySimpleGUI\\PySimpleGUI.py\u001b[0m in \u001b[0;36m_Show\u001b[1;34m(self, non_blocking)\u001b[0m\n\u001b[0;32m   8552\u001b[0m         \u001b[1;31m# Compute num rows & num cols (it'll come in handy debugging)\u001b[0m\u001b[1;33m\u001b[0m\u001b[1;33m\u001b[0m\u001b[1;33m\u001b[0m\u001b[0m\n\u001b[0;32m   8553\u001b[0m         \u001b[0mself\u001b[0m\u001b[1;33m.\u001b[0m\u001b[0mNumRows\u001b[0m \u001b[1;33m=\u001b[0m \u001b[0mlen\u001b[0m\u001b[1;33m(\u001b[0m\u001b[0mself\u001b[0m\u001b[1;33m.\u001b[0m\u001b[0mRows\u001b[0m\u001b[1;33m)\u001b[0m\u001b[1;33m\u001b[0m\u001b[1;33m\u001b[0m\u001b[0m\n\u001b[1;32m-> 8554\u001b[1;33m         \u001b[0mself\u001b[0m\u001b[1;33m.\u001b[0m\u001b[0mNumCols\u001b[0m \u001b[1;33m=\u001b[0m \u001b[0mmax\u001b[0m\u001b[1;33m(\u001b[0m\u001b[0mlen\u001b[0m\u001b[1;33m(\u001b[0m\u001b[0mrow\u001b[0m\u001b[1;33m)\u001b[0m \u001b[1;32mfor\u001b[0m \u001b[0mrow\u001b[0m \u001b[1;32min\u001b[0m \u001b[0mself\u001b[0m\u001b[1;33m.\u001b[0m\u001b[0mRows\u001b[0m\u001b[1;33m)\u001b[0m\u001b[1;33m\u001b[0m\u001b[1;33m\u001b[0m\u001b[0m\n\u001b[0m\u001b[0;32m   8555\u001b[0m         \u001b[0mself\u001b[0m\u001b[1;33m.\u001b[0m\u001b[0mNonBlocking\u001b[0m \u001b[1;33m=\u001b[0m \u001b[0mnon_blocking\u001b[0m\u001b[1;33m\u001b[0m\u001b[1;33m\u001b[0m\u001b[0m\n\u001b[0;32m   8556\u001b[0m \u001b[1;33m\u001b[0m\u001b[0m\n",
      "\u001b[1;31mValueError\u001b[0m: max() arg is an empty sequence"
     ]
    }
   ],
   "metadata": {}
  },
  {
   "cell_type": "code",
   "execution_count": 36,
   "source": [
    "layout = [\r\n",
    "    [sg.T(\"입력해 주세요!\")],\r\n",
    "    [sg.I(key = \"-IN-\")],\r\n",
    "    [sg.T(key = \"-OUT-\", size = (20, 1))],\r\n",
    "    [sg.Submit(), sg.Cancel()]\r\n",
    "]"
   ],
   "outputs": [],
   "metadata": {}
  },
  {
   "cell_type": "code",
   "execution_count": 37,
   "source": [
    "window = sg.Window(\"Tasks\", layout)"
   ],
   "outputs": [],
   "metadata": {}
  },
  {
   "cell_type": "code",
   "execution_count": 38,
   "source": [
    "while True:\r\n",
    "    event, values = window.read()\r\n",
    "    if event in [\"Cancel\", sg.WIN_CLOSED]:\r\n",
    "        break\r\n",
    "    elif event == \"Submit\":\r\n",
    "        window[\"-OUT-\"].update(values[\"-IN-\"])\r\n",
    "    print(event, values)\r\n",
    "window.close()\r\n",
    "print(event, values)"
   ],
   "outputs": [
    {
     "output_type": "stream",
     "name": "stdout",
     "text": [
      "Submit {'-IN-': 'asdf'}\n",
      "Submit {'-IN-': 'asdf'}\n",
      "Submit {'-IN-': 'asdfefef'}\n",
      "Submit {'-IN-': 'efe'}\n",
      "Cancel {'-IN-': 'efe'}\n"
     ]
    }
   ],
   "metadata": {}
  },
  {
   "cell_type": "code",
   "execution_count": 44,
   "source": [
    "layout = [\r\n",
    "    [sg.T(\"입력해 주세요!\")],\r\n",
    "    [sg.I(key = \"-IN-\", enable_events = True)],\r\n",
    "    [sg.T(key = \"-OUT-\", size = (20, 1))],\r\n",
    "    [sg.Submit(), sg.Cancel()]\r\n",
    "]"
   ],
   "outputs": [],
   "metadata": {}
  },
  {
   "cell_type": "code",
   "execution_count": 45,
   "source": [
    "window = sg.Window(\"Tasks\", layout)"
   ],
   "outputs": [],
   "metadata": {}
  },
  {
   "cell_type": "code",
   "execution_count": null,
   "source": [
    "while True:\r\n",
    "    event, values = window.read()\r\n",
    "    if event in [\"Cancel\", sg.WIN_CLOSED]:\r\n",
    "        break\r\n",
    "    elif event == \"Submit\":\r\n",
    "        window[\"-OUT-\"].update(values[\"-IN-\"])\r\n",
    "    print(event, values)\r\n",
    "window.close()\r\n",
    "print(event, values)"
   ],
   "outputs": [],
   "metadata": {}
  },
  {
   "cell_type": "code",
   "execution_count": 54,
   "source": [
    "layout = [\r\n",
    "    [sg.T(\"입력해 주세요!\"), sg.I(key=\"-IN-\") ],\r\n",
    "    [sg.T(key = \"-OUT-\", size = (20, 1)), sg.CB(text = \"숨긴 값들\",  key=\"-CMB-\", visible=False)],\r\n",
    "    [sg.Ok(), sg.Cancel()]\r\n",
    "]"
   ],
   "outputs": [],
   "metadata": {}
  },
  {
   "cell_type": "code",
   "execution_count": 55,
   "source": [
    "window = sg.Window(\"Tasks\", layout)"
   ],
   "outputs": [],
   "metadata": {}
  },
  {
   "cell_type": "code",
   "execution_count": 56,
   "source": [
    "while True:\r\n",
    "    event, values = window.read()\r\n",
    "    if event in [\"Cancel\", sg.WIN_CLOSED]:\r\n",
    "        break\r\n",
    "    elif event == \"Ok\":\r\n",
    "        window[\"-OUT-\"].update(values[\"-IN-\"])\r\n",
    "        window[\"-CMB-\"].update(visible = True)\r\n",
    "        window[\"-CMB-\"].update(text = \"유지됨\")\r\n",
    "    print(event, values)\r\n",
    "window.close()\r\n",
    "print(event, values)"
   ],
   "outputs": [
    {
     "output_type": "stream",
     "name": "stdout",
     "text": [
      "Ok {'-IN-': 'sa', '-CMB-': False}\n",
      "Ok {'-IN-': 'sa', '-CMB-': True}\n",
      "None None\n"
     ]
    }
   ],
   "metadata": {}
  },
  {
   "cell_type": "code",
   "execution_count": null,
   "source": [
    "## Dynamic Layout"
   ],
   "outputs": [],
   "metadata": {}
  },
  {
   "cell_type": "code",
   "execution_count": 59,
   "source": [
    "layout = [\r\n",
    "    [sg.T(\"입력해 주세요!\"), sg.I(key=\"-IN-\") ],\r\n",
    "    [sg.I(key = \"-FILE-\", size = (40, 1), enable_events = True), sg.FileBrowse()],\r\n",
    "    [sg.Ok(), sg.Cancel()]\r\n",
    "]"
   ],
   "outputs": [],
   "metadata": {}
  },
  {
   "cell_type": "code",
   "execution_count": 60,
   "source": [
    "window = sg.Window(\"Tasks\", layout)"
   ],
   "outputs": [],
   "metadata": {}
  },
  {
   "cell_type": "code",
   "execution_count": 62,
   "source": [
    "files = []\r\n",
    "while True:\r\n",
    "    event, values = window.read()\r\n",
    "    if event in [\"Cancel\", sg.WIN_CLOSED]:\r\n",
    "        break\r\n",
    "    elif event == \"-FILE-\":\r\n",
    "        fname = values[\"-FILE-\"]\r\n",
    "        if fname not in files:\r\n",
    "            files.append(fname)\r\n",
    "        layout = [\r\n",
    "            [sg.T(\"파일을 선택해 주세요\")],\r\n",
    "            [sg.I(key=\"-FILE-\", size=(40, 1), enable_events=True), sg.FileBrowse()]\r\n",
    "        ]\r\n",
    "        layout += [ \r\n",
    "            [sg.T(f, size=(30, 1), key=f\"-TX-{idx}\"), \r\n",
    "            sg.T(\"x\", key=f\"-DEL-\", enable_events = True)]\r\n",
    "            for idx, f in enumerate(files)\r\n",
    "        ]\r\n",
    "        layout += [\r\n",
    "            [sg.Ok(), sg.Cancel()]\r\n",
    "        ]\r\n",
    "        window1 = sg.Window(\"Tasks1\", layout)\r\n",
    "        window.close()\r\n",
    "        window = window1\r\n",
    "    elif event.startswith(\"-DEL-\"):\r\n",
    "        idx = int(event.split(\"-DEL-\")[-1])\r\n",
    "        print(idx)\r\n",
    "        del files[idx]  \r\n",
    "\r\n",
    "    print(event, values)\r\n",
    "window.close()\r\n",
    "print(event, values)"
   ],
   "outputs": [
    {
     "output_type": "stream",
     "name": "stdout",
     "text": [
      "-FILE- {'-IN-': 'asdf', '-FILE-': 'C:/lecture_tensorflow/001_pytorch.ipynb', 'Browse': 'C:/lecture_tensorflow/001_pytorch.ipynb'}\n"
     ]
    },
    {
     "output_type": "stream",
     "name": "stderr",
     "text": [
      "c:\\lecture_tensorflow\\venv\\lib\\site-packages\\PySimpleGUI\\PySimpleGUI.py:9177: UserWarning: *** Duplicate key found in your layout -DEL- ***\n",
      "  warnings.warn('*** Duplicate key found in your layout {} ***'.format(element.Key), UserWarning)\n",
      "c:\\lecture_tensorflow\\venv\\lib\\site-packages\\PySimpleGUI\\PySimpleGUI.py:9178: UserWarning: *** Replaced new key with -DEL-0 ***\n",
      "  warnings.warn('*** Replaced new key with {} ***'.format(str(element.Key) + str(self.UniqueKeyCounter)))\n"
     ]
    },
    {
     "output_type": "stream",
     "name": "stdout",
     "text": [
      "-FILE- {'-FILE-': 'C:/lecture_tensorflow/01_neural_network_regression3.ipynb', 'Browse': 'C:/lecture_tensorflow/01_neural_network_regression3.ipynb'}\n"
     ]
    },
    {
     "output_type": "error",
     "ename": "ValueError",
     "evalue": "invalid literal for int() with base 10: ''",
     "traceback": [
      "\u001b[1;31m---------------------------------------------------------------------------\u001b[0m",
      "\u001b[1;31mValueError\u001b[0m                                Traceback (most recent call last)",
      "\u001b[1;32mC:\\Users\\Public\\Documents\\ESTsoft\\CreatorTemp/ipykernel_4980/3054351978.py\u001b[0m in \u001b[0;36m<module>\u001b[1;34m\u001b[0m\n\u001b[0;32m     24\u001b[0m         \u001b[0mwindow\u001b[0m \u001b[1;33m=\u001b[0m \u001b[0mwindow1\u001b[0m\u001b[1;33m\u001b[0m\u001b[1;33m\u001b[0m\u001b[0m\n\u001b[0;32m     25\u001b[0m     \u001b[1;32melif\u001b[0m \u001b[0mevent\u001b[0m\u001b[1;33m.\u001b[0m\u001b[0mstartswith\u001b[0m\u001b[1;33m(\u001b[0m\u001b[1;34m\"-DEL-\"\u001b[0m\u001b[1;33m)\u001b[0m\u001b[1;33m:\u001b[0m\u001b[1;33m\u001b[0m\u001b[1;33m\u001b[0m\u001b[0m\n\u001b[1;32m---> 26\u001b[1;33m         \u001b[0midx\u001b[0m \u001b[1;33m=\u001b[0m \u001b[0mint\u001b[0m\u001b[1;33m(\u001b[0m\u001b[0mevent\u001b[0m\u001b[1;33m.\u001b[0m\u001b[0msplit\u001b[0m\u001b[1;33m(\u001b[0m\u001b[1;34m\"-DEL-\"\u001b[0m\u001b[1;33m)\u001b[0m\u001b[1;33m[\u001b[0m\u001b[1;33m-\u001b[0m\u001b[1;36m1\u001b[0m\u001b[1;33m]\u001b[0m\u001b[1;33m)\u001b[0m\u001b[1;33m\u001b[0m\u001b[1;33m\u001b[0m\u001b[0m\n\u001b[0m\u001b[0;32m     27\u001b[0m         \u001b[0mprint\u001b[0m\u001b[1;33m(\u001b[0m\u001b[0midx\u001b[0m\u001b[1;33m)\u001b[0m\u001b[1;33m\u001b[0m\u001b[1;33m\u001b[0m\u001b[0m\n\u001b[0;32m     28\u001b[0m         \u001b[1;32mdel\u001b[0m \u001b[0mfiles\u001b[0m\u001b[1;33m[\u001b[0m\u001b[0midx\u001b[0m\u001b[1;33m]\u001b[0m\u001b[1;33m\u001b[0m\u001b[1;33m\u001b[0m\u001b[0m\n",
      "\u001b[1;31mValueError\u001b[0m: invalid literal for int() with base 10: ''"
     ]
    }
   ],
   "metadata": {}
  },
  {
   "cell_type": "code",
   "execution_count": null,
   "source": [],
   "outputs": [],
   "metadata": {}
  }
 ],
 "metadata": {
  "orig_nbformat": 4,
  "language_info": {
   "name": "python",
   "version": "3.9.6",
   "mimetype": "text/x-python",
   "codemirror_mode": {
    "name": "ipython",
    "version": 3
   },
   "pygments_lexer": "ipython3",
   "nbconvert_exporter": "python",
   "file_extension": ".py"
  },
  "kernelspec": {
   "name": "python3",
   "display_name": "Python 3.9.6 64-bit ('venv': venv)"
  },
  "interpreter": {
   "hash": "23b0618377e212a12a26e4ee68a3e39884635847071ead513355fecbb008c6df"
  }
 },
 "nbformat": 4,
 "nbformat_minor": 2
}