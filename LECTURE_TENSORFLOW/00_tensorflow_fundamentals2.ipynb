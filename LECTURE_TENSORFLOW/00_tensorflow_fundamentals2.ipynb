{
 "cells": [
  {
   "cell_type": "markdown",
   "source": [
    "# 00_tensorflow_fundamentals.ipynb"
   ],
   "metadata": {}
  },
  {
   "cell_type": "code",
   "execution_count": 1,
   "source": [
    "import tensorflow as tf\r\n",
    "\r\n",
    "print(tf.__version__)"
   ],
   "outputs": [
    {
     "output_type": "stream",
     "name": "stdout",
     "text": [
      "2.6.0\n"
     ]
    }
   ],
   "metadata": {}
  },
  {
   "cell_type": "markdown",
   "source": [
    "## tensorflow : 데이터 전처리, 데이터 모델링, 모델 제공을 위한 오픈소스 머신 러닝 라이브러리\r\n",
    "\r\n"
   ],
   "metadata": {}
  },
  {
   "cell_type": "code",
   "execution_count": 2,
   "source": [
    "scalar = tf.constant(7)\r\n",
    "scalar"
   ],
   "outputs": [
    {
     "output_type": "execute_result",
     "data": {
      "text/plain": [
       "<tf.Tensor: shape=(), dtype=int32, numpy=7>"
      ]
     },
     "metadata": {},
     "execution_count": 2
    }
   ],
   "metadata": {}
  },
  {
   "cell_type": "code",
   "execution_count": 3,
   "source": [
    "scalar.ndim"
   ],
   "outputs": [
    {
     "output_type": "execute_result",
     "data": {
      "text/plain": [
       "0"
      ]
     },
     "metadata": {},
     "execution_count": 3
    }
   ],
   "metadata": {}
  },
  {
   "cell_type": "code",
   "execution_count": 4,
   "source": [
    "vector = tf.constant([10, 10])\r\n",
    "vector"
   ],
   "outputs": [
    {
     "output_type": "execute_result",
     "data": {
      "text/plain": [
       "<tf.Tensor: shape=(2,), dtype=int32, numpy=array([10, 10])>"
      ]
     },
     "metadata": {},
     "execution_count": 4
    }
   ],
   "metadata": {}
  },
  {
   "cell_type": "code",
   "execution_count": 7,
   "source": [
    "vector.ndim # ndim은 number of dimensions"
   ],
   "outputs": [
    {
     "output_type": "execute_result",
     "data": {
      "text/plain": [
       "1"
      ]
     },
     "metadata": {},
     "execution_count": 7
    }
   ],
   "metadata": {}
  },
  {
   "cell_type": "markdown",
   "source": [
    "## 일반적으로 tensorflow를 사용할 때 위에서처럼 직접 텐서를 만들지 않습니다. \r\n",
    "## Tensorflow에 내장된 모듈인 tf.io나 tf.data 가 데이터를 읽고 쓸 때 자동으로 데이터를\r\n",
    "## 텐서로 변환한 다음 나중에 신경망 모델에 적용 및 처리합니다."
   ],
   "metadata": {}
  },
  {
   "cell_type": "markdown",
   "source": [
    "## scalar (스칼라)는 rank가 0인 tensor! 왜냐하면 ndim이 0이라서 그렇습니다.\r\n",
    "## tensor는 dimension에 제한이 없다는 것이 중요합니다!"
   ],
   "metadata": {}
  },
  {
   "cell_type": "code",
   "execution_count": 9,
   "source": [
    "matrix = tf.constant(\r\n",
    "    [\r\n",
    "        [10, 7],\r\n",
    "        [7, 10]\r\n",
    "    ]\r\n",
    ")\r\n",
    "matrix"
   ],
   "outputs": [
    {
     "output_type": "execute_result",
     "data": {
      "text/plain": [
       "<tf.Tensor: shape=(2, 2), dtype=int32, numpy=\n",
       "array([[10,  7],\n",
       "       [ 7, 10]])>"
      ]
     },
     "metadata": {},
     "execution_count": 9
    }
   ],
   "metadata": {}
  },
  {
   "cell_type": "code",
   "execution_count": 10,
   "source": [
    "matrix.ndim"
   ],
   "outputs": [
    {
     "output_type": "execute_result",
     "data": {
      "text/plain": [
       "2"
      ]
     },
     "metadata": {},
     "execution_count": 10
    }
   ],
   "metadata": {}
  },
  {
   "cell_type": "code",
   "execution_count": 11,
   "source": [
    "matrix2 = tf.constant(\r\n",
    "    [\r\n",
    "        [10., 7.],\r\n",
    "        [7., 10.]\r\n",
    "    ]\r\n",
    ")\r\n",
    "matrix2"
   ],
   "outputs": [
    {
     "output_type": "execute_result",
     "data": {
      "text/plain": [
       "<tf.Tensor: shape=(2, 2), dtype=float32, numpy=\n",
       "array([[10.,  7.],\n",
       "       [ 7., 10.]], dtype=float32)>"
      ]
     },
     "metadata": {},
     "execution_count": 11
    }
   ],
   "metadata": {}
  },
  {
   "cell_type": "markdown",
   "source": [
    "## tensorflow는 기본적으로 tensor를 생성할 때, 자료형 (Datatype)을 int32나 float32로 설정합니다."
   ],
   "metadata": {}
  },
  {
   "cell_type": "code",
   "execution_count": 13,
   "source": [
    "another_matrix = tf.constant(\r\n",
    "    [\r\n",
    "        [10., 7.],\r\n",
    "        [3., 2.],\r\n",
    "        [8., 9.]\r\n",
    "    ],\r\n",
    "    dtype = tf.float16\r\n",
    ")\r\n",
    "another_matrix"
   ],
   "outputs": [
    {
     "output_type": "execute_result",
     "data": {
      "text/plain": [
       "<tf.Tensor: shape=(3, 2), dtype=float16, numpy=\n",
       "array([[10.,  7.],\n",
       "       [ 3.,  2.],\n",
       "       [ 8.,  9.]], dtype=float16)>"
      ]
     },
     "metadata": {},
     "execution_count": 13
    }
   ],
   "metadata": {}
  },
  {
   "cell_type": "code",
   "execution_count": 14,
   "source": [
    "another_matrix.ndim"
   ],
   "outputs": [
    {
     "output_type": "execute_result",
     "data": {
      "text/plain": [
       "2"
      ]
     },
     "metadata": {},
     "execution_count": 14
    }
   ],
   "metadata": {}
  },
  {
   "cell_type": "code",
   "execution_count": 15,
   "source": [
    "tensor = tf.constant([\r\n",
    "    [\r\n",
    "        [1, 2, 3],\r\n",
    "        [4, 5, 6]\r\n",
    "    ],\r\n",
    "    [\r\n",
    "        [7, 8, 9],\r\n",
    "        [10, 11, 12]\r\n",
    "    ],\r\n",
    "    [\r\n",
    "        [13, 14, 15],\r\n",
    "        [16, 17, 18]\r\n",
    "    ]\r\n",
    "])\r\n",
    "tensor"
   ],
   "outputs": [
    {
     "output_type": "execute_result",
     "data": {
      "text/plain": [
       "<tf.Tensor: shape=(3, 2, 3), dtype=int32, numpy=\n",
       "array([[[ 1,  2,  3],\n",
       "        [ 4,  5,  6]],\n",
       "\n",
       "       [[ 7,  8,  9],\n",
       "        [10, 11, 12]],\n",
       "\n",
       "       [[13, 14, 15],\n",
       "        [16, 17, 18]]])>"
      ]
     },
     "metadata": {},
     "execution_count": 15
    }
   ],
   "metadata": {}
  },
  {
   "cell_type": "code",
   "execution_count": 20,
   "source": [
    "tensor.ndim  # 2행 3열짜리 행렬이 3개가 있다! \r\n",
    "# rank가 3인 tensor!"
   ],
   "outputs": [
    {
     "output_type": "execute_result",
     "data": {
      "text/plain": [
       "3"
      ]
     },
     "metadata": {},
     "execution_count": 20
    }
   ],
   "metadata": {}
  },
  {
   "cell_type": "markdown",
   "source": [
    "## 위에서 굳이 scalar, vector, matrix, tensor 등등으로 구분해서 표현을 했지만\r\n",
    "## 기술적으로는 사실 위의 모든 것이 tensor입니다."
   ],
   "metadata": {}
  },
  {
   "cell_type": "code",
   "execution_count": 21,
   "source": [
    "changeable_tensor = tf.Variable([10, 7])\r\n",
    "unchangeable_tensor = tf.constant([10, 7])\r\n",
    "changeable_tensor, unchangeable_tensor"
   ],
   "outputs": [
    {
     "output_type": "execute_result",
     "data": {
      "text/plain": [
       "(<tf.Variable 'Variable:0' shape=(2,) dtype=int32, numpy=array([10,  7])>,\n",
       " <tf.Tensor: shape=(2,), dtype=int32, numpy=array([10,  7])>)"
      ]
     },
     "metadata": {},
     "execution_count": 21
    }
   ],
   "metadata": {}
  },
  {
   "cell_type": "code",
   "execution_count": 26,
   "source": [
    "changeable_tensor[0] = 7\r\n",
    "changeable_tensor"
   ],
   "outputs": [
    {
     "output_type": "error",
     "ename": "TypeError",
     "evalue": "'ResourceVariable' object does not support item assignment",
     "traceback": [
      "\u001b[1;31m---------------------------------------------------------------------------\u001b[0m",
      "\u001b[1;31mTypeError\u001b[0m                                 Traceback (most recent call last)",
      "\u001b[1;32m~\\AppData\\Local\\Temp/ipykernel_14200/4281976827.py\u001b[0m in \u001b[0;36m<module>\u001b[1;34m\u001b[0m\n\u001b[1;32m----> 1\u001b[1;33m \u001b[0mchangeable_tensor\u001b[0m\u001b[1;33m[\u001b[0m\u001b[1;36m0\u001b[0m\u001b[1;33m]\u001b[0m \u001b[1;33m=\u001b[0m \u001b[1;36m7\u001b[0m\u001b[1;33m\u001b[0m\u001b[1;33m\u001b[0m\u001b[0m\n\u001b[0m\u001b[0;32m      2\u001b[0m \u001b[0mchangeable_tensor\u001b[0m\u001b[1;33m\u001b[0m\u001b[1;33m\u001b[0m\u001b[0m\n",
      "\u001b[1;31mTypeError\u001b[0m: 'ResourceVariable' object does not support item assignment"
     ]
    }
   ],
   "metadata": {}
  },
  {
   "cell_type": "code",
   "execution_count": 27,
   "source": [
    "changeable_tensor[0].assign(7)\r\n",
    "changeable_tensor"
   ],
   "outputs": [
    {
     "output_type": "execute_result",
     "data": {
      "text/plain": [
       "<tf.Variable 'Variable:0' shape=(2,) dtype=int32, numpy=array([7, 7])>"
      ]
     },
     "metadata": {},
     "execution_count": 27
    }
   ],
   "metadata": {}
  },
  {
   "cell_type": "code",
   "execution_count": 28,
   "source": [
    "unchangeable_tensor[0].assign(7)\r\n",
    "unchangeable_tensor"
   ],
   "outputs": [
    {
     "output_type": "error",
     "ename": "AttributeError",
     "evalue": "'tensorflow.python.framework.ops.EagerTensor' object has no attribute 'assign'",
     "traceback": [
      "\u001b[1;31m---------------------------------------------------------------------------\u001b[0m",
      "\u001b[1;31mAttributeError\u001b[0m                            Traceback (most recent call last)",
      "\u001b[1;32m~\\AppData\\Local\\Temp/ipykernel_14200/1712840518.py\u001b[0m in \u001b[0;36m<module>\u001b[1;34m\u001b[0m\n\u001b[1;32m----> 1\u001b[1;33m \u001b[0munchangeable_tensor\u001b[0m\u001b[1;33m[\u001b[0m\u001b[1;36m0\u001b[0m\u001b[1;33m]\u001b[0m\u001b[1;33m.\u001b[0m\u001b[0massign\u001b[0m\u001b[1;33m(\u001b[0m\u001b[1;36m7\u001b[0m\u001b[1;33m)\u001b[0m\u001b[1;33m\u001b[0m\u001b[1;33m\u001b[0m\u001b[0m\n\u001b[0m\u001b[0;32m      2\u001b[0m \u001b[0munchangeable_tensor\u001b[0m\u001b[1;33m\u001b[0m\u001b[1;33m\u001b[0m\u001b[0m\n",
      "\u001b[1;32mc:\\workspace\\lecture_tensorflow\\venv\\lib\\site-packages\\tensorflow\\python\\framework\\ops.py\u001b[0m in \u001b[0;36m__getattr__\u001b[1;34m(self, name)\u001b[0m\n\u001b[0;32m    399\u001b[0m         \u001b[1;32mfrom\u001b[0m \u001b[0mtensorflow\u001b[0m\u001b[1;33m.\u001b[0m\u001b[0mpython\u001b[0m\u001b[1;33m.\u001b[0m\u001b[0mops\u001b[0m\u001b[1;33m.\u001b[0m\u001b[0mnumpy_ops\u001b[0m \u001b[1;32mimport\u001b[0m \u001b[0mnp_config\u001b[0m\u001b[1;33m\u001b[0m\u001b[1;33m\u001b[0m\u001b[0m\n\u001b[0;32m    400\u001b[0m         np_config.enable_numpy_behavior()\"\"\".format(type(self).__name__, name))\n\u001b[1;32m--> 401\u001b[1;33m     \u001b[0mself\u001b[0m\u001b[1;33m.\u001b[0m\u001b[0m__getattribute__\u001b[0m\u001b[1;33m(\u001b[0m\u001b[0mname\u001b[0m\u001b[1;33m)\u001b[0m\u001b[1;33m\u001b[0m\u001b[1;33m\u001b[0m\u001b[0m\n\u001b[0m\u001b[0;32m    402\u001b[0m \u001b[1;33m\u001b[0m\u001b[0m\n\u001b[0;32m    403\u001b[0m   \u001b[1;33m@\u001b[0m\u001b[0mstaticmethod\u001b[0m\u001b[1;33m\u001b[0m\u001b[1;33m\u001b[0m\u001b[0m\n",
      "\u001b[1;31mAttributeError\u001b[0m: 'tensorflow.python.framework.ops.EagerTensor' object has no attribute 'assign'"
     ]
    }
   ],
   "metadata": {}
  },
  {
   "cell_type": "markdown",
   "source": [
    "## tf.constant()을 사용해야 할지... tf.Variable()을 사용해야 할지...\r\n",
    "## 우리가 해결할 문제에 따라서 선택하면 되고, \r\n",
    "## 우리가 실제로 직접 tensor를 만들 경우는 없습니다. \r\n",
    "## 왜? tensorflow가 데이터를 불러오고, 모델링할 때 알아서 선택해 줍니다."
   ],
   "metadata": {}
  },
  {
   "cell_type": "code",
   "execution_count": 31,
   "source": [
    "random_1 = tf.random.Generator.from_seed(42) # np.random.seed(42)와 비슷\r\n",
    "random_1 = random_1.normal(shape=(3, 2))\r\n",
    "random_2 = tf.random.Generator.from_seed(42)\r\n",
    "random_2 = random_2.normal(shape=(3, 2))"
   ],
   "outputs": [],
   "metadata": {}
  },
  {
   "cell_type": "code",
   "execution_count": 32,
   "source": [
    "random_1, random_2, random_1 == random_2"
   ],
   "outputs": [
    {
     "output_type": "execute_result",
     "data": {
      "text/plain": [
       "(<tf.Tensor: shape=(3, 2), dtype=float32, numpy=\n",
       " array([[-0.7565803 , -0.06854702],\n",
       "        [ 0.07595026, -1.2573844 ],\n",
       "        [-0.23193763, -1.8107855 ]], dtype=float32)>,\n",
       " <tf.Tensor: shape=(3, 2), dtype=float32, numpy=\n",
       " array([[-0.7565803 , -0.06854702],\n",
       "        [ 0.07595026, -1.2573844 ],\n",
       "        [-0.23193763, -1.8107855 ]], dtype=float32)>,\n",
       " <tf.Tensor: shape=(3, 2), dtype=bool, numpy=\n",
       " array([[ True,  True],\n",
       "        [ True,  True],\n",
       "        [ True,  True]])>)"
      ]
     },
     "metadata": {},
     "execution_count": 32
    }
   ],
   "metadata": {}
  },
  {
   "cell_type": "code",
   "execution_count": 33,
   "source": [
    "random_3 = tf.random.Generator.from_seed(42)\r\n",
    "random_3 = random_3.normal(shape=(3, 2))\r\n",
    "random_4 = tf.random.Generator.from_seed(11)\r\n",
    "random_4 = random_4.normal(shape=(3, 2))"
   ],
   "outputs": [],
   "metadata": {}
  },
  {
   "cell_type": "code",
   "execution_count": 36,
   "source": [
    "random_3, random_4, random_3 == random_4"
   ],
   "outputs": [
    {
     "output_type": "execute_result",
     "data": {
      "text/plain": [
       "(<tf.Tensor: shape=(3, 2), dtype=float32, numpy=\n",
       " array([[-0.7565803 , -0.06854702],\n",
       "        [ 0.07595026, -1.2573844 ],\n",
       "        [-0.23193763, -1.8107855 ]], dtype=float32)>,\n",
       " <tf.Tensor: shape=(3, 2), dtype=float32, numpy=\n",
       " array([[ 0.27305737, -0.29925638],\n",
       "        [-0.3652325 ,  0.61883307],\n",
       "        [-1.0130816 ,  0.28291714]], dtype=float32)>,\n",
       " <tf.Tensor: shape=(3, 2), dtype=bool, numpy=\n",
       " array([[False, False],\n",
       "        [False, False],\n",
       "        [False, False]])>)"
      ]
     },
     "metadata": {},
     "execution_count": 36
    }
   ],
   "metadata": {}
  },
  {
   "cell_type": "markdown",
   "source": [
    "## 왜 shuffle을 해야하는지...\r\n",
    "## 딥러닝시 이미지가 15,000개가 있을 때, 처음에 10,000은 고양이\r\n",
    "## 그리고, 이어서 나머지 5,000은 개!\r\n",
    "## 이 순서대로 학습을 하게 된다면 신경망에 overfit을 유발시킬 수도 있습니다."
   ],
   "metadata": {}
  },
  {
   "cell_type": "code",
   "execution_count": 305,
   "source": [
    "not_shuffled = tf.constant([\r\n",
    "    [10, 7],\r\n",
    "    [3, 4],\r\n",
    "    [2, 5]\r\n",
    "])\r\n",
    "tf.random.shuffle(not_shuffled)"
   ],
   "outputs": [
    {
     "output_type": "execute_result",
     "data": {
      "text/plain": [
       "<tf.Tensor: shape=(3, 2), dtype=int32, numpy=\n",
       "array([[ 2,  5],\n",
       "       [ 3,  4],\n",
       "       [10,  7]])>"
      ]
     },
     "metadata": {},
     "execution_count": 305
    }
   ],
   "metadata": {}
  },
  {
   "cell_type": "code",
   "execution_count": 322,
   "source": [
    "tf.random.shuffle(not_shuffled, seed = 42)"
   ],
   "outputs": [
    {
     "output_type": "execute_result",
     "data": {
      "text/plain": [
       "<tf.Tensor: shape=(3, 2), dtype=int32, numpy=\n",
       "array([[ 3,  4],\n",
       "       [10,  7],\n",
       "       [ 2,  5]])>"
      ]
     },
     "metadata": {},
     "execution_count": 322
    }
   ],
   "metadata": {}
  },
  {
   "cell_type": "code",
   "execution_count": 226,
   "source": [
    "tf.random.set_seed(42)"
   ],
   "outputs": [],
   "metadata": {}
  },
  {
   "cell_type": "code",
   "execution_count": 390,
   "source": [
    "tf.random.shuffle(not_shuffled, seed=42)"
   ],
   "outputs": [
    {
     "output_type": "execute_result",
     "data": {
      "text/plain": [
       "<tf.Tensor: shape=(3, 2), dtype=int32, numpy=\n",
       "array([[ 3,  4],\n",
       "       [10,  7],\n",
       "       [ 2,  5]])>"
      ]
     },
     "metadata": {},
     "execution_count": 390
    }
   ],
   "metadata": {}
  },
  {
   "cell_type": "code",
   "execution_count": 436,
   "source": [
    "# tf.random.set_seed(42)\r\n",
    "\r\n",
    "tf.random.shuffle(not_shuffled)"
   ],
   "outputs": [
    {
     "output_type": "execute_result",
     "data": {
      "text/plain": [
       "<tf.Tensor: shape=(3, 2), dtype=int32, numpy=\n",
       "array([[ 3,  4],\n",
       "       [ 2,  5],\n",
       "       [10,  7]])>"
      ]
     },
     "metadata": {},
     "execution_count": 436
    }
   ],
   "metadata": {}
  },
  {
   "cell_type": "markdown",
   "source": [
    "![scalar-vector-matrix-tensor 비교](images/00-scalar-vector-matrix-tensor.png)"
   ],
   "metadata": {}
  },
  {
   "cell_type": "markdown",
   "source": [
    "## (224, 224, 3, 32)\r\n",
    "## 224, 224 (첫부분 2차원) : 픽셀 단위로 이미지의 높이 (height) 와 너비 (width)\r\n",
    "## 3 : 이미지의 컬러 채널 (RGB, Red Green Blue)\r\n",
    "## 32 : 배치 (Batch) 크기 -  1번에 신경망이 처리할 이미지의 갯수"
   ],
   "metadata": {}
  },
  {
   "cell_type": "code",
   "execution_count": 89,
   "source": [
    "tf.ones(shape = (3, 2))"
   ],
   "outputs": [
    {
     "output_type": "execute_result",
     "data": {
      "text/plain": [
       "<tf.Tensor: shape=(3, 2), dtype=float32, numpy=\n",
       "array([[1., 1.],\n",
       "       [1., 1.],\n",
       "       [1., 1.]], dtype=float32)>"
      ]
     },
     "metadata": {},
     "execution_count": 89
    }
   ],
   "metadata": {}
  },
  {
   "cell_type": "code",
   "execution_count": 91,
   "source": [
    "tf.zeros(shape = (3, 2))"
   ],
   "outputs": [
    {
     "output_type": "execute_result",
     "data": {
      "text/plain": [
       "<tf.Tensor: shape=(3, 2), dtype=float32, numpy=\n",
       "array([[0., 0.],\n",
       "       [0., 0.],\n",
       "       [0., 0.]], dtype=float32)>"
      ]
     },
     "metadata": {},
     "execution_count": 91
    }
   ],
   "metadata": {}
  },
  {
   "cell_type": "code",
   "execution_count": 94,
   "source": [
    "import numpy as np\r\n",
    "\r\n",
    "numpy_A = np.arange(1, 25, dtype=np.int32) # 24개\r\n",
    "A = tf.constant(numpy_A, shape=[2, 4, 3]) # 24 = 2 * 4 * 3\r\n",
    "\r\n",
    "numpy_A, A"
   ],
   "outputs": [
    {
     "output_type": "execute_result",
     "data": {
      "text/plain": [
       "(array([ 1,  2,  3,  4,  5,  6,  7,  8,  9, 10, 11, 12, 13, 14, 15, 16, 17,\n",
       "        18, 19, 20, 21, 22, 23, 24]),\n",
       " <tf.Tensor: shape=(2, 4, 3), dtype=int32, numpy=\n",
       " array([[[ 1,  2,  3],\n",
       "         [ 4,  5,  6],\n",
       "         [ 7,  8,  9],\n",
       "         [10, 11, 12]],\n",
       " \n",
       "        [[13, 14, 15],\n",
       "         [16, 17, 18],\n",
       "         [19, 20, 21],\n",
       "         [22, 23, 24]]])>)"
      ]
     },
     "metadata": {},
     "execution_count": 94
    }
   ],
   "metadata": {}
  },
  {
   "cell_type": "code",
   "execution_count": 95,
   "source": [
    "rank_4_tensor = tf.zeros([2, 3, 4, 5])\r\n",
    "rank_4_tensor"
   ],
   "outputs": [
    {
     "output_type": "execute_result",
     "data": {
      "text/plain": [
       "<tf.Tensor: shape=(2, 3, 4, 5), dtype=float32, numpy=\n",
       "array([[[[0., 0., 0., 0., 0.],\n",
       "         [0., 0., 0., 0., 0.],\n",
       "         [0., 0., 0., 0., 0.],\n",
       "         [0., 0., 0., 0., 0.]],\n",
       "\n",
       "        [[0., 0., 0., 0., 0.],\n",
       "         [0., 0., 0., 0., 0.],\n",
       "         [0., 0., 0., 0., 0.],\n",
       "         [0., 0., 0., 0., 0.]],\n",
       "\n",
       "        [[0., 0., 0., 0., 0.],\n",
       "         [0., 0., 0., 0., 0.],\n",
       "         [0., 0., 0., 0., 0.],\n",
       "         [0., 0., 0., 0., 0.]]],\n",
       "\n",
       "\n",
       "       [[[0., 0., 0., 0., 0.],\n",
       "         [0., 0., 0., 0., 0.],\n",
       "         [0., 0., 0., 0., 0.],\n",
       "         [0., 0., 0., 0., 0.]],\n",
       "\n",
       "        [[0., 0., 0., 0., 0.],\n",
       "         [0., 0., 0., 0., 0.],\n",
       "         [0., 0., 0., 0., 0.],\n",
       "         [0., 0., 0., 0., 0.]],\n",
       "\n",
       "        [[0., 0., 0., 0., 0.],\n",
       "         [0., 0., 0., 0., 0.],\n",
       "         [0., 0., 0., 0., 0.],\n",
       "         [0., 0., 0., 0., 0.]]]], dtype=float32)>"
      ]
     },
     "metadata": {},
     "execution_count": 95
    }
   ],
   "metadata": {}
  },
  {
   "cell_type": "code",
   "execution_count": 96,
   "source": [
    "rank_4_tensor.shape, rank_4_tensor.ndim, tf.size(rank_4_tensor)"
   ],
   "outputs": [
    {
     "output_type": "execute_result",
     "data": {
      "text/plain": [
       "(TensorShape([2, 3, 4, 5]), 4, <tf.Tensor: shape=(), dtype=int32, numpy=120>)"
      ]
     },
     "metadata": {},
     "execution_count": 96
    }
   ],
   "metadata": {}
  },
  {
   "cell_type": "markdown",
   "source": [
    "## tensor의 정보 (shape, rank, size)를 얻는 과정 \r\n",
    "## shape : tensor를 이루는 각각의 차원의 길이 (elements의 수)\r\n",
    "## Rank : tensor를 이루는 차원의 갯수 (scalar는 0 / vector는 1 / matrix는 2 / tensor는 n (number) )\r\n",
    "## Axis or Dimension : tensor의 특정 차원을 지칭\r\n",
    "## size : tensor를 이루는 items (elements의 갯수)"
   ],
   "metadata": {}
  },
  {
   "cell_type": "code",
   "execution_count": 101,
   "source": [
    "print(\"모든 elements의 자료형은 \", rank_4_tensor.dtype)\r\n",
    "print(\"차원의 갯수 (rank)는 \", rank_4_tensor.ndim)\r\n",
    "print(\"텐서의 shape는 \", rank_4_tensor.shape)\r\n",
    "print(\"텐서의 axis 0에 속하는 element들은 \", rank_4_tensor.shape[0])\r\n",
    "print(\"텐서의 axis 1에 속하는 element들은 \", rank_4_tensor.shape[1])\r\n",
    "print(\"텐서의 마지막 axis에 속하는 element들은 \", rank_4_tensor.shape[-1])\r\n",
    "print(\"모든 element의 갯수 (2 * 3 * 4 * 5)는 \", tf.size(rank_4_tensor).numpy())\r\n",
    "# numpy()를 사용한 이유는 tf.size가 결과를 tensor로 주기 때문에 이 tensor를 numpy array형태로 변환이 필요"
   ],
   "outputs": [
    {
     "output_type": "stream",
     "name": "stdout",
     "text": [
      "모든 elements의 자료형은  <dtype: 'float32'>\n",
      "차원의 갯수 (rank)는  4\n",
      "텐서의 shape는  (2, 3, 4, 5)\n",
      "텐서의 axis 0에 속하는 element들은  2\n",
      "텐서의 axis 1에 속하는 element들은  3\n",
      "텐서의 마지막 axis에 속하는 element들은  5\n",
      "모든 element의 갯수 (2 * 3 * 4 * 5)는  <class 'numpy.int32'>\n"
     ]
    }
   ],
   "metadata": {}
  },
  {
   "cell_type": "code",
   "execution_count": 102,
   "source": [
    "rank_4_tensor[:2, :2, :2, :2]"
   ],
   "outputs": [
    {
     "output_type": "execute_result",
     "data": {
      "text/plain": [
       "<tf.Tensor: shape=(2, 2, 2, 2), dtype=float32, numpy=\n",
       "array([[[[0., 0.],\n",
       "         [0., 0.]],\n",
       "\n",
       "        [[0., 0.],\n",
       "         [0., 0.]]],\n",
       "\n",
       "\n",
       "       [[[0., 0.],\n",
       "         [0., 0.]],\n",
       "\n",
       "        [[0., 0.],\n",
       "         [0., 0.]]]], dtype=float32)>"
      ]
     },
     "metadata": {},
     "execution_count": 102
    }
   ],
   "metadata": {}
  },
  {
   "cell_type": "code",
   "execution_count": 103,
   "source": [
    "rank_4_tensor[:1, :1, :1, :]"
   ],
   "outputs": [
    {
     "output_type": "execute_result",
     "data": {
      "text/plain": [
       "<tf.Tensor: shape=(1, 1, 1, 5), dtype=float32, numpy=array([[[[0., 0., 0., 0., 0.]]]], dtype=float32)>"
      ]
     },
     "metadata": {},
     "execution_count": 103
    }
   ],
   "metadata": {}
  },
  {
   "cell_type": "code",
   "execution_count": 113,
   "source": [
    "rank_2_tensor = tf.constant([\r\n",
    "    [10, 7],\r\n",
    "    [3, 4]\r\n",
    "])"
   ],
   "outputs": [],
   "metadata": {}
  },
  {
   "cell_type": "code",
   "execution_count": 114,
   "source": [
    "# 각 행의 마지막 elements를 출력\r\n",
    "rank_2_tensor[:, -2]"
   ],
   "outputs": [
    {
     "output_type": "execute_result",
     "data": {
      "text/plain": [
       "<tf.Tensor: shape=(2,), dtype=int32, numpy=array([10,  3])>"
      ]
     },
     "metadata": {},
     "execution_count": 114
    }
   ],
   "metadata": {}
  },
  {
   "cell_type": "code",
   "execution_count": 115,
   "source": [
    "rank_3_tensor = rank_2_tensor[..., tf.newaxis]\r\n",
    "rank_2_tensor, rank_2_tensor.ndim, rank_3_tensor, rank_3_tensor.ndim\r\n",
    "# 파이썬에서 ...는 기존에 존재하는 것은 모두 유지"
   ],
   "outputs": [
    {
     "output_type": "execute_result",
     "data": {
      "text/plain": [
       "(<tf.Tensor: shape=(2, 2), dtype=int32, numpy=\n",
       " array([[10,  7],\n",
       "        [ 3,  4]])>,\n",
       " 2,\n",
       " <tf.Tensor: shape=(2, 2, 1), dtype=int32, numpy=\n",
       " array([[[10],\n",
       "         [ 7]],\n",
       " \n",
       "        [[ 3],\n",
       "         [ 4]]])>,\n",
       " 3)"
      ]
     },
     "metadata": {},
     "execution_count": 115
    }
   ],
   "metadata": {}
  },
  {
   "cell_type": "code",
   "execution_count": 116,
   "source": [
    "tf.expand_dims(rank_2_tensor, axis = -1)\r\n",
    "# axis = -1 / 마지막 차원이라는 뜻"
   ],
   "outputs": [
    {
     "output_type": "execute_result",
     "data": {
      "text/plain": [
       "<tf.Tensor: shape=(2, 2, 1), dtype=int32, numpy=\n",
       "array([[[10],\n",
       "        [ 7]],\n",
       "\n",
       "       [[ 3],\n",
       "        [ 4]]])>"
      ]
     },
     "metadata": {},
     "execution_count": 116
    }
   ],
   "metadata": {}
  },
  {
   "cell_type": "code",
   "execution_count": 117,
   "source": [
    "tensor = tf.constant([\r\n",
    "    [10, 7],\r\n",
    "    [3, 4]\r\n",
    "])\r\n",
    "tensor + 10"
   ],
   "outputs": [
    {
     "output_type": "execute_result",
     "data": {
      "text/plain": [
       "<tf.Tensor: shape=(2, 2), dtype=int32, numpy=\n",
       "array([[20, 17],\n",
       "       [13, 14]])>"
      ]
     },
     "metadata": {},
     "execution_count": 117
    }
   ],
   "metadata": {}
  },
  {
   "cell_type": "code",
   "execution_count": 118,
   "source": [
    "tensor"
   ],
   "outputs": [
    {
     "output_type": "execute_result",
     "data": {
      "text/plain": [
       "<tf.Tensor: shape=(2, 2), dtype=int32, numpy=\n",
       "array([[10,  7],\n",
       "       [ 3,  4]])>"
      ]
     },
     "metadata": {},
     "execution_count": 118
    }
   ],
   "metadata": {}
  },
  {
   "cell_type": "code",
   "execution_count": 119,
   "source": [
    "tensor = tf.Variable([\r\n",
    "    [10, 7],\r\n",
    "    [3, 4]\r\n",
    "])\r\n",
    "tensor + 10"
   ],
   "outputs": [
    {
     "output_type": "execute_result",
     "data": {
      "text/plain": [
       "<tf.Tensor: shape=(2, 2), dtype=int32, numpy=\n",
       "array([[20, 17],\n",
       "       [13, 14]])>"
      ]
     },
     "metadata": {},
     "execution_count": 119
    }
   ],
   "metadata": {}
  },
  {
   "cell_type": "code",
   "execution_count": 120,
   "source": [
    "tensor"
   ],
   "outputs": [
    {
     "output_type": "execute_result",
     "data": {
      "text/plain": [
       "<tf.Variable 'Variable:0' shape=(2, 2) dtype=int32, numpy=\n",
       "array([[10,  7],\n",
       "       [ 3,  4]])>"
      ]
     },
     "metadata": {},
     "execution_count": 120
    }
   ],
   "metadata": {}
  },
  {
   "cell_type": "code",
   "execution_count": 121,
   "source": [
    "tensor * 10"
   ],
   "outputs": [
    {
     "output_type": "execute_result",
     "data": {
      "text/plain": [
       "<tf.Tensor: shape=(2, 2), dtype=int32, numpy=\n",
       "array([[100,  70],\n",
       "       [ 30,  40]])>"
      ]
     },
     "metadata": {},
     "execution_count": 121
    }
   ],
   "metadata": {}
  },
  {
   "cell_type": "code",
   "execution_count": 122,
   "source": [
    "tensor"
   ],
   "outputs": [
    {
     "output_type": "execute_result",
     "data": {
      "text/plain": [
       "<tf.Variable 'Variable:0' shape=(2, 2) dtype=int32, numpy=\n",
       "array([[10,  7],\n",
       "       [ 3,  4]])>"
      ]
     },
     "metadata": {},
     "execution_count": 122
    }
   ],
   "metadata": {}
  },
  {
   "cell_type": "code",
   "execution_count": 123,
   "source": [
    "tensor - 10"
   ],
   "outputs": [
    {
     "output_type": "execute_result",
     "data": {
      "text/plain": [
       "<tf.Tensor: shape=(2, 2), dtype=int32, numpy=\n",
       "array([[ 0, -3],\n",
       "       [-7, -6]])>"
      ]
     },
     "metadata": {},
     "execution_count": 123
    }
   ],
   "metadata": {}
  },
  {
   "cell_type": "code",
   "execution_count": 124,
   "source": [
    "tensor"
   ],
   "outputs": [
    {
     "output_type": "execute_result",
     "data": {
      "text/plain": [
       "<tf.Variable 'Variable:0' shape=(2, 2) dtype=int32, numpy=\n",
       "array([[10,  7],\n",
       "       [ 3,  4]])>"
      ]
     },
     "metadata": {},
     "execution_count": 124
    }
   ],
   "metadata": {}
  },
  {
   "cell_type": "code",
   "execution_count": 125,
   "source": [
    "tf.multiply(tensor, 10)"
   ],
   "outputs": [
    {
     "output_type": "execute_result",
     "data": {
      "text/plain": [
       "<tf.Tensor: shape=(2, 2), dtype=int32, numpy=\n",
       "array([[100,  70],\n",
       "       [ 30,  40]])>"
      ]
     },
     "metadata": {},
     "execution_count": 125
    }
   ],
   "metadata": {}
  },
  {
   "cell_type": "code",
   "execution_count": 126,
   "source": [
    "tensor"
   ],
   "outputs": [
    {
     "output_type": "execute_result",
     "data": {
      "text/plain": [
       "<tf.Variable 'Variable:0' shape=(2, 2) dtype=int32, numpy=\n",
       "array([[10,  7],\n",
       "       [ 3,  4]])>"
      ]
     },
     "metadata": {},
     "execution_count": 126
    }
   ],
   "metadata": {}
  },
  {
   "cell_type": "code",
   "execution_count": 127,
   "source": [
    "tf.subtract(tensor, 10)"
   ],
   "outputs": [
    {
     "output_type": "execute_result",
     "data": {
      "text/plain": [
       "<tf.Tensor: shape=(2, 2), dtype=int32, numpy=\n",
       "array([[ 0, -3],\n",
       "       [-7, -6]])>"
      ]
     },
     "metadata": {},
     "execution_count": 127
    }
   ],
   "metadata": {}
  },
  {
   "cell_type": "code",
   "execution_count": 128,
   "source": [
    "tf.add(tensor, 10)"
   ],
   "outputs": [
    {
     "output_type": "execute_result",
     "data": {
      "text/plain": [
       "<tf.Tensor: shape=(2, 2), dtype=int32, numpy=\n",
       "array([[20, 17],\n",
       "       [13, 14]])>"
      ]
     },
     "metadata": {},
     "execution_count": 128
    }
   ],
   "metadata": {}
  },
  {
   "cell_type": "markdown",
   "source": [
    "## TensorFlow에서는 matrix multiplication을 tf.matmul()로 처리합니다.\r\n",
    "## 파이썬에서 @는 matrix multiplication을 의미하기도 합니다. @는 annotation을 의미하기도 합니다.\r\n",
    "## 규칙 1 : 안에 있는 차원이 같아야 한다\r\n",
    "## (3, 5) @ (3, 5) ==> 안 됨!\r\n",
    "## (5, 3) @ (3, 5) ==> 잘 됨!\r\n",
    "## (3, 5) @ (5, 3) ==> 잘 됨!\r\n",
    "\r\n",
    "## 규칙 2: 연산의 결과 행렬은 외부 차원들로 이루어 진다\r\n",
    "## (5, 3) @ (3, 5) => (5, 5)\r\n",
    "## (3, 5) @ (5, 3) => (3, 3)"
   ],
   "metadata": {}
  },
  {
   "cell_type": "code",
   "execution_count": 129,
   "source": [
    "tensor = tf.constant([\r\n",
    "    [10, 7],\r\n",
    "    [3, 4]\r\n",
    "])\r\n",
    "tensor"
   ],
   "outputs": [
    {
     "output_type": "execute_result",
     "data": {
      "text/plain": [
       "<tf.Tensor: shape=(2, 2), dtype=int32, numpy=\n",
       "array([[10,  7],\n",
       "       [ 3,  4]])>"
      ]
     },
     "metadata": {},
     "execution_count": 129
    }
   ],
   "metadata": {}
  },
  {
   "cell_type": "code",
   "execution_count": 130,
   "source": [
    "# (2, 2) @ (2, 2)\r\n",
    "tf.matmul(tensor, tensor)"
   ],
   "outputs": [
    {
     "output_type": "execute_result",
     "data": {
      "text/plain": [
       "<tf.Tensor: shape=(2, 2), dtype=int32, numpy=\n",
       "array([[121,  98],\n",
       "       [ 42,  37]])>"
      ]
     },
     "metadata": {},
     "execution_count": 130
    }
   ],
   "metadata": {}
  },
  {
   "cell_type": "code",
   "execution_count": 131,
   "source": [
    "tensor @ tensor"
   ],
   "outputs": [
    {
     "output_type": "execute_result",
     "data": {
      "text/plain": [
       "<tf.Tensor: shape=(2, 2), dtype=int32, numpy=\n",
       "array([[121,  98],\n",
       "       [ 42,  37]])>"
      ]
     },
     "metadata": {},
     "execution_count": 131
    }
   ],
   "metadata": {}
  },
  {
   "cell_type": "code",
   "execution_count": 134,
   "source": [
    "X = tf.constant([\r\n",
    "    [1, 2],\r\n",
    "    [3, 4],\r\n",
    "    [5, 6]\r\n",
    "])\r\n",
    "\r\n",
    "Y = tf.constant([\r\n",
    "    [7, 8],\r\n",
    "    [9, 10],\r\n",
    "    [11, 12]\r\n",
    "])\r\n",
    "X, Y, X.ndim, Y.ndim"
   ],
   "outputs": [
    {
     "output_type": "execute_result",
     "data": {
      "text/plain": [
       "(<tf.Tensor: shape=(3, 2), dtype=int32, numpy=\n",
       " array([[1, 2],\n",
       "        [3, 4],\n",
       "        [5, 6]])>,\n",
       " <tf.Tensor: shape=(3, 2), dtype=int32, numpy=\n",
       " array([[ 7,  8],\n",
       "        [ 9, 10],\n",
       "        [11, 12]])>,\n",
       " 2,\n",
       " 2)"
      ]
     },
     "metadata": {},
     "execution_count": 134
    }
   ],
   "metadata": {}
  },
  {
   "cell_type": "code",
   "execution_count": null,
   "source": [
    "# (3, 2) @ (3, 2) => 규칙 1 위반\r\n",
    "\r\n",
    "X @ Y"
   ],
   "outputs": [],
   "metadata": {}
  },
  {
   "cell_type": "code",
   "execution_count": null,
   "source": [
    "tf.matmul(X, Y)"
   ],
   "outputs": [],
   "metadata": {}
  },
  {
   "cell_type": "markdown",
   "source": [
    "## 위와 같은 경우를 해결하려면\r\n",
    "## (3, 2) @ (3, 2)\r\n",
    "## 1) X의 shape 변경 => (2, 3) @ (3, 2) => 결과 (2, 2)\r\n",
    "## 2) Y의 shape 변경 => (3, 2) @ (2, 3) => 결과 (3, 3)"
   ],
   "metadata": {}
  },
  {
   "cell_type": "code",
   "execution_count": 137,
   "source": [
    "tf.reshape(X, shape=(2, 3))"
   ],
   "outputs": [
    {
     "output_type": "execute_result",
     "data": {
      "text/plain": [
       "<tf.Tensor: shape=(2, 3), dtype=int32, numpy=\n",
       "array([[1, 2, 3],\n",
       "       [4, 5, 6]])>"
      ]
     },
     "metadata": {},
     "execution_count": 137
    }
   ],
   "metadata": {}
  },
  {
   "cell_type": "code",
   "execution_count": 139,
   "source": [
    "tf.reshape(X, shape=(2, 3)) @ Y"
   ],
   "outputs": [
    {
     "output_type": "execute_result",
     "data": {
      "text/plain": [
       "<tf.Tensor: shape=(2, 2), dtype=int32, numpy=\n",
       "array([[ 58,  64],\n",
       "       [139, 154]])>"
      ]
     },
     "metadata": {},
     "execution_count": 139
    }
   ],
   "metadata": {}
  },
  {
   "cell_type": "code",
   "execution_count": 140,
   "source": [
    "tf.reshape(Y, shape=(2, 3))"
   ],
   "outputs": [
    {
     "output_type": "execute_result",
     "data": {
      "text/plain": [
       "<tf.Tensor: shape=(2, 3), dtype=int32, numpy=\n",
       "array([[ 7,  8,  9],\n",
       "       [10, 11, 12]])>"
      ]
     },
     "metadata": {},
     "execution_count": 140
    }
   ],
   "metadata": {}
  },
  {
   "cell_type": "code",
   "execution_count": 141,
   "source": [
    "X @ tf.reshape(Y, shape=(2, 3))"
   ],
   "outputs": [
    {
     "output_type": "execute_result",
     "data": {
      "text/plain": [
       "<tf.Tensor: shape=(3, 3), dtype=int32, numpy=\n",
       "array([[ 27,  30,  33],\n",
       "       [ 61,  68,  75],\n",
       "       [ 95, 106, 117]])>"
      ]
     },
     "metadata": {},
     "execution_count": 141
    }
   ],
   "metadata": {}
  },
  {
   "cell_type": "code",
   "execution_count": 144,
   "source": [
    "X, tf.reshape(X, shape=(2, 3)), tf.transpose(X)"
   ],
   "outputs": [
    {
     "output_type": "execute_result",
     "data": {
      "text/plain": [
       "(<tf.Tensor: shape=(3, 2), dtype=int32, numpy=\n",
       " array([[1, 2],\n",
       "        [3, 4],\n",
       "        [5, 6]])>,\n",
       " <tf.Tensor: shape=(2, 3), dtype=int32, numpy=\n",
       " array([[1, 2, 3],\n",
       "        [4, 5, 6]])>,\n",
       " <tf.Tensor: shape=(2, 3), dtype=int32, numpy=\n",
       " array([[1, 3, 5],\n",
       "        [2, 4, 6]])>)"
      ]
     },
     "metadata": {},
     "execution_count": 144
    }
   ],
   "metadata": {}
  },
  {
   "cell_type": "code",
   "execution_count": 145,
   "source": [
    "tf.reshape(X, shape=(2, 3)) @ Y, tf.transpose(X) @ Y"
   ],
   "outputs": [
    {
     "output_type": "execute_result",
     "data": {
      "text/plain": [
       "(<tf.Tensor: shape=(2, 2), dtype=int32, numpy=\n",
       " array([[ 58,  64],\n",
       "        [139, 154]])>,\n",
       " <tf.Tensor: shape=(2, 2), dtype=int32, numpy=\n",
       " array([[ 89,  98],\n",
       "        [116, 128]])>)"
      ]
     },
     "metadata": {},
     "execution_count": 145
    }
   ],
   "metadata": {}
  },
  {
   "cell_type": "code",
   "execution_count": 146,
   "source": [
    "tf.matmul(tf.transpose(X), Y)"
   ],
   "outputs": [
    {
     "output_type": "execute_result",
     "data": {
      "text/plain": [
       "<tf.Tensor: shape=(2, 2), dtype=int32, numpy=\n",
       "array([[ 89,  98],\n",
       "       [116, 128]])>"
      ]
     },
     "metadata": {},
     "execution_count": 146
    }
   ],
   "metadata": {}
  },
  {
   "cell_type": "code",
   "execution_count": 148,
   "source": [
    "tf.matmul(a = X, b= Y, transpose_a = True, transpose_b = False)"
   ],
   "outputs": [
    {
     "output_type": "execute_result",
     "data": {
      "text/plain": [
       "<tf.Tensor: shape=(2, 2), dtype=int32, numpy=\n",
       "array([[ 89,  98],\n",
       "       [116, 128]])>"
      ]
     },
     "metadata": {},
     "execution_count": 148
    }
   ],
   "metadata": {}
  },
  {
   "cell_type": "code",
   "execution_count": 149,
   "source": [
    "tf.tensordot(tf.transpose(X), Y, axes = 1)"
   ],
   "outputs": [
    {
     "output_type": "execute_result",
     "data": {
      "text/plain": [
       "<tf.Tensor: shape=(2, 2), dtype=int32, numpy=\n",
       "array([[ 89,  98],\n",
       "       [116, 128]])>"
      ]
     },
     "metadata": {},
     "execution_count": 149
    }
   ],
   "metadata": {}
  },
  {
   "cell_type": "code",
   "execution_count": 437,
   "source": [
    "tf.matmul(X, tf.transpose(Y))"
   ],
   "outputs": [
    {
     "output_type": "execute_result",
     "data": {
      "text/plain": [
       "<tf.Tensor: shape=(3, 3), dtype=int32, numpy=\n",
       "array([[ 23,  29,  35],\n",
       "       [ 53,  67,  81],\n",
       "       [ 83, 105, 127]])>"
      ]
     },
     "metadata": {},
     "execution_count": 437
    }
   ],
   "metadata": {}
  },
  {
   "cell_type": "code",
   "execution_count": 438,
   "source": [
    "tf.matmul(X, tf.reshape(Y, (2, 3)))"
   ],
   "outputs": [
    {
     "output_type": "execute_result",
     "data": {
      "text/plain": [
       "<tf.Tensor: shape=(3, 3), dtype=int32, numpy=\n",
       "array([[ 27,  30,  33],\n",
       "       [ 61,  68,  75],\n",
       "       [ 95, 106, 117]])>"
      ]
     },
     "metadata": {},
     "execution_count": 438
    }
   ],
   "metadata": {}
  },
  {
   "cell_type": "code",
   "execution_count": 440,
   "source": [
    "Y.shape, tf.reshape(Y, (2, 3)).shape, tf.transpose(Y).shape"
   ],
   "outputs": [
    {
     "output_type": "execute_result",
     "data": {
      "text/plain": [
       "(TensorShape([3, 2]), TensorShape([2, 3]), TensorShape([2, 3]))"
      ]
     },
     "metadata": {},
     "execution_count": 440
    }
   ],
   "metadata": {}
  },
  {
   "cell_type": "code",
   "execution_count": 441,
   "source": [
    "Y.shape, tf.reshape(Y, (2, 3)), tf.transpose(Y)"
   ],
   "outputs": [
    {
     "output_type": "execute_result",
     "data": {
      "text/plain": [
       "(TensorShape([3, 2]),\n",
       " <tf.Tensor: shape=(2, 3), dtype=int32, numpy=\n",
       " array([[ 7,  8,  9],\n",
       "        [10, 11, 12]])>,\n",
       " <tf.Tensor: shape=(2, 3), dtype=int32, numpy=\n",
       " array([[ 7,  9, 11],\n",
       "        [ 8, 10, 12]])>)"
      ]
     },
     "metadata": {},
     "execution_count": 441
    }
   ],
   "metadata": {}
  },
  {
   "cell_type": "markdown",
   "source": [
    "## tf.reshape() : 주어진 tensor의 shape를 지정한 shape로 바꾸어 준다. 그 값이 나온 순서대로 (행에서 그리고 열) 값을 채운다. \r\n",
    "## tf.transpose() : 축을 바꾸어준다."
   ],
   "metadata": {}
  },
  {
   "cell_type": "code",
   "execution_count": 442,
   "source": [
    "B = tf.constant([1.7, 7.4])"
   ],
   "outputs": [],
   "metadata": {}
  },
  {
   "cell_type": "code",
   "execution_count": 443,
   "source": [
    "C = tf.constant([1, 7])"
   ],
   "outputs": [],
   "metadata": {}
  },
  {
   "cell_type": "code",
   "execution_count": 444,
   "source": [
    "B, C"
   ],
   "outputs": [
    {
     "output_type": "execute_result",
     "data": {
      "text/plain": [
       "(<tf.Tensor: shape=(2,), dtype=float32, numpy=array([1.7, 7.4], dtype=float32)>,\n",
       " <tf.Tensor: shape=(2,), dtype=int32, numpy=array([1, 7])>)"
      ]
     },
     "metadata": {},
     "execution_count": 444
    }
   ],
   "metadata": {}
  },
  {
   "cell_type": "code",
   "execution_count": 445,
   "source": [
    "B = tf.cast(B, dtype=tf.float16)\r\n",
    "B"
   ],
   "outputs": [
    {
     "output_type": "execute_result",
     "data": {
      "text/plain": [
       "<tf.Tensor: shape=(2,), dtype=float16, numpy=array([1.7, 7.4], dtype=float16)>"
      ]
     },
     "metadata": {},
     "execution_count": 445
    }
   ],
   "metadata": {}
  },
  {
   "cell_type": "code",
   "execution_count": 446,
   "source": [
    "C = tf.cast(C, dtype=tf.float32)\r\n",
    "C"
   ],
   "outputs": [
    {
     "output_type": "execute_result",
     "data": {
      "text/plain": [
       "<tf.Tensor: shape=(2,), dtype=float32, numpy=array([1., 7.], dtype=float32)>"
      ]
     },
     "metadata": {},
     "execution_count": 446
    }
   ],
   "metadata": {}
  },
  {
   "cell_type": "code",
   "execution_count": 447,
   "source": [
    "D = tf.constant([-7, -10])\r\n",
    "D"
   ],
   "outputs": [
    {
     "output_type": "execute_result",
     "data": {
      "text/plain": [
       "<tf.Tensor: shape=(2,), dtype=int32, numpy=array([ -7, -10])>"
      ]
     },
     "metadata": {},
     "execution_count": 447
    }
   ],
   "metadata": {}
  },
  {
   "cell_type": "code",
   "execution_count": 448,
   "source": [
    "tf.abs(D)"
   ],
   "outputs": [
    {
     "output_type": "execute_result",
     "data": {
      "text/plain": [
       "<tf.Tensor: shape=(2,), dtype=int32, numpy=array([ 7, 10])>"
      ]
     },
     "metadata": {},
     "execution_count": 448
    }
   ],
   "metadata": {}
  },
  {
   "cell_type": "code",
   "execution_count": 453,
   "source": [
    "E = tf.constant(np.random.randint(low = 0, high = 100, size = 50))\r\n",
    "E"
   ],
   "outputs": [
    {
     "output_type": "execute_result",
     "data": {
      "text/plain": [
       "<tf.Tensor: shape=(50,), dtype=int32, numpy=\n",
       "array([ 6, 68, 91, 13, 26, 24, 71, 44, 46, 10, 50, 17, 63, 56, 92, 84, 79,\n",
       "       96, 39,  8, 23, 72, 39, 42, 43, 65,  1, 54, 54, 70, 43, 94, 37, 78,\n",
       "       20, 81, 93, 30, 79, 13,  0, 44, 95, 38, 25, 34, 25, 19,  4, 61])>"
      ]
     },
     "metadata": {},
     "execution_count": 453
    }
   ],
   "metadata": {}
  },
  {
   "cell_type": "code",
   "execution_count": 469,
   "source": [
    "tf.math.reduce_min(E)"
   ],
   "outputs": [
    {
     "output_type": "execute_result",
     "data": {
      "text/plain": [
       "<tf.Tensor: shape=(), dtype=int32, numpy=0>"
      ]
     },
     "metadata": {},
     "execution_count": 469
    }
   ],
   "metadata": {}
  },
  {
   "cell_type": "code",
   "execution_count": 470,
   "source": [
    "tf.math.reduce_max(E)"
   ],
   "outputs": [
    {
     "output_type": "execute_result",
     "data": {
      "text/plain": [
       "<tf.Tensor: shape=(), dtype=int32, numpy=96>"
      ]
     },
     "metadata": {},
     "execution_count": 470
    }
   ],
   "metadata": {}
  },
  {
   "cell_type": "code",
   "execution_count": 471,
   "source": [
    "tf.math.reduce_mean(E)"
   ],
   "outputs": [
    {
     "output_type": "execute_result",
     "data": {
      "text/plain": [
       "<tf.Tensor: shape=(), dtype=int32, numpy=47>"
      ]
     },
     "metadata": {},
     "execution_count": 471
    }
   ],
   "metadata": {}
  },
  {
   "cell_type": "code",
   "execution_count": 472,
   "source": [
    "tf.math.reduce_sum(E)"
   ],
   "outputs": [
    {
     "output_type": "execute_result",
     "data": {
      "text/plain": [
       "<tf.Tensor: shape=(), dtype=int32, numpy=2359>"
      ]
     },
     "metadata": {},
     "execution_count": 472
    }
   ],
   "metadata": {}
  },
  {
   "cell_type": "code",
   "execution_count": 479,
   "source": [
    "tf.math.reduce_std(tf.cast(E, dtype=tf.float16))"
   ],
   "outputs": [
    {
     "output_type": "execute_result",
     "data": {
      "text/plain": [
       "<tf.Tensor: shape=(), dtype=float16, numpy=28.44>"
      ]
     },
     "metadata": {},
     "execution_count": 479
    }
   ],
   "metadata": {}
  },
  {
   "cell_type": "code",
   "execution_count": 468,
   "source": [
    "tf.math.reduce_variance(tf.cast(E, dtype=tf.float16))"
   ],
   "outputs": [
    {
     "output_type": "execute_result",
     "data": {
      "text/plain": [
       "<tf.Tensor: shape=(), dtype=float16, numpy=808.5>"
      ]
     },
     "metadata": {},
     "execution_count": 468
    }
   ],
   "metadata": {}
  },
  {
   "cell_type": "code",
   "execution_count": 476,
   "source": [
    "tf.math.argmax(E) # max 값을 가진 위치를 알려준다"
   ],
   "outputs": [
    {
     "output_type": "execute_result",
     "data": {
      "text/plain": [
       "<tf.Tensor: shape=(), dtype=int64, numpy=17>"
      ]
     },
     "metadata": {},
     "execution_count": 476
    }
   ],
   "metadata": {}
  },
  {
   "cell_type": "code",
   "execution_count": 477,
   "source": [
    "tf.math.argmin(E) # min 값을 가진 위치를 알려준다"
   ],
   "outputs": [
    {
     "output_type": "execute_result",
     "data": {
      "text/plain": [
       "<tf.Tensor: shape=(), dtype=int64, numpy=40>"
      ]
     },
     "metadata": {},
     "execution_count": 477
    }
   ],
   "metadata": {}
  },
  {
   "cell_type": "markdown",
   "source": [
    "## [\"Red\", \"Green\", \"Blue\"] : 우리가 보는 라벨\r\n",
    "## [0.98, 0.01, 0.01] : softmax를 통해서 고를 예측 확률 argmax"
   ],
   "metadata": {}
  },
  {
   "cell_type": "code",
   "execution_count": 480,
   "source": [
    "F = tf.constant(np.random.random(50))\r\n",
    "F"
   ],
   "outputs": [
    {
     "output_type": "execute_result",
     "data": {
      "text/plain": [
       "<tf.Tensor: shape=(50,), dtype=float64, numpy=\n",
       "array([0.87554278, 0.40352593, 0.85596206, 0.98904959, 0.87281304,\n",
       "       0.20646059, 0.61111544, 0.43039855, 0.07732076, 0.32968703,\n",
       "       0.26296983, 0.33655549, 0.69321445, 0.25391615, 0.63570385,\n",
       "       0.0016405 , 0.52555945, 0.64351851, 0.39608375, 0.37860857,\n",
       "       0.87891623, 0.45032602, 0.10232663, 0.34121392, 0.76516572,\n",
       "       0.90544878, 0.70998925, 0.4944193 , 0.70044257, 0.12357105,\n",
       "       0.50832023, 0.80009119, 0.24349573, 0.13670037, 0.02172801,\n",
       "       0.37661289, 0.58245278, 0.21921336, 0.84599379, 0.53664226,\n",
       "       0.980166  , 0.62000601, 0.86424909, 0.2466399 , 0.41342146,\n",
       "       0.7130985 , 0.83867675, 0.94069129, 0.72880424, 0.21400572])>"
      ]
     },
     "metadata": {},
     "execution_count": 480
    }
   ],
   "metadata": {}
  },
  {
   "cell_type": "code",
   "execution_count": 482,
   "source": [
    "tf.reduce_max(F), tf.argmax(F)"
   ],
   "outputs": [
    {
     "output_type": "execute_result",
     "data": {
      "text/plain": [
       "(<tf.Tensor: shape=(), dtype=float64, numpy=0.989049586432909>,\n",
       " <tf.Tensor: shape=(), dtype=int64, numpy=3>)"
      ]
     },
     "metadata": {},
     "execution_count": 482
    }
   ],
   "metadata": {}
  },
  {
   "cell_type": "code",
   "execution_count": 483,
   "source": [
    "tf.reduce_min(F), tf.argmin(F)"
   ],
   "outputs": [
    {
     "output_type": "execute_result",
     "data": {
      "text/plain": [
       "(<tf.Tensor: shape=(), dtype=float64, numpy=0.0016405033549572456>,\n",
       " <tf.Tensor: shape=(), dtype=int64, numpy=15>)"
      ]
     },
     "metadata": {},
     "execution_count": 483
    }
   ],
   "metadata": {}
  },
  {
   "cell_type": "code",
   "execution_count": 485,
   "source": [
    "print(f\"F의 최대값의 위치는 {tf.argmax(F).numpy()}\")\r\n",
    "print(f\"F의 최대값은 {tf.reduce_max(F).numpy()}\")"
   ],
   "outputs": [
    {
     "output_type": "stream",
     "name": "stdout",
     "text": [
      "F의 최대값의 위치는 3\n",
      "F의 최대값은 0.989049586432909\n"
     ]
    }
   ],
   "metadata": {}
  },
  {
   "cell_type": "code",
   "execution_count": 490,
   "source": [
    "print(f\"tf.argmax()의 값을 이용해서 찾은 F의 최대값는 {F[tf.argmax(F)].numpy()}\")\r\n",
    "print(f\"tf.reduce_max의 값과 tf.argmax()를 통해서 찾은 값은 같을까? {F[tf.argmax(F)].numpy() == tf.reduce_max(F).numpy()}\")"
   ],
   "outputs": [
    {
     "output_type": "stream",
     "name": "stdout",
     "text": [
      "tf.argmax()의 값을 이용해서 찾은 F의 최대값는 0.989049586432909\n",
      "tf.reduce_max의 값과 tf.argmax()를 통해서 찾은 값은 같을까? True\n"
     ]
    }
   ],
   "metadata": {}
  },
  {
   "cell_type": "code",
   "execution_count": 494,
   "source": [
    "G = tf.constant(np.random.randint(0, 100, 50), shape = (1, 1, 1, 1, 50))\r\n",
    "G, G.shape, G.ndim"
   ],
   "outputs": [
    {
     "output_type": "execute_result",
     "data": {
      "text/plain": [
       "(<tf.Tensor: shape=(1, 1, 1, 1, 50), dtype=int32, numpy=\n",
       " array([[[[[13,  8, 40, 80, 83,  4, 11, 53, 68, 39, 91, 57, 90, 30, 15,\n",
       "            54, 28, 58, 69, 70, 11, 88, 70, 64, 84, 45, 74, 87, 46, 28,\n",
       "            13, 92, 55, 12, 23, 84, 46, 70, 25, 34, 37, 98, 72, 40, 73,\n",
       "            47, 32, 90, 47, 77]]]]])>,\n",
       " TensorShape([1, 1, 1, 1, 50]),\n",
       " 5)"
      ]
     },
     "metadata": {},
     "execution_count": 494
    }
   ],
   "metadata": {}
  },
  {
   "cell_type": "code",
   "execution_count": 496,
   "source": [
    "G_squeezed = tf.squeeze(G)\r\n",
    "G_squeezed.shape, G_squeezed.ndim\r\n",
    "\r\n",
    "# 차원의 크기가 1인 차원을 제거해주는 함수"
   ],
   "outputs": [
    {
     "output_type": "execute_result",
     "data": {
      "text/plain": [
       "(TensorShape([50]), 1)"
      ]
     },
     "metadata": {},
     "execution_count": 496
    }
   ],
   "metadata": {}
  },
  {
   "cell_type": "code",
   "execution_count": 498,
   "source": [
    "some_list = [0, 1, 2, 3]\r\n",
    "some_list"
   ],
   "outputs": [
    {
     "output_type": "execute_result",
     "data": {
      "text/plain": [
       "[0, 1, 2, 3]"
      ]
     },
     "metadata": {},
     "execution_count": 498
    }
   ],
   "metadata": {}
  },
  {
   "cell_type": "code",
   "execution_count": 502,
   "source": [
    "tf.one_hot(some_list, depth=4)"
   ],
   "outputs": [
    {
     "output_type": "execute_result",
     "data": {
      "text/plain": [
       "<tf.Tensor: shape=(4, 4), dtype=float32, numpy=\n",
       "array([[1., 0., 0., 0.],\n",
       "       [0., 1., 0., 0.],\n",
       "       [0., 0., 1., 0.],\n",
       "       [0., 0., 0., 1.]], dtype=float32)>"
      ]
     },
     "metadata": {},
     "execution_count": 502
    }
   ],
   "metadata": {}
  },
  {
   "cell_type": "code",
   "execution_count": 503,
   "source": [
    "tf.one_hot(some_list, depth=4, on_value=\"On\", off_value=\"Off\")"
   ],
   "outputs": [
    {
     "output_type": "execute_result",
     "data": {
      "text/plain": [
       "<tf.Tensor: shape=(4, 4), dtype=string, numpy=\n",
       "array([[b'On', b'Off', b'Off', b'Off'],\n",
       "       [b'Off', b'On', b'Off', b'Off'],\n",
       "       [b'Off', b'Off', b'On', b'Off'],\n",
       "       [b'Off', b'Off', b'Off', b'On']], dtype=object)>"
      ]
     },
     "metadata": {},
     "execution_count": 503
    }
   ],
   "metadata": {}
  },
  {
   "cell_type": "code",
   "execution_count": 504,
   "source": [
    "H = tf.constant(np.arange(1, 10))\r\n",
    "H"
   ],
   "outputs": [
    {
     "output_type": "execute_result",
     "data": {
      "text/plain": [
       "<tf.Tensor: shape=(9,), dtype=int32, numpy=array([1, 2, 3, 4, 5, 6, 7, 8, 9])>"
      ]
     },
     "metadata": {},
     "execution_count": 504
    }
   ],
   "metadata": {}
  },
  {
   "cell_type": "code",
   "execution_count": 505,
   "source": [
    "tf.square(H)"
   ],
   "outputs": [
    {
     "output_type": "execute_result",
     "data": {
      "text/plain": [
       "<tf.Tensor: shape=(9,), dtype=int32, numpy=array([ 1,  4,  9, 16, 25, 36, 49, 64, 81])>"
      ]
     },
     "metadata": {},
     "execution_count": 505
    }
   ],
   "metadata": {}
  },
  {
   "cell_type": "code",
   "execution_count": 508,
   "source": [
    "tf.sqrt(H)"
   ],
   "outputs": [
    {
     "output_type": "error",
     "ename": "InvalidArgumentError",
     "evalue": "Value for attr 'T' of int32 is not in the list of allowed values: bfloat16, half, float, double, complex64, complex128\n\t; NodeDef: {{node Sqrt}}; Op<name=Sqrt; signature=x:T -> y:T; attr=T:type,allowed=[DT_BFLOAT16, DT_HALF, DT_FLOAT, DT_DOUBLE, DT_COMPLEX64, DT_COMPLEX128]> [Op:Sqrt]",
     "traceback": [
      "\u001b[1;31m---------------------------------------------------------------------------\u001b[0m",
      "\u001b[1;31mInvalidArgumentError\u001b[0m                      Traceback (most recent call last)",
      "\u001b[1;32m~\\AppData\\Local\\Temp/ipykernel_14200/2689301343.py\u001b[0m in \u001b[0;36m<module>\u001b[1;34m\u001b[0m\n\u001b[1;32m----> 1\u001b[1;33m \u001b[0mtf\u001b[0m\u001b[1;33m.\u001b[0m\u001b[0msqrt\u001b[0m\u001b[1;33m(\u001b[0m\u001b[0mH\u001b[0m\u001b[1;33m)\u001b[0m\u001b[1;33m\u001b[0m\u001b[1;33m\u001b[0m\u001b[0m\n\u001b[0m",
      "\u001b[1;32mc:\\workspace\\lecture_tensorflow\\venv\\lib\\site-packages\\tensorflow\\python\\util\\dispatch.py\u001b[0m in \u001b[0;36mwrapper\u001b[1;34m(*args, **kwargs)\u001b[0m\n\u001b[0;32m    204\u001b[0m     \u001b[1;34m\"\"\"Call target, and fall back on dispatchers if there is a TypeError.\"\"\"\u001b[0m\u001b[1;33m\u001b[0m\u001b[1;33m\u001b[0m\u001b[0m\n\u001b[0;32m    205\u001b[0m     \u001b[1;32mtry\u001b[0m\u001b[1;33m:\u001b[0m\u001b[1;33m\u001b[0m\u001b[1;33m\u001b[0m\u001b[0m\n\u001b[1;32m--> 206\u001b[1;33m       \u001b[1;32mreturn\u001b[0m \u001b[0mtarget\u001b[0m\u001b[1;33m(\u001b[0m\u001b[1;33m*\u001b[0m\u001b[0margs\u001b[0m\u001b[1;33m,\u001b[0m \u001b[1;33m**\u001b[0m\u001b[0mkwargs\u001b[0m\u001b[1;33m)\u001b[0m\u001b[1;33m\u001b[0m\u001b[1;33m\u001b[0m\u001b[0m\n\u001b[0m\u001b[0;32m    207\u001b[0m     \u001b[1;32mexcept\u001b[0m \u001b[1;33m(\u001b[0m\u001b[0mTypeError\u001b[0m\u001b[1;33m,\u001b[0m \u001b[0mValueError\u001b[0m\u001b[1;33m)\u001b[0m\u001b[1;33m:\u001b[0m\u001b[1;33m\u001b[0m\u001b[1;33m\u001b[0m\u001b[0m\n\u001b[0;32m    208\u001b[0m       \u001b[1;31m# Note: convert_to_eager_tensor currently raises a ValueError, not a\u001b[0m\u001b[1;33m\u001b[0m\u001b[1;33m\u001b[0m\u001b[1;33m\u001b[0m\u001b[0m\n",
      "\u001b[1;32mc:\\workspace\\lecture_tensorflow\\venv\\lib\\site-packages\\tensorflow\\python\\ops\\math_ops.py\u001b[0m in \u001b[0;36msqrt\u001b[1;34m(x, name)\u001b[0m\n\u001b[0;32m   5324\u001b[0m     \u001b[0mA\u001b[0m\u001b[0;31m \u001b[0m\u001b[0;31m`\u001b[0m\u001b[0mtf\u001b[0m\u001b[1;33m.\u001b[0m\u001b[0mTensor\u001b[0m\u001b[0;31m`\u001b[0m \u001b[0mof\u001b[0m \u001b[0msame\u001b[0m \u001b[0msize\u001b[0m\u001b[1;33m,\u001b[0m \u001b[0mtype\u001b[0m \u001b[1;32mand\u001b[0m \u001b[0msparsity\u001b[0m \u001b[1;32mas\u001b[0m\u001b[0;31m \u001b[0m\u001b[0;31m`\u001b[0m\u001b[0mx\u001b[0m\u001b[0;31m`\u001b[0m\u001b[1;33m.\u001b[0m\u001b[1;33m\u001b[0m\u001b[1;33m\u001b[0m\u001b[0m\n\u001b[0;32m   5325\u001b[0m   \"\"\"\n\u001b[1;32m-> 5326\u001b[1;33m   \u001b[1;32mreturn\u001b[0m \u001b[0mgen_math_ops\u001b[0m\u001b[1;33m.\u001b[0m\u001b[0msqrt\u001b[0m\u001b[1;33m(\u001b[0m\u001b[0mx\u001b[0m\u001b[1;33m,\u001b[0m \u001b[0mname\u001b[0m\u001b[1;33m)\u001b[0m\u001b[1;33m\u001b[0m\u001b[1;33m\u001b[0m\u001b[0m\n\u001b[0m\u001b[0;32m   5327\u001b[0m \u001b[1;33m\u001b[0m\u001b[0m\n\u001b[0;32m   5328\u001b[0m \u001b[1;33m\u001b[0m\u001b[0m\n",
      "\u001b[1;32mc:\\workspace\\lecture_tensorflow\\venv\\lib\\site-packages\\tensorflow\\python\\ops\\gen_math_ops.py\u001b[0m in \u001b[0;36msqrt\u001b[1;34m(x, name)\u001b[0m\n\u001b[0;32m  10298\u001b[0m       \u001b[1;32mreturn\u001b[0m \u001b[0m_result\u001b[0m\u001b[1;33m\u001b[0m\u001b[1;33m\u001b[0m\u001b[0m\n\u001b[0;32m  10299\u001b[0m     \u001b[1;32mexcept\u001b[0m \u001b[0m_core\u001b[0m\u001b[1;33m.\u001b[0m\u001b[0m_NotOkStatusException\u001b[0m \u001b[1;32mas\u001b[0m \u001b[0me\u001b[0m\u001b[1;33m:\u001b[0m\u001b[1;33m\u001b[0m\u001b[1;33m\u001b[0m\u001b[0m\n\u001b[1;32m> 10300\u001b[1;33m       \u001b[0m_ops\u001b[0m\u001b[1;33m.\u001b[0m\u001b[0mraise_from_not_ok_status\u001b[0m\u001b[1;33m(\u001b[0m\u001b[0me\u001b[0m\u001b[1;33m,\u001b[0m \u001b[0mname\u001b[0m\u001b[1;33m)\u001b[0m\u001b[1;33m\u001b[0m\u001b[1;33m\u001b[0m\u001b[0m\n\u001b[0m\u001b[0;32m  10301\u001b[0m     \u001b[1;32mexcept\u001b[0m \u001b[0m_core\u001b[0m\u001b[1;33m.\u001b[0m\u001b[0m_FallbackException\u001b[0m\u001b[1;33m:\u001b[0m\u001b[1;33m\u001b[0m\u001b[1;33m\u001b[0m\u001b[0m\n\u001b[0;32m  10302\u001b[0m       \u001b[1;32mpass\u001b[0m\u001b[1;33m\u001b[0m\u001b[1;33m\u001b[0m\u001b[0m\n",
      "\u001b[1;32mc:\\workspace\\lecture_tensorflow\\venv\\lib\\site-packages\\tensorflow\\python\\framework\\ops.py\u001b[0m in \u001b[0;36mraise_from_not_ok_status\u001b[1;34m(e, name)\u001b[0m\n\u001b[0;32m   6939\u001b[0m   \u001b[0mmessage\u001b[0m \u001b[1;33m=\u001b[0m \u001b[0me\u001b[0m\u001b[1;33m.\u001b[0m\u001b[0mmessage\u001b[0m \u001b[1;33m+\u001b[0m \u001b[1;33m(\u001b[0m\u001b[1;34m\" name: \"\u001b[0m \u001b[1;33m+\u001b[0m \u001b[0mname\u001b[0m \u001b[1;32mif\u001b[0m \u001b[0mname\u001b[0m \u001b[1;32mis\u001b[0m \u001b[1;32mnot\u001b[0m \u001b[1;32mNone\u001b[0m \u001b[1;32melse\u001b[0m \u001b[1;34m\"\"\u001b[0m\u001b[1;33m)\u001b[0m\u001b[1;33m\u001b[0m\u001b[1;33m\u001b[0m\u001b[0m\n\u001b[0;32m   6940\u001b[0m   \u001b[1;31m# pylint: disable=protected-access\u001b[0m\u001b[1;33m\u001b[0m\u001b[1;33m\u001b[0m\u001b[1;33m\u001b[0m\u001b[0m\n\u001b[1;32m-> 6941\u001b[1;33m   \u001b[0msix\u001b[0m\u001b[1;33m.\u001b[0m\u001b[0mraise_from\u001b[0m\u001b[1;33m(\u001b[0m\u001b[0mcore\u001b[0m\u001b[1;33m.\u001b[0m\u001b[0m_status_to_exception\u001b[0m\u001b[1;33m(\u001b[0m\u001b[0me\u001b[0m\u001b[1;33m.\u001b[0m\u001b[0mcode\u001b[0m\u001b[1;33m,\u001b[0m \u001b[0mmessage\u001b[0m\u001b[1;33m)\u001b[0m\u001b[1;33m,\u001b[0m \u001b[1;32mNone\u001b[0m\u001b[1;33m)\u001b[0m\u001b[1;33m\u001b[0m\u001b[1;33m\u001b[0m\u001b[0m\n\u001b[0m\u001b[0;32m   6942\u001b[0m   \u001b[1;31m# pylint: enable=protected-access\u001b[0m\u001b[1;33m\u001b[0m\u001b[1;33m\u001b[0m\u001b[1;33m\u001b[0m\u001b[0m\n\u001b[0;32m   6943\u001b[0m \u001b[1;33m\u001b[0m\u001b[0m\n",
      "\u001b[1;32mc:\\workspace\\lecture_tensorflow\\venv\\lib\\site-packages\\six.py\u001b[0m in \u001b[0;36mraise_from\u001b[1;34m(value, from_value)\u001b[0m\n",
      "\u001b[1;31mInvalidArgumentError\u001b[0m: Value for attr 'T' of int32 is not in the list of allowed values: bfloat16, half, float, double, complex64, complex128\n\t; NodeDef: {{node Sqrt}}; Op<name=Sqrt; signature=x:T -> y:T; attr=T:type,allowed=[DT_BFLOAT16, DT_HALF, DT_FLOAT, DT_DOUBLE, DT_COMPLEX64, DT_COMPLEX128]> [Op:Sqrt]"
     ]
    }
   ],
   "metadata": {}
  },
  {
   "cell_type": "code",
   "execution_count": 509,
   "source": [
    "H.dtype"
   ],
   "outputs": [
    {
     "output_type": "execute_result",
     "data": {
      "text/plain": [
       "tf.int32"
      ]
     },
     "metadata": {},
     "execution_count": 509
    }
   ],
   "metadata": {}
  },
  {
   "cell_type": "code",
   "execution_count": 512,
   "source": [
    "H = tf.cast(H, dtype=tf.float16)\r\n",
    "H.dtype, H"
   ],
   "outputs": [
    {
     "output_type": "execute_result",
     "data": {
      "text/plain": [
       "(tf.float16,\n",
       " <tf.Tensor: shape=(9,), dtype=float16, numpy=array([1., 2., 3., 4., 5., 6., 7., 8., 9.], dtype=float16)>)"
      ]
     },
     "metadata": {},
     "execution_count": 512
    }
   ],
   "metadata": {}
  },
  {
   "cell_type": "code",
   "execution_count": 513,
   "source": [
    "tf.sqrt(H)"
   ],
   "outputs": [
    {
     "output_type": "execute_result",
     "data": {
      "text/plain": [
       "<tf.Tensor: shape=(9,), dtype=float16, numpy=\n",
       "array([1.   , 1.414, 1.732, 2.   , 2.236, 2.45 , 2.646, 2.828, 3.   ],\n",
       "      dtype=float16)>"
      ]
     },
     "metadata": {},
     "execution_count": 513
    }
   ],
   "metadata": {}
  },
  {
   "cell_type": "code",
   "execution_count": 514,
   "source": [
    "H = tf.cast(H, dtype=tf.float32)\r\n",
    "H.dtype, H"
   ],
   "outputs": [
    {
     "output_type": "execute_result",
     "data": {
      "text/plain": [
       "(tf.float32,\n",
       " <tf.Tensor: shape=(9,), dtype=float32, numpy=array([1., 2., 3., 4., 5., 6., 7., 8., 9.], dtype=float32)>)"
      ]
     },
     "metadata": {},
     "execution_count": 514
    }
   ],
   "metadata": {}
  },
  {
   "cell_type": "code",
   "execution_count": 515,
   "source": [
    "tf.sqrt(H)"
   ],
   "outputs": [
    {
     "output_type": "execute_result",
     "data": {
      "text/plain": [
       "<tf.Tensor: shape=(9,), dtype=float32, numpy=\n",
       "array([0.99999994, 1.4142134 , 1.7320508 , 1.9999999 , 2.236068  ,\n",
       "       2.4494896 , 2.6457512 , 2.8284268 , 3.        ], dtype=float32)>"
      ]
     },
     "metadata": {},
     "execution_count": 515
    }
   ],
   "metadata": {}
  },
  {
   "cell_type": "code",
   "execution_count": 519,
   "source": [
    "H = tf.cast(H, dtype=tf.int32)\r\n",
    "H.dtype, H"
   ],
   "outputs": [
    {
     "output_type": "execute_result",
     "data": {
      "text/plain": [
       "(tf.int32,\n",
       " <tf.Tensor: shape=(9,), dtype=int32, numpy=array([1, 2, 3, 4, 5, 6, 7, 8, 9])>)"
      ]
     },
     "metadata": {},
     "execution_count": 519
    }
   ],
   "metadata": {}
  },
  {
   "cell_type": "code",
   "execution_count": 520,
   "source": [
    "tf.math.log(H)"
   ],
   "outputs": [
    {
     "output_type": "error",
     "ename": "InvalidArgumentError",
     "evalue": "Value for attr 'T' of int32 is not in the list of allowed values: bfloat16, half, float, double, complex64, complex128\n\t; NodeDef: {{node Log}}; Op<name=Log; signature=x:T -> y:T; attr=T:type,allowed=[DT_BFLOAT16, DT_HALF, DT_FLOAT, DT_DOUBLE, DT_COMPLEX64, DT_COMPLEX128]> [Op:Log]",
     "traceback": [
      "\u001b[1;31m---------------------------------------------------------------------------\u001b[0m",
      "\u001b[1;31mInvalidArgumentError\u001b[0m                      Traceback (most recent call last)",
      "\u001b[1;32m~\\AppData\\Local\\Temp/ipykernel_14200/4057014817.py\u001b[0m in \u001b[0;36m<module>\u001b[1;34m\u001b[0m\n\u001b[1;32m----> 1\u001b[1;33m \u001b[0mtf\u001b[0m\u001b[1;33m.\u001b[0m\u001b[0mmath\u001b[0m\u001b[1;33m.\u001b[0m\u001b[0mlog\u001b[0m\u001b[1;33m(\u001b[0m\u001b[0mH\u001b[0m\u001b[1;33m)\u001b[0m\u001b[1;33m\u001b[0m\u001b[1;33m\u001b[0m\u001b[0m\n\u001b[0m",
      "\u001b[1;32mc:\\workspace\\lecture_tensorflow\\venv\\lib\\site-packages\\tensorflow\\python\\ops\\gen_math_ops.py\u001b[0m in \u001b[0;36mlog\u001b[1;34m(x, name)\u001b[0m\n\u001b[0;32m   5199\u001b[0m       \u001b[1;32mreturn\u001b[0m \u001b[0m_result\u001b[0m\u001b[1;33m\u001b[0m\u001b[1;33m\u001b[0m\u001b[0m\n\u001b[0;32m   5200\u001b[0m     \u001b[1;32mexcept\u001b[0m \u001b[0m_core\u001b[0m\u001b[1;33m.\u001b[0m\u001b[0m_NotOkStatusException\u001b[0m \u001b[1;32mas\u001b[0m \u001b[0me\u001b[0m\u001b[1;33m:\u001b[0m\u001b[1;33m\u001b[0m\u001b[1;33m\u001b[0m\u001b[0m\n\u001b[1;32m-> 5201\u001b[1;33m       \u001b[0m_ops\u001b[0m\u001b[1;33m.\u001b[0m\u001b[0mraise_from_not_ok_status\u001b[0m\u001b[1;33m(\u001b[0m\u001b[0me\u001b[0m\u001b[1;33m,\u001b[0m \u001b[0mname\u001b[0m\u001b[1;33m)\u001b[0m\u001b[1;33m\u001b[0m\u001b[1;33m\u001b[0m\u001b[0m\n\u001b[0m\u001b[0;32m   5202\u001b[0m     \u001b[1;32mexcept\u001b[0m \u001b[0m_core\u001b[0m\u001b[1;33m.\u001b[0m\u001b[0m_FallbackException\u001b[0m\u001b[1;33m:\u001b[0m\u001b[1;33m\u001b[0m\u001b[1;33m\u001b[0m\u001b[0m\n\u001b[0;32m   5203\u001b[0m       \u001b[1;32mpass\u001b[0m\u001b[1;33m\u001b[0m\u001b[1;33m\u001b[0m\u001b[0m\n",
      "\u001b[1;32mc:\\workspace\\lecture_tensorflow\\venv\\lib\\site-packages\\tensorflow\\python\\framework\\ops.py\u001b[0m in \u001b[0;36mraise_from_not_ok_status\u001b[1;34m(e, name)\u001b[0m\n\u001b[0;32m   6939\u001b[0m   \u001b[0mmessage\u001b[0m \u001b[1;33m=\u001b[0m \u001b[0me\u001b[0m\u001b[1;33m.\u001b[0m\u001b[0mmessage\u001b[0m \u001b[1;33m+\u001b[0m \u001b[1;33m(\u001b[0m\u001b[1;34m\" name: \"\u001b[0m \u001b[1;33m+\u001b[0m \u001b[0mname\u001b[0m \u001b[1;32mif\u001b[0m \u001b[0mname\u001b[0m \u001b[1;32mis\u001b[0m \u001b[1;32mnot\u001b[0m \u001b[1;32mNone\u001b[0m \u001b[1;32melse\u001b[0m \u001b[1;34m\"\"\u001b[0m\u001b[1;33m)\u001b[0m\u001b[1;33m\u001b[0m\u001b[1;33m\u001b[0m\u001b[0m\n\u001b[0;32m   6940\u001b[0m   \u001b[1;31m# pylint: disable=protected-access\u001b[0m\u001b[1;33m\u001b[0m\u001b[1;33m\u001b[0m\u001b[1;33m\u001b[0m\u001b[0m\n\u001b[1;32m-> 6941\u001b[1;33m   \u001b[0msix\u001b[0m\u001b[1;33m.\u001b[0m\u001b[0mraise_from\u001b[0m\u001b[1;33m(\u001b[0m\u001b[0mcore\u001b[0m\u001b[1;33m.\u001b[0m\u001b[0m_status_to_exception\u001b[0m\u001b[1;33m(\u001b[0m\u001b[0me\u001b[0m\u001b[1;33m.\u001b[0m\u001b[0mcode\u001b[0m\u001b[1;33m,\u001b[0m \u001b[0mmessage\u001b[0m\u001b[1;33m)\u001b[0m\u001b[1;33m,\u001b[0m \u001b[1;32mNone\u001b[0m\u001b[1;33m)\u001b[0m\u001b[1;33m\u001b[0m\u001b[1;33m\u001b[0m\u001b[0m\n\u001b[0m\u001b[0;32m   6942\u001b[0m   \u001b[1;31m# pylint: enable=protected-access\u001b[0m\u001b[1;33m\u001b[0m\u001b[1;33m\u001b[0m\u001b[1;33m\u001b[0m\u001b[0m\n\u001b[0;32m   6943\u001b[0m \u001b[1;33m\u001b[0m\u001b[0m\n",
      "\u001b[1;32mc:\\workspace\\lecture_tensorflow\\venv\\lib\\site-packages\\six.py\u001b[0m in \u001b[0;36mraise_from\u001b[1;34m(value, from_value)\u001b[0m\n",
      "\u001b[1;31mInvalidArgumentError\u001b[0m: Value for attr 'T' of int32 is not in the list of allowed values: bfloat16, half, float, double, complex64, complex128\n\t; NodeDef: {{node Log}}; Op<name=Log; signature=x:T -> y:T; attr=T:type,allowed=[DT_BFLOAT16, DT_HALF, DT_FLOAT, DT_DOUBLE, DT_COMPLEX64, DT_COMPLEX128]> [Op:Log]"
     ]
    }
   ],
   "metadata": {}
  },
  {
   "cell_type": "code",
   "execution_count": 521,
   "source": [
    "H = tf.cast(H, dtype=tf.float32)\r\n",
    "H.dtype, H"
   ],
   "outputs": [
    {
     "output_type": "execute_result",
     "data": {
      "text/plain": [
       "(tf.float32,\n",
       " <tf.Tensor: shape=(9,), dtype=float32, numpy=array([1., 2., 3., 4., 5., 6., 7., 8., 9.], dtype=float32)>)"
      ]
     },
     "metadata": {},
     "execution_count": 521
    }
   ],
   "metadata": {}
  },
  {
   "cell_type": "code",
   "execution_count": 523,
   "source": [
    "tf.math.log(H)"
   ],
   "outputs": [
    {
     "output_type": "execute_result",
     "data": {
      "text/plain": [
       "<tf.Tensor: shape=(9,), dtype=float32, numpy=\n",
       "array([0.       , 0.6931472, 1.0986123, 1.3862944, 1.609438 , 1.7917595,\n",
       "       1.9459102, 2.0794415, 2.1972246], dtype=float32)>"
      ]
     },
     "metadata": {},
     "execution_count": 523
    }
   ],
   "metadata": {}
  },
  {
   "cell_type": "code",
   "execution_count": 524,
   "source": [
    "I = tf.Variable(np.arange(0, 5))\r\n",
    "I"
   ],
   "outputs": [
    {
     "output_type": "execute_result",
     "data": {
      "text/plain": [
       "<tf.Variable 'Variable:0' shape=(5,) dtype=int32, numpy=array([0, 1, 2, 3, 4])>"
      ]
     },
     "metadata": {},
     "execution_count": 524
    }
   ],
   "metadata": {}
  },
  {
   "cell_type": "code",
   "execution_count": 525,
   "source": [
    "I.assign([0, 1, 2, 3, 50])"
   ],
   "outputs": [
    {
     "output_type": "execute_result",
     "data": {
      "text/plain": [
       "<tf.Variable 'UnreadVariable' shape=(5,) dtype=int32, numpy=array([ 0,  1,  2,  3, 50])>"
      ]
     },
     "metadata": {},
     "execution_count": 525
    }
   ],
   "metadata": {}
  },
  {
   "cell_type": "code",
   "execution_count": 526,
   "source": [
    "I"
   ],
   "outputs": [
    {
     "output_type": "execute_result",
     "data": {
      "text/plain": [
       "<tf.Variable 'Variable:0' shape=(5,) dtype=int32, numpy=array([ 0,  1,  2,  3, 50])>"
      ]
     },
     "metadata": {},
     "execution_count": 526
    }
   ],
   "metadata": {}
  },
  {
   "cell_type": "code",
   "execution_count": 527,
   "source": [
    "I.assign_add([10, 10, 10, 10, 10])"
   ],
   "outputs": [
    {
     "output_type": "execute_result",
     "data": {
      "text/plain": [
       "<tf.Variable 'UnreadVariable' shape=(5,) dtype=int32, numpy=array([10, 11, 12, 13, 60])>"
      ]
     },
     "metadata": {},
     "execution_count": 527
    }
   ],
   "metadata": {}
  },
  {
   "cell_type": "code",
   "execution_count": 528,
   "source": [
    "I"
   ],
   "outputs": [
    {
     "output_type": "execute_result",
     "data": {
      "text/plain": [
       "<tf.Variable 'Variable:0' shape=(5,) dtype=int32, numpy=array([10, 11, 12, 13, 60])>"
      ]
     },
     "metadata": {},
     "execution_count": 528
    }
   ],
   "metadata": {}
  },
  {
   "cell_type": "code",
   "execution_count": 533,
   "source": [
    "# NumPy array를 통해서 tensor를 생성\r\n",
    "J = tf.constant(np.array([3., 7., 10.]))\r\n",
    "J, type(J), J.numpy()"
   ],
   "outputs": [
    {
     "output_type": "execute_result",
     "data": {
      "text/plain": [
       "(<tf.Tensor: shape=(3,), dtype=float64, numpy=array([ 3.,  7., 10.])>,\n",
       " tensorflow.python.framework.ops.EagerTensor,\n",
       " array([ 3.,  7., 10.]))"
      ]
     },
     "metadata": {},
     "execution_count": 533
    }
   ],
   "metadata": {}
  },
  {
   "cell_type": "code",
   "execution_count": 531,
   "source": [
    "np.array(J), type(np.array(J))"
   ],
   "outputs": [
    {
     "output_type": "execute_result",
     "data": {
      "text/plain": [
       "(array([ 3.,  7., 10.]), numpy.ndarray)"
      ]
     },
     "metadata": {},
     "execution_count": 531
    }
   ],
   "metadata": {}
  },
  {
   "cell_type": "code",
   "execution_count": 534,
   "source": [
    "J.numpy(), type(J.numpy())"
   ],
   "outputs": [
    {
     "output_type": "execute_result",
     "data": {
      "text/plain": [
       "(array([ 3.,  7., 10.]), numpy.ndarray)"
      ]
     },
     "metadata": {},
     "execution_count": 534
    }
   ],
   "metadata": {}
  },
  {
   "cell_type": "code",
   "execution_count": 535,
   "source": [
    "numpy_J = tf.constant(np.array([3., 7., 10.]))\r\n",
    "tensor_J = tf.constant([3., 7., 10.])\r\n",
    "numpy_J, tensor_J"
   ],
   "outputs": [
    {
     "output_type": "execute_result",
     "data": {
      "text/plain": [
       "(<tf.Tensor: shape=(3,), dtype=float64, numpy=array([ 3.,  7., 10.])>,\n",
       " <tf.Tensor: shape=(3,), dtype=float32, numpy=array([ 3.,  7., 10.], dtype=float32)>)"
      ]
     },
     "metadata": {},
     "execution_count": 535
    }
   ],
   "metadata": {}
  },
  {
   "cell_type": "code",
   "execution_count": 536,
   "source": [
    "numpy_J.dtype, tensor_J.dtype"
   ],
   "outputs": [
    {
     "output_type": "execute_result",
     "data": {
      "text/plain": [
       "(tf.float64, tf.float32)"
      ]
     },
     "metadata": {},
     "execution_count": 536
    }
   ],
   "metadata": {}
  },
  {
   "cell_type": "code",
   "execution_count": 542,
   "source": [
    "def function(x, y):\r\n",
    "    return x ** 2 + y"
   ],
   "outputs": [],
   "metadata": {}
  },
  {
   "cell_type": "code",
   "execution_count": 543,
   "source": [
    "x = tf.constant(np.arange(0, 10))\r\n",
    "y = tf.constant(np.arange(10, 20))\r\n",
    "function(x, y)"
   ],
   "outputs": [
    {
     "output_type": "execute_result",
     "data": {
      "text/plain": [
       "<tf.Tensor: shape=(10,), dtype=int32, numpy=array([ 10,  12,  16,  22,  30,  40,  52,  66,  82, 100])>"
      ]
     },
     "metadata": {},
     "execution_count": 543
    }
   ],
   "metadata": {}
  },
  {
   "cell_type": "code",
   "execution_count": 544,
   "source": [
    "@tf.function # decorator\r\n",
    "def tf_function(x, y):\r\n",
    "    return x ** 2 + y"
   ],
   "outputs": [],
   "metadata": {}
  },
  {
   "cell_type": "code",
   "execution_count": 545,
   "source": [
    "tf_function(x, y)"
   ],
   "outputs": [
    {
     "output_type": "execute_result",
     "data": {
      "text/plain": [
       "<tf.Tensor: shape=(10,), dtype=int32, numpy=array([ 10,  12,  16,  22,  30,  40,  52,  66,  82, 100])>"
      ]
     },
     "metadata": {},
     "execution_count": 545
    }
   ],
   "metadata": {}
  },
  {
   "cell_type": "code",
   "execution_count": 547,
   "source": [
    "print(tf.config.list_physical_devices(\"GPU\"))"
   ],
   "outputs": [
    {
     "output_type": "stream",
     "name": "stdout",
     "text": [
      "[]\n"
     ]
    }
   ],
   "metadata": {}
  },
  {
   "cell_type": "code",
   "execution_count": 548,
   "source": [
    "!nvidia-smi"
   ],
   "outputs": [
    {
     "output_type": "stream",
     "name": "stdout",
     "text": [
      "Sat Aug 21 14:05:31 2021       \n",
      "+-----------------------------------------------------------------------------+\n",
      "| NVIDIA-SMI 471.11       Driver Version: 471.11       CUDA Version: 11.4     |\n",
      "|-------------------------------+----------------------+----------------------+\n",
      "| GPU  Name            TCC/WDDM | Bus-Id        Disp.A | Volatile Uncorr. ECC |\n",
      "| Fan  Temp  Perf  Pwr:Usage/Cap|         Memory-Usage | GPU-Util  Compute M. |\n",
      "|                               |                      |               MIG M. |\n",
      "|===============================+======================+======================|\n",
      "|   0  NVIDIA GeForce ... WDDM  | 00000000:01:00.0  On |                  N/A |\n",
      "| N/A   50C    P5    14W /  N/A |    626MiB /  8192MiB |     17%      Default |\n",
      "|                               |                      |                  N/A |\n",
      "+-------------------------------+----------------------+----------------------+\n",
      "                                                                               \n",
      "+-----------------------------------------------------------------------------+\n",
      "| Processes:                                                                  |\n",
      "|  GPU   GI   CI        PID   Type   Process name                  GPU Memory |\n",
      "|        ID   ID                                                   Usage      |\n",
      "|=============================================================================|\n",
      "|    0   N/A  N/A      5160    C+G   ...iles\\VideoLAN\\VLC\\vlc.exe    N/A      |\n",
      "|    0   N/A  N/A     13924    C+G   ...ming\\Zoom\\bin\\CptHost.exe    N/A      |\n",
      "|    0   N/A  N/A     17804    C+G   ...0\\HOffice110\\Bin\\Hpdf.exe    N/A      |\n",
      "|    0   N/A  N/A     20668    C+G   Insufficient Permissions        N/A      |\n",
      "+-----------------------------------------------------------------------------+\n"
     ]
    }
   ],
   "metadata": {}
  },
  {
   "cell_type": "code",
   "execution_count": 1,
   "source": [
    "# 1. tf.constant()로 임의의 값으로 벡터, 스칼라, 행렬 및 텐서 생성\r\n",
    "import tensorflow as tf\r\n",
    "scalar = tf.constant(5)\r\n",
    "vector = tf.constant([5, 10])\r\n",
    "matrixs = tf.constant([\r\n",
    "    [1, 2],\r\n",
    "    [3, 4]\r\n",
    "])\r\n",
    "tensor = tf.constant([\r\n",
    "    [\r\n",
    "        [1, 2],\r\n",
    "        [3, 4]\r\n",
    "    ],\r\n",
    "    [\r\n",
    "        [5, 6],\r\n",
    "        [7, 8]\r\n",
    "    ]\r\n",
    "])"
   ],
   "outputs": [],
   "metadata": {}
  },
  {
   "cell_type": "code",
   "execution_count": 5,
   "source": [
    "# 2. 1에서 생성한 텐서의 shape, rank 및 size \r\n",
    "print(f'{scalar.shape} {scalar.ndim} {tf.size(scalar)}')\r\n",
    "print(f'{vector.shape} {vector.ndim} {tf.size(vector)}')\r\n",
    "print(f'{matrixs.shape} {matrixs.ndim} {tf.size(matrixs)}')\r\n",
    "print(f'{tensor.shape} {tensor.ndim} {tf.size(tensor)}')"
   ],
   "outputs": [
    {
     "output_type": "stream",
     "name": "stdout",
     "text": [
      "() 0 1\n",
      "(2,) 1 2\n",
      "(2, 2) 2 4\n",
      "(2, 2, 2) 3 8\n"
     ]
    }
   ],
   "metadata": {}
  },
  {
   "cell_type": "code",
   "execution_count": 7,
   "source": [
    "# 3. shape가 [5, 300]인 0과 1 사이의 임의 값을 포함하는 두개 텐서 만들기\r\n",
    "import numpy as np\r\n",
    "X = tf.constant(np.random.randint(0, 1, 1500), shape=(5, 300))\r\n",
    "Y = tf.constant(np.random.randint(0, 1, 1500), shape=(5, 300))\r\n",
    "X, Y"
   ],
   "outputs": [
    {
     "output_type": "execute_result",
     "data": {
      "text/plain": [
       "(<tf.Tensor: shape=(5, 300), dtype=int32, numpy=\n",
       " array([[0, 0, 0, ..., 0, 0, 0],\n",
       "        [0, 0, 0, ..., 0, 0, 0],\n",
       "        [0, 0, 0, ..., 0, 0, 0],\n",
       "        [0, 0, 0, ..., 0, 0, 0],\n",
       "        [0, 0, 0, ..., 0, 0, 0]])>,\n",
       " <tf.Tensor: shape=(5, 300), dtype=int32, numpy=\n",
       " array([[0, 0, 0, ..., 0, 0, 0],\n",
       "        [0, 0, 0, ..., 0, 0, 0],\n",
       "        [0, 0, 0, ..., 0, 0, 0],\n",
       "        [0, 0, 0, ..., 0, 0, 0],\n",
       "        [0, 0, 0, ..., 0, 0, 0]])>)"
      ]
     },
     "metadata": {},
     "execution_count": 7
    }
   ],
   "metadata": {}
  },
  {
   "cell_type": "code",
   "execution_count": 9,
   "source": [
    "# 4. 행렬 곱으로 3에서 만든 두 텐서 곱하기\r\n",
    "X @ tf.reshape(Y, shape=(300, 5))"
   ],
   "outputs": [
    {
     "output_type": "execute_result",
     "data": {
      "text/plain": [
       "<tf.Tensor: shape=(5, 5), dtype=int32, numpy=\n",
       "array([[0, 0, 0, 0, 0],\n",
       "       [0, 0, 0, 0, 0],\n",
       "       [0, 0, 0, 0, 0],\n",
       "       [0, 0, 0, 0, 0],\n",
       "       [0, 0, 0, 0, 0]])>"
      ]
     },
     "metadata": {},
     "execution_count": 9
    }
   ],
   "metadata": {}
  },
  {
   "cell_type": "code",
   "execution_count": 10,
   "source": [
    "# 5. 내적으로 3에서 만든 두 텐서를 곱한다\r\n",
    "tf.tensordot(X, tf.transpose(Y), axes = 1)"
   ],
   "outputs": [
    {
     "output_type": "execute_result",
     "data": {
      "text/plain": [
       "<tf.Tensor: shape=(5, 5), dtype=int32, numpy=\n",
       "array([[0, 0, 0, 0, 0],\n",
       "       [0, 0, 0, 0, 0],\n",
       "       [0, 0, 0, 0, 0],\n",
       "       [0, 0, 0, 0, 0],\n",
       "       [0, 0, 0, 0, 0]])>"
      ]
     },
     "metadata": {},
     "execution_count": 10
    }
   ],
   "metadata": {}
  },
  {
   "cell_type": "code",
   "execution_count": 12,
   "source": [
    "# 6. shape가 [224, 224, 3]인 0과 100사이의 임의 값 텐서 만들기\r\n",
    "tensor = tf.constant(np.random.randint(0, 100, 150528), shape=(224, 224, 3))"
   ],
   "outputs": [],
   "metadata": {}
  },
  {
   "cell_type": "code",
   "execution_count": 14,
   "source": [
    "# 7. 6의 텐서의 최소, 최대값\r\n",
    "tf.reduce_max(tensor), tf.reduce_min(tensor)\r\n",
    "tf.argmax(tensor), tf.argmin(tensor)"
   ],
   "outputs": [
    {
     "output_type": "execute_result",
     "data": {
      "text/plain": [
       "(<tf.Tensor: shape=(224, 3), dtype=int64, numpy=\n",
       " array([[ 36,  56,  26],\n",
       "        [ 23, 126,  28],\n",
       "        [ 21, 127, 155],\n",
       "        [ 31,  11,  38],\n",
       "        [ 36,  92,  55],\n",
       "        [  7, 113,  16],\n",
       "        [  2,  81, 163],\n",
       "        [ 10,  55,  77],\n",
       "        [ 94,   1,  38],\n",
       "        [ 15,  97,  15],\n",
       "        [ 53,  88,  90],\n",
       "        [ 62,   9, 172],\n",
       "        [137, 178, 136],\n",
       "        [ 70,  95, 122],\n",
       "        [ 97,  34,  53],\n",
       "        [  4, 129,  38],\n",
       "        [ 73, 144,  64],\n",
       "        [137,  40, 189],\n",
       "        [ 45,  15,  18],\n",
       "        [210,  15,   5],\n",
       "        [  0, 173,  36],\n",
       "        [ 25,  15,  59],\n",
       "        [  3,   7,  78],\n",
       "        [126, 165, 122],\n",
       "        [141, 191,  38],\n",
       "        [136, 112, 168],\n",
       "        [ 62, 127,   0],\n",
       "        [ 25,  93,  21],\n",
       "        [165,  45,  16],\n",
       "        [102, 121,  36],\n",
       "        [ 31,   7,  55],\n",
       "        [ 35, 213,  93],\n",
       "        [ 69,  55, 127],\n",
       "        [  4,  52,  65],\n",
       "        [  6,  65,  12],\n",
       "        [ 54, 194,  78],\n",
       "        [ 68,  62,  43],\n",
       "        [184,  32, 148],\n",
       "        [ 22, 147,  70],\n",
       "        [ 56, 142,   2],\n",
       "        [173, 155,  64],\n",
       "        [  7,  79, 128],\n",
       "        [126,  32, 121],\n",
       "        [ 33,  51,  73],\n",
       "        [ 31,  31, 146],\n",
       "        [ 15,  93, 161],\n",
       "        [ 38, 133,  19],\n",
       "        [198,  92,  52],\n",
       "        [  7, 147,  79],\n",
       "        [ 27,  20, 128],\n",
       "        [ 24, 104, 199],\n",
       "        [ 23, 127,  69],\n",
       "        [ 20,  70,  88],\n",
       "        [ 50,  74,  12],\n",
       "        [116,  49,  54],\n",
       "        [123,   2,  38],\n",
       "        [ 77, 205,   7],\n",
       "        [ 49,  53,  22],\n",
       "        [  4, 149,  92],\n",
       "        [200, 196, 147],\n",
       "        [109, 203,   6],\n",
       "        [ 48,   4, 209],\n",
       "        [ 18,  83,  58],\n",
       "        [ 13,  59, 199],\n",
       "        [ 36,  14, 211],\n",
       "        [165,  26,  53],\n",
       "        [ 26,  58,  45],\n",
       "        [ 39,   1,  72],\n",
       "        [ 81, 105,  57],\n",
       "        [ 26,  18,  48],\n",
       "        [121, 134,  71],\n",
       "        [ 39,  11, 163],\n",
       "        [180,  96,   0],\n",
       "        [ 32,  16,   3],\n",
       "        [  6,  21,  17],\n",
       "        [159, 107,  47],\n",
       "        [ 45,   4,  88],\n",
       "        [ 29, 157, 175],\n",
       "        [ 62,  68,  58],\n",
       "        [ 27, 119, 195],\n",
       "        [165, 124,  89],\n",
       "        [ 87, 199,  26],\n",
       "        [ 73,   3,   4],\n",
       "        [ 23,  33,  58],\n",
       "        [  2,  16,  28],\n",
       "        [ 33,  20, 180],\n",
       "        [160, 180,  85],\n",
       "        [ 85, 131,  45],\n",
       "        [ 82,  49,   6],\n",
       "        [ 85,  41, 171],\n",
       "        [ 46,  42, 108],\n",
       "        [ 34,  81, 108],\n",
       "        [155, 172,  24],\n",
       "        [ 10, 113,  39],\n",
       "        [ 20,  72, 117],\n",
       "        [ 89,  46, 112],\n",
       "        [136,  19,  85],\n",
       "        [ 49,  59,  16],\n",
       "        [ 42,   4,   2],\n",
       "        [  5, 158,  22],\n",
       "        [  8,  87,  73],\n",
       "        [180,  17, 163],\n",
       "        [ 18,  48,  77],\n",
       "        [100, 133,  57],\n",
       "        [ 29, 182,  10],\n",
       "        [ 57, 104, 124],\n",
       "        [148,  88,  51],\n",
       "        [ 39,  96,   5],\n",
       "        [ 26,  48,   9],\n",
       "        [129, 213, 140],\n",
       "        [ 80, 208, 196],\n",
       "        [ 22,  12,  26],\n",
       "        [ 41,  30, 184],\n",
       "        [ 10, 171,   6],\n",
       "        [ 40,  45,  11],\n",
       "        [149,  68,  19],\n",
       "        [ 39, 163,   5],\n",
       "        [144,  82,   0],\n",
       "        [165,  37,  21],\n",
       "        [190,  32, 112],\n",
       "        [ 89,   6,   3],\n",
       "        [  4,  43,  81],\n",
       "        [ 36,  74,  15],\n",
       "        [ 97, 126,   1],\n",
       "        [ 43, 164, 104],\n",
       "        [ 19,  58,   6],\n",
       "        [134,  26, 196],\n",
       "        [187, 111,  44],\n",
       "        [ 19,  37, 210],\n",
       "        [  5,  50,  54],\n",
       "        [129, 172, 165],\n",
       "        [  7,  62,  10],\n",
       "        [107,  61, 172],\n",
       "        [  7, 145, 128],\n",
       "        [180, 128,  16],\n",
       "        [ 36,  36,  10],\n",
       "        [  5,  37,  57],\n",
       "        [223,  51, 101],\n",
       "        [  5,  34,  29],\n",
       "        [ 34,  30, 191],\n",
       "        [  6,  32,  22],\n",
       "        [195,  49,  47],\n",
       "        [166,   8, 144],\n",
       "        [ 69,  72,  16],\n",
       "        [ 57,  70, 133],\n",
       "        [104,   3,  57],\n",
       "        [ 23,  75,  14],\n",
       "        [  6,  65,   5],\n",
       "        [ 44,  17,  20],\n",
       "        [  7,   4,   6],\n",
       "        [ 54, 132,  65],\n",
       "        [  0, 114, 146],\n",
       "        [  0,  91,  76],\n",
       "        [ 73,  40, 194],\n",
       "        [ 54, 123, 199],\n",
       "        [105,   9,  32],\n",
       "        [ 77, 194,  70],\n",
       "        [ 88,   5,  39],\n",
       "        [ 55,   3, 151],\n",
       "        [ 39,  37,   9],\n",
       "        [ 50,  51,  81],\n",
       "        [139, 136,  51],\n",
       "        [ 60,  25,  70],\n",
       "        [123, 103,  22],\n",
       "        [ 39, 169, 109],\n",
       "        [205,  73,  77],\n",
       "        [ 46, 177,  44],\n",
       "        [109,  40,  89],\n",
       "        [ 23,  97,  21],\n",
       "        [ 76,   1,  35],\n",
       "        [ 68, 154,   1],\n",
       "        [ 37,  48,  31],\n",
       "        [174,   3,  37],\n",
       "        [ 14, 120, 110],\n",
       "        [ 79,  50,  15],\n",
       "        [ 88,  44,  87],\n",
       "        [ 67, 164,  92],\n",
       "        [ 38,  15,  19],\n",
       "        [133,  11,  50],\n",
       "        [146,  23, 130],\n",
       "        [ 31,  32,  52],\n",
       "        [ 10,  66, 104],\n",
       "        [105,  59,  41],\n",
       "        [ 93,  11, 126],\n",
       "        [ 23,  71, 109],\n",
       "        [ 22,  19, 174],\n",
       "        [ 19, 147,  62],\n",
       "        [190,   6,  11],\n",
       "        [  7,  33,  52],\n",
       "        [ 18, 114,  89],\n",
       "        [ 42,  14,  14],\n",
       "        [134,  51,  88],\n",
       "        [ 87, 120,  28],\n",
       "        [  0,  48,  49],\n",
       "        [114, 106,  16],\n",
       "        [174,   1,  49],\n",
       "        [ 71, 166, 124],\n",
       "        [ 42,  12, 108],\n",
       "        [142,  48, 104],\n",
       "        [ 36, 123,  17],\n",
       "        [166, 114,  48],\n",
       "        [  5, 134,  20],\n",
       "        [ 52, 116, 110],\n",
       "        [ 88, 161, 104],\n",
       "        [ 83, 216, 116],\n",
       "        [ 43,  16, 196],\n",
       "        [111,  64,  32],\n",
       "        [ 90,  12,  41],\n",
       "        [ 14,  56, 110],\n",
       "        [ 15, 137, 180],\n",
       "        [ 21,  55,  68],\n",
       "        [ 24, 183,  13],\n",
       "        [184,  37,  74],\n",
       "        [135,  15,  16],\n",
       "        [ 68, 104,  27],\n",
       "        [165, 164,   1],\n",
       "        [  6, 119,  79],\n",
       "        [  8,  55,   1],\n",
       "        [ 39,  73,  41],\n",
       "        [ 19,  25, 136],\n",
       "        [  9,  82,  74],\n",
       "        [ 36, 160,  53],\n",
       "        [204,  14, 149],\n",
       "        [ 22, 152,  31]], dtype=int64)>,\n",
       " <tf.Tensor: shape=(224, 3), dtype=int64, numpy=\n",
       " array([[ 63,  30,  95],\n",
       "        [ 68,   7,  43],\n",
       "        [ 42,  50,  76],\n",
       "        [211,  17, 182],\n",
       "        [ 99, 176,  32],\n",
       "        [ 33,  95,   8],\n",
       "        [ 49,  31, 217],\n",
       "        [200,  93, 140],\n",
       "        [ 62,  64,  63],\n",
       "        [ 16,  18,  31],\n",
       "        [116,  83, 195],\n",
       "        [ 42,  40,  79],\n",
       "        [172,  44,  21],\n",
       "        [147,  30,  63],\n",
       "        [ 31,   8,  51],\n",
       "        [157,   2,  35],\n",
       "        [ 33,   8,  50],\n",
       "        [126,  84,  30],\n",
       "        [218,  80,  78],\n",
       "        [ 16, 164, 130],\n",
       "        [ 10,  49, 147],\n",
       "        [ 54, 100,  47],\n",
       "        [ 21, 119, 108],\n",
       "        [155,   7, 103],\n",
       "        [ 33, 219,  15],\n",
       "        [ 24,  71,  39],\n",
       "        [  7,  51,  20],\n",
       "        [ 23,  16,  36],\n",
       "        [ 33,  65, 210],\n",
       "        [ 55,  25,  20],\n",
       "        [  4,  33,  28],\n",
       "        [ 64,  79,  79],\n",
       "        [117,   1,  15],\n",
       "        [ 71, 125,  17],\n",
       "        [ 91,  62,  96],\n",
       "        [  4,  25,  16],\n",
       "        [ 34,  23,   4],\n",
       "        [ 87,  80,  59],\n",
       "        [129,  42, 142],\n",
       "        [ 65,  31, 176],\n",
       "        [175,  56,  62],\n",
       "        [ 29,  13,  79],\n",
       "        [ 37,  11, 101],\n",
       "        [ 91,  63,  23],\n",
       "        [ 36,  42,  73],\n",
       "        [ 61, 126, 106],\n",
       "        [ 20, 164,  18],\n",
       "        [ 28,  70,  30],\n",
       "        [ 87,   5, 219],\n",
       "        [190,  55,  28],\n",
       "        [ 26,  76, 167],\n",
       "        [ 97,  28,  36],\n",
       "        [ 67,  79,  46],\n",
       "        [  4, 162,   9],\n",
       "        [168, 188,  47],\n",
       "        [140,  75,  48],\n",
       "        [129, 130,  54],\n",
       "        [ 40,  36,   6],\n",
       "        [ 14,  29,  26],\n",
       "        [168, 111,  25],\n",
       "        [125,  65,  81],\n",
       "        [ 38,  84,   7],\n",
       "        [ 21,   7,   7],\n",
       "        [ 68,  26,  64],\n",
       "        [ 59,  71,  80],\n",
       "        [ 81,  27,  70],\n",
       "        [205,  29, 117],\n",
       "        [  0,  22,  57],\n",
       "        [ 13, 101,  50],\n",
       "        [ 14,  40, 113],\n",
       "        [205,  75,   1],\n",
       "        [ 13,  54,  23],\n",
       "        [179,  25,  90],\n",
       "        [ 72,  31,  11],\n",
       "        [ 93,  38,  40],\n",
       "        [127, 174,   6],\n",
       "        [122, 196,  37],\n",
       "        [ 38,  40,  99],\n",
       "        [ 12,  34,  11],\n",
       "        [ 15,  17, 129],\n",
       "        [ 70,  61,   4],\n",
       "        [125,  17,  95],\n",
       "        [175,  97,  12],\n",
       "        [ 89,   3,  45],\n",
       "        [ 36, 127,  75],\n",
       "        [  6,  55,  97],\n",
       "        [162,  32, 107],\n",
       "        [ 71,   6,  30],\n",
       "        [ 16,  66,   0],\n",
       "        [ 54,  67,  45],\n",
       "        [ 35,  25,   4],\n",
       "        [ 61, 124,  70],\n",
       "        [ 47, 168,  74],\n",
       "        [ 47, 144,   6],\n",
       "        [ 73,  49, 148],\n",
       "        [ 36,  14, 121],\n",
       "        [ 23,  48,  28],\n",
       "        [122, 193, 110],\n",
       "        [ 28, 141,  78],\n",
       "        [219, 103,  74],\n",
       "        [159,  81,  19],\n",
       "        [151, 107, 209],\n",
       "        [ 85,  28,   9],\n",
       "        [ 61,   9,   7],\n",
       "        [ 27,  74,  15],\n",
       "        [107, 110,  75],\n",
       "        [112,  28,  81],\n",
       "        [ 12, 160,  87],\n",
       "        [211,  53, 126],\n",
       "        [135,  61,  24],\n",
       "        [173,  12,  52],\n",
       "        [131, 166,   2],\n",
       "        [  5,  62,  23],\n",
       "        [  5,  47,  25],\n",
       "        [  6,  11,  19],\n",
       "        [ 19,  35,  23],\n",
       "        [163, 108,  87],\n",
       "        [148, 157,  50],\n",
       "        [  3, 148,  70],\n",
       "        [ 95, 107,  42],\n",
       "        [204,  12,  19],\n",
       "        [138,   1,  44],\n",
       "        [ 67,  91,  27],\n",
       "        [ 27,  22,   0],\n",
       "        [101,  44,  74],\n",
       "        [159,  91,  75],\n",
       "        [ 23,  86,  88],\n",
       "        [ 86,   6, 189],\n",
       "        [ 60,  69, 104],\n",
       "        [186,  25,  92],\n",
       "        [177, 101,  35],\n",
       "        [ 68, 104,  45],\n",
       "        [ 21,  40,  80],\n",
       "        [ 11,  42, 112],\n",
       "        [145,   0,  33],\n",
       "        [148, 150, 114],\n",
       "        [ 28, 201,  11],\n",
       "        [120, 114,  16],\n",
       "        [200, 111,   0],\n",
       "        [219,  78,  80],\n",
       "        [ 54, 121,  64],\n",
       "        [138,  36,  93],\n",
       "        [ 14,  15, 148],\n",
       "        [ 25,  97,  36],\n",
       "        [117,   1, 153],\n",
       "        [ 30, 217,  35],\n",
       "        [ 16, 100,  17],\n",
       "        [113,  59,  15],\n",
       "        [  2,  19, 150],\n",
       "        [ 22,  38,  36],\n",
       "        [166,  30, 111],\n",
       "        [ 40,  13,  27],\n",
       "        [ 29, 169,  95],\n",
       "        [127, 193,   6],\n",
       "        [ 95,  11, 158],\n",
       "        [ 90,  38,  30],\n",
       "        [ 59,   3,  45],\n",
       "        [ 57,  73,   1],\n",
       "        [ 43, 124,  50],\n",
       "        [ 12,  66,  85],\n",
       "        [163, 132, 141],\n",
       "        [ 76,  28,  53],\n",
       "        [131,  91,  62],\n",
       "        [191, 167,  44],\n",
       "        [143,  85,  90],\n",
       "        [ 96,  17, 149],\n",
       "        [ 82,  38, 188],\n",
       "        [179, 154,  31],\n",
       "        [ 98, 111,  37],\n",
       "        [ 45, 103,  37],\n",
       "        [ 70, 127,   5],\n",
       "        [ 31, 129,  51],\n",
       "        [153,  51,   5],\n",
       "        [  8, 128,  27],\n",
       "        [162,  52,  42],\n",
       "        [103, 180,   9],\n",
       "        [191,  30,  24],\n",
       "        [ 10,  14,  53],\n",
       "        [ 57, 141,  21],\n",
       "        [ 51,  77,  35],\n",
       "        [ 10,  29,  29],\n",
       "        [ 70,  12,  59],\n",
       "        [ 48,  34,   0],\n",
       "        [156,   4,  18],\n",
       "        [ 64,  61, 104],\n",
       "        [100,  66,  23],\n",
       "        [ 99, 208,  88],\n",
       "        [ 11,  82,  41],\n",
       "        [ 81, 184, 214],\n",
       "        [  4, 137, 168],\n",
       "        [ 22,  65,  73],\n",
       "        [ 64, 121, 191],\n",
       "        [157,  72,   3],\n",
       "        [ 31, 208, 153],\n",
       "        [ 72,  26,  73],\n",
       "        [194, 141,  24],\n",
       "        [195,  48,  81],\n",
       "        [ 30, 113, 109],\n",
       "        [ 63,  60,  41],\n",
       "        [ 17, 164,  26],\n",
       "        [ 26, 124,  96],\n",
       "        [ 81, 180, 103],\n",
       "        [ 91,   0,  26],\n",
       "        [ 38, 151,   2],\n",
       "        [ 78, 120,  94],\n",
       "        [ 72,  89,  35],\n",
       "        [105,  66,  70],\n",
       "        [218,  78, 143],\n",
       "        [119,  69,  30],\n",
       "        [ 12,  97,   2],\n",
       "        [ 71,   4,  64],\n",
       "        [127,   6,  94],\n",
       "        [ 54,  44,  58],\n",
       "        [ 75, 140,   6],\n",
       "        [160,  27,  40],\n",
       "        [ 16,  80,  32],\n",
       "        [ 21,  15,  34],\n",
       "        [ 71, 133,  73],\n",
       "        [ 90,  10,  46],\n",
       "        [129, 180, 142],\n",
       "        [ 50,  76,   6],\n",
       "        [143,  17,   0],\n",
       "        [ 17,  36, 102],\n",
       "        [  6,  26, 178]], dtype=int64)>)"
      ]
     },
     "metadata": {},
     "execution_count": 14
    }
   ],
   "metadata": {}
  },
  {
   "cell_type": "code",
   "execution_count": 15,
   "source": [
    "# 8. [1, 224, 224, 3] 모양의 임의 값으로 텐서 만들고 모양을 [224, 224, 3]으로 변경\r\n",
    "my_tensor = tf.constant(np.random.randint(0, 200000, 150528), shape=(1, 224, 224, 3))\r\n",
    "mytensor = tf.squeeze(my_tensor)\r\n"
   ],
   "outputs": [],
   "metadata": {}
  },
  {
   "cell_type": "code",
   "execution_count": 17,
   "source": [
    "# 9. shape가 10인 텐서를 만들고 최대값인 인덱스\r\n",
    "tensor = tf.constant(np.random.randint(0, 100, 10))\r\n",
    "tf.argmax(tensor).numpy()"
   ],
   "outputs": [
    {
     "output_type": "execute_result",
     "data": {
      "text/plain": [
       "8"
      ]
     },
     "metadata": {},
     "execution_count": 17
    }
   ],
   "metadata": {}
  },
  {
   "cell_type": "code",
   "execution_count": 20,
   "source": [
    "# 9에서 생성한 텐서를 웟-핫 인코딩\r\n",
    "tf.one_hot(tensor, depth=100)"
   ],
   "outputs": [
    {
     "output_type": "execute_result",
     "data": {
      "text/plain": [
       "<tf.Tensor: shape=(10, 100), dtype=float32, numpy=\n",
       "array([[0., 0., 0., 0., 0., 0., 0., 0., 0., 0., 0., 0., 0., 0., 0., 0.,\n",
       "        0., 0., 0., 0., 0., 0., 0., 0., 0., 0., 0., 0., 0., 0., 0., 0.,\n",
       "        0., 0., 0., 0., 0., 0., 0., 0., 0., 0., 0., 0., 0., 0., 0., 0.,\n",
       "        1., 0., 0., 0., 0., 0., 0., 0., 0., 0., 0., 0., 0., 0., 0., 0.,\n",
       "        0., 0., 0., 0., 0., 0., 0., 0., 0., 0., 0., 0., 0., 0., 0., 0.,\n",
       "        0., 0., 0., 0., 0., 0., 0., 0., 0., 0., 0., 0., 0., 0., 0., 0.,\n",
       "        0., 0., 0., 0.],\n",
       "       [0., 0., 0., 0., 0., 0., 0., 0., 0., 0., 0., 0., 0., 0., 0., 0.,\n",
       "        0., 0., 0., 0., 0., 0., 0., 0., 0., 0., 0., 0., 0., 0., 0., 0.,\n",
       "        0., 0., 0., 0., 0., 0., 0., 0., 0., 0., 0., 0., 0., 1., 0., 0.,\n",
       "        0., 0., 0., 0., 0., 0., 0., 0., 0., 0., 0., 0., 0., 0., 0., 0.,\n",
       "        0., 0., 0., 0., 0., 0., 0., 0., 0., 0., 0., 0., 0., 0., 0., 0.,\n",
       "        0., 0., 0., 0., 0., 0., 0., 0., 0., 0., 0., 0., 0., 0., 0., 0.,\n",
       "        0., 0., 0., 0.],\n",
       "       [0., 0., 0., 0., 0., 0., 0., 0., 0., 0., 0., 0., 0., 0., 0., 0.,\n",
       "        0., 0., 0., 0., 0., 0., 0., 0., 1., 0., 0., 0., 0., 0., 0., 0.,\n",
       "        0., 0., 0., 0., 0., 0., 0., 0., 0., 0., 0., 0., 0., 0., 0., 0.,\n",
       "        0., 0., 0., 0., 0., 0., 0., 0., 0., 0., 0., 0., 0., 0., 0., 0.,\n",
       "        0., 0., 0., 0., 0., 0., 0., 0., 0., 0., 0., 0., 0., 0., 0., 0.,\n",
       "        0., 0., 0., 0., 0., 0., 0., 0., 0., 0., 0., 0., 0., 0., 0., 0.,\n",
       "        0., 0., 0., 0.],\n",
       "       [0., 0., 0., 0., 0., 0., 0., 0., 0., 0., 0., 0., 0., 0., 0., 0.,\n",
       "        0., 0., 0., 0., 0., 0., 0., 0., 0., 0., 0., 0., 0., 0., 0., 0.,\n",
       "        0., 0., 0., 0., 0., 0., 0., 0., 0., 0., 0., 0., 0., 0., 0., 0.,\n",
       "        0., 0., 0., 0., 0., 0., 0., 0., 0., 0., 1., 0., 0., 0., 0., 0.,\n",
       "        0., 0., 0., 0., 0., 0., 0., 0., 0., 0., 0., 0., 0., 0., 0., 0.,\n",
       "        0., 0., 0., 0., 0., 0., 0., 0., 0., 0., 0., 0., 0., 0., 0., 0.,\n",
       "        0., 0., 0., 0.],\n",
       "       [0., 0., 0., 0., 0., 0., 0., 0., 0., 0., 0., 0., 0., 0., 0., 0.,\n",
       "        0., 0., 0., 0., 0., 0., 0., 0., 0., 0., 0., 0., 0., 0., 0., 0.,\n",
       "        0., 0., 0., 0., 0., 0., 0., 0., 0., 0., 0., 0., 0., 0., 0., 0.,\n",
       "        0., 0., 0., 0., 0., 0., 0., 1., 0., 0., 0., 0., 0., 0., 0., 0.,\n",
       "        0., 0., 0., 0., 0., 0., 0., 0., 0., 0., 0., 0., 0., 0., 0., 0.,\n",
       "        0., 0., 0., 0., 0., 0., 0., 0., 0., 0., 0., 0., 0., 0., 0., 0.,\n",
       "        0., 0., 0., 0.],\n",
       "       [0., 0., 0., 0., 0., 0., 0., 0., 0., 0., 0., 0., 0., 1., 0., 0.,\n",
       "        0., 0., 0., 0., 0., 0., 0., 0., 0., 0., 0., 0., 0., 0., 0., 0.,\n",
       "        0., 0., 0., 0., 0., 0., 0., 0., 0., 0., 0., 0., 0., 0., 0., 0.,\n",
       "        0., 0., 0., 0., 0., 0., 0., 0., 0., 0., 0., 0., 0., 0., 0., 0.,\n",
       "        0., 0., 0., 0., 0., 0., 0., 0., 0., 0., 0., 0., 0., 0., 0., 0.,\n",
       "        0., 0., 0., 0., 0., 0., 0., 0., 0., 0., 0., 0., 0., 0., 0., 0.,\n",
       "        0., 0., 0., 0.],\n",
       "       [0., 0., 0., 0., 0., 0., 0., 0., 0., 0., 0., 0., 0., 0., 0., 0.,\n",
       "        0., 0., 0., 0., 0., 0., 0., 0., 0., 0., 0., 0., 0., 0., 0., 0.,\n",
       "        0., 0., 0., 0., 0., 0., 0., 0., 0., 0., 0., 0., 0., 0., 0., 0.,\n",
       "        0., 0., 0., 0., 0., 0., 0., 0., 0., 0., 0., 0., 0., 0., 0., 0.,\n",
       "        0., 0., 0., 0., 0., 0., 0., 0., 0., 0., 0., 0., 0., 0., 0., 0.,\n",
       "        1., 0., 0., 0., 0., 0., 0., 0., 0., 0., 0., 0., 0., 0., 0., 0.,\n",
       "        0., 0., 0., 0.],\n",
       "       [0., 0., 1., 0., 0., 0., 0., 0., 0., 0., 0., 0., 0., 0., 0., 0.,\n",
       "        0., 0., 0., 0., 0., 0., 0., 0., 0., 0., 0., 0., 0., 0., 0., 0.,\n",
       "        0., 0., 0., 0., 0., 0., 0., 0., 0., 0., 0., 0., 0., 0., 0., 0.,\n",
       "        0., 0., 0., 0., 0., 0., 0., 0., 0., 0., 0., 0., 0., 0., 0., 0.,\n",
       "        0., 0., 0., 0., 0., 0., 0., 0., 0., 0., 0., 0., 0., 0., 0., 0.,\n",
       "        0., 0., 0., 0., 0., 0., 0., 0., 0., 0., 0., 0., 0., 0., 0., 0.,\n",
       "        0., 0., 0., 0.],\n",
       "       [0., 0., 0., 0., 0., 0., 0., 0., 0., 0., 0., 0., 0., 0., 0., 0.,\n",
       "        0., 0., 0., 0., 0., 0., 0., 0., 0., 0., 0., 0., 0., 0., 0., 0.,\n",
       "        0., 0., 0., 0., 0., 0., 0., 0., 0., 0., 0., 0., 0., 0., 0., 0.,\n",
       "        0., 0., 0., 0., 0., 0., 0., 0., 0., 0., 0., 0., 0., 0., 0., 0.,\n",
       "        0., 0., 0., 0., 0., 0., 0., 0., 0., 0., 0., 0., 0., 0., 0., 0.,\n",
       "        0., 0., 0., 0., 0., 0., 0., 0., 0., 0., 0., 0., 0., 0., 1., 0.,\n",
       "        0., 0., 0., 0.],\n",
       "       [0., 0., 0., 0., 0., 0., 0., 0., 0., 0., 0., 0., 0., 0., 0., 0.,\n",
       "        0., 0., 0., 0., 0., 0., 0., 0., 0., 0., 0., 0., 0., 0., 0., 0.,\n",
       "        0., 0., 0., 0., 0., 0., 0., 0., 0., 0., 0., 0., 0., 0., 0., 0.,\n",
       "        0., 1., 0., 0., 0., 0., 0., 0., 0., 0., 0., 0., 0., 0., 0., 0.,\n",
       "        0., 0., 0., 0., 0., 0., 0., 0., 0., 0., 0., 0., 0., 0., 0., 0.,\n",
       "        0., 0., 0., 0., 0., 0., 0., 0., 0., 0., 0., 0., 0., 0., 0., 0.,\n",
       "        0., 0., 0., 0.]], dtype=float32)>"
      ]
     },
     "metadata": {},
     "execution_count": 20
    }
   ],
   "metadata": {}
  },
  {
   "cell_type": "code",
   "execution_count": null,
   "source": [],
   "outputs": [],
   "metadata": {}
  }
 ],
 "metadata": {
  "orig_nbformat": 4,
  "language_info": {
   "name": "python",
   "version": "3.9.6",
   "mimetype": "text/x-python",
   "codemirror_mode": {
    "name": "ipython",
    "version": 3
   },
   "pygments_lexer": "ipython3",
   "nbconvert_exporter": "python",
   "file_extension": ".py"
  },
  "kernelspec": {
   "name": "python3",
   "display_name": "Python 3.9.6 64-bit ('venv': venv)"
  },
  "interpreter": {
   "hash": "1fcd8d934b6589855edd4dcd89fbd9a9a1c9f64fcd01f733bba94262d131e6e5"
  }
 },
 "nbformat": 4,
 "nbformat_minor": 2
}