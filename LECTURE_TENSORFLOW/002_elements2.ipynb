{
 "cells": [
  {
   "cell_type": "markdown",
   "source": [
    "## Button"
   ],
   "metadata": {}
  },
  {
   "cell_type": "code",
   "execution_count": 1,
   "source": [
    "import PySimpleGUI as sg"
   ],
   "outputs": [],
   "metadata": {}
  },
  {
   "cell_type": "code",
   "execution_count": 2,
   "source": [
    "layout = [\r\n",
    "    [sg.Button(\"버튼\", size = (10, 2))]\r\n",
    "]"
   ],
   "outputs": [],
   "metadata": {}
  },
  {
   "cell_type": "code",
   "execution_count": 3,
   "source": [
    "window = sg.Window(\"버튼들\", layout)"
   ],
   "outputs": [],
   "metadata": {}
  },
  {
   "cell_type": "code",
   "execution_count": 4,
   "source": [
    "event, values = window.read()\r\n",
    "window.close()\r\n",
    "print(event, values)"
   ],
   "outputs": [
    {
     "output_type": "stream",
     "name": "stdout",
     "text": [
      "버튼 {}\n"
     ]
    }
   ],
   "metadata": {}
  },
  {
   "cell_type": "code",
   "execution_count": 8,
   "source": [
    "layout = [\r\n",
    "    [sg.Button(\"버튼 1\", size = (10, 2)), sg.Button(\"버튼 2\", size = (10, 2))],\r\n",
    "    [sg.Btn(\"단축버튼\", size = (10, 3), button_color=(\"blue\", \"green\"))]\r\n",
    "]"
   ],
   "outputs": [],
   "metadata": {}
  },
  {
   "cell_type": "code",
   "execution_count": 9,
   "source": [
    "window = sg.Window(\"버튼들\", layout)"
   ],
   "outputs": [],
   "metadata": {}
  },
  {
   "cell_type": "code",
   "execution_count": 10,
   "source": [
    "event, values = window.read()\r\n",
    "window.close()\r\n",
    "print(event, values)"
   ],
   "outputs": [
    {
     "output_type": "stream",
     "name": "stdout",
     "text": [
      "None {}\n"
     ]
    }
   ],
   "metadata": {}
  },
  {
   "cell_type": "code",
   "execution_count": 11,
   "source": [
    "layout = [\r\n",
    "    [sg.Button(\"버튼\", size = (10, 2))],\r\n",
    "    [sg.Btn(\"단축버튼\", size = (10, 3), button_color=(\"blue\", \"green\"))],\r\n",
    "    [sg.B(\"완전 단축 버튼\")],\r\n",
    "    [sg.Ok(), sg.Cancel()],\r\n",
    "    [sg.Yes(), sg.No()]\r\n",
    "]"
   ],
   "outputs": [],
   "metadata": {}
  },
  {
   "cell_type": "code",
   "execution_count": 12,
   "source": [
    "window = sg.Window(\"버튼들\", layout)"
   ],
   "outputs": [],
   "metadata": {}
  },
  {
   "cell_type": "code",
   "execution_count": 13,
   "source": [
    "event, values = window.read()\r\n",
    "window.close()\r\n",
    "print(event, values)"
   ],
   "outputs": [
    {
     "output_type": "stream",
     "name": "stdout",
     "text": [
      "None {}\n"
     ]
    }
   ],
   "metadata": {}
  },
  {
   "cell_type": "markdown",
   "source": [
    "## ButtonMenu"
   ],
   "metadata": {}
  },
  {
   "cell_type": "code",
   "execution_count": 21,
   "source": [
    "menu = [\r\n",
    "    \"Menu\",\r\n",
    "    [\"File\", \"Edit\", \"View\", [\"List\", \"Details\", \"Full\"]]\r\n",
    "]"
   ],
   "outputs": [],
   "metadata": {}
  },
  {
   "cell_type": "code",
   "execution_count": 22,
   "source": [
    "layout = [\r\n",
    "    [sg.ButtonMenu(\"Menu\", menu_def = menu)]\r\n",
    "]"
   ],
   "outputs": [],
   "metadata": {}
  },
  {
   "cell_type": "code",
   "execution_count": 23,
   "source": [
    "window = sg.Window(\"버튼들\", layout)"
   ],
   "outputs": [],
   "metadata": {}
  },
  {
   "cell_type": "code",
   "execution_count": 18,
   "source": [
    "event, values = window.read()\r\n",
    "window.close()\r\n",
    "print(event, values)"
   ],
   "outputs": [
    {
     "output_type": "stream",
     "name": "stdout",
     "text": [
      "None {0: None}\n"
     ]
    }
   ],
   "metadata": {}
  },
  {
   "cell_type": "markdown",
   "source": [
    "## Canvas"
   ],
   "metadata": {}
  },
  {
   "cell_type": "code",
   "execution_count": 10,
   "source": [
    "layout = [\r\n",
    "    [sg.Canvas(size = (100, 100), background_color=\"blue\", key=\"canvas\")],\r\n",
    "    [sg.Ok(), sg.Cancel()]\r\n",
    "]"
   ],
   "outputs": [],
   "metadata": {}
  },
  {
   "cell_type": "code",
   "execution_count": 11,
   "source": [
    "window = sg.Window(\"버튼들\", layout)\r\n",
    "window.finalize()"
   ],
   "outputs": [
    {
     "output_type": "execute_result",
     "data": {
      "text/plain": [
       "<PySimpleGUI.PySimpleGUI.Window at 0x28d1d915490>"
      ]
     },
     "metadata": {},
     "execution_count": 11
    }
   ],
   "metadata": {}
  },
  {
   "cell_type": "code",
   "execution_count": 12,
   "source": [
    "canvas = window[\"canvas\"]\r\n",
    "cir = canvas.TKCanvas.create_oval(50, 50, 100, 100)"
   ],
   "outputs": [],
   "metadata": {}
  },
  {
   "cell_type": "code",
   "execution_count": 13,
   "source": [
    "event, values = window.read()\r\n",
    "window.close()\r\n",
    "print(event, values)"
   ],
   "outputs": [
    {
     "output_type": "stream",
     "name": "stdout",
     "text": [
      "Ok {'canvas': None}\n"
     ]
    }
   ],
   "metadata": {}
  },
  {
   "cell_type": "markdown",
   "source": [
    "## Checkbox"
   ],
   "metadata": {}
  },
  {
   "cell_type": "code",
   "execution_count": 17,
   "source": [
    "layout = [\r\n",
    "    [sg.Checkbox(\"체크박스\", key=\"-CHECK1-\")],\r\n",
    "    [sg.CBox(\"단축 체크박스\", key=\"-CHECK2-\")],\r\n",
    "    [sg.CB(\"더 단축 체크박스\")],\r\n",
    "    [sg.Ok(), sg.Cancel()]\r\n",
    "]"
   ],
   "outputs": [],
   "metadata": {}
  },
  {
   "cell_type": "code",
   "execution_count": 18,
   "source": [
    "window = sg.Window(\"버튼들\", layout)"
   ],
   "outputs": [],
   "metadata": {}
  },
  {
   "cell_type": "code",
   "execution_count": 19,
   "source": [
    "event, values = window.read()\r\n",
    "window.close()\r\n",
    "print(event, values)"
   ],
   "outputs": [
    {
     "output_type": "stream",
     "name": "stdout",
     "text": [
      "Ok {'-CHECK1-': False, '-CHECK2-': True, 0: False}\n"
     ]
    }
   ],
   "metadata": {}
  },
  {
   "cell_type": "markdown",
   "source": [
    "## Column "
   ],
   "metadata": {}
  },
  {
   "cell_type": "code",
   "execution_count": 28,
   "source": [
    "col1 = [\r\n",
    "    [sg.Checkbox(\"왼쪽 체크박스1\", key = \"-CHEKC1L-\")],\r\n",
    "    [sg.CBox(\"왼쪽 체크박스2\", key = \"-CHEKC2L-\")],\r\n",
    "    [sg.CB(\"왼쪽 체크박스3\")],\r\n",
    "]"
   ],
   "outputs": [],
   "metadata": {}
  },
  {
   "cell_type": "code",
   "execution_count": 29,
   "source": [
    "col2 = [\r\n",
    "    [sg.Checkbox(\"오른쪽 체크박스1\", key = \"-CHEKC1R-\")],\r\n",
    "    [sg.CBox(\"오른쪽 체크박스2\", key = \"-CHEKC2R-\")],\r\n",
    "    [sg.CB(\"오른쪽 체크박스3\")],\r\n",
    "]"
   ],
   "outputs": [],
   "metadata": {}
  },
  {
   "cell_type": "code",
   "execution_count": 30,
   "source": [
    "layout = [\r\n",
    "    [sg.Column(col1), sg.VerticalSeparator(), sg.Col(col2)],\r\n",
    "    [sg.Ok(), sg.Cancel()]\r\n",
    "]"
   ],
   "outputs": [],
   "metadata": {}
  },
  {
   "cell_type": "code",
   "execution_count": 31,
   "source": [
    "window = sg.Window(\"컬럼들\", layout)"
   ],
   "outputs": [],
   "metadata": {}
  },
  {
   "cell_type": "code",
   "execution_count": 32,
   "source": [
    "event, values = window.read()\r\n",
    "window.close()\r\n",
    "print(event, values)"
   ],
   "outputs": [
    {
     "output_type": "stream",
     "name": "stdout",
     "text": [
      "Ok {'-CHEKC1L-': True, '-CHEKC2L-': False, 0: False, '-CHEKC1R-': False, '-CHEKC2R-': True, 2: False}\n"
     ]
    }
   ],
   "metadata": {}
  },
  {
   "cell_type": "markdown",
   "source": [
    "## ComboBox"
   ],
   "metadata": {}
  },
  {
   "cell_type": "code",
   "execution_count": 33,
   "source": [
    "data = list(\"abcdefg\")\r\n",
    "data"
   ],
   "outputs": [
    {
     "output_type": "execute_result",
     "data": {
      "text/plain": [
       "['a', 'b', 'c', 'd', 'e', 'f', 'g']"
      ]
     },
     "metadata": {},
     "execution_count": 33
    }
   ],
   "metadata": {}
  },
  {
   "cell_type": "code",
   "execution_count": 37,
   "source": [
    "layout = [\r\n",
    "    [sg.Combo(values = data, size = (5, 4), default_value = data[3])],\r\n",
    "    [sg.Ok(), sg.Cancel()]\r\n",
    "]"
   ],
   "outputs": [],
   "metadata": {}
  },
  {
   "cell_type": "code",
   "execution_count": 38,
   "source": [
    "window = sg.Window(\"ComboBox\", layout)"
   ],
   "outputs": [],
   "metadata": {}
  },
  {
   "cell_type": "code",
   "execution_count": 39,
   "source": [
    "event, values = window.read()\r\n",
    "window.close()\r\n",
    "print(event, values)"
   ],
   "outputs": [
    {
     "output_type": "stream",
     "name": "stdout",
     "text": [
      "Ok {0: 'g'}\n"
     ]
    }
   ],
   "metadata": {}
  },
  {
   "cell_type": "markdown",
   "source": [
    "## Frame"
   ],
   "metadata": {}
  },
  {
   "cell_type": "code",
   "execution_count": 46,
   "source": [
    "data = list(\"abcdefg\")\r\n",
    "data"
   ],
   "outputs": [
    {
     "output_type": "execute_result",
     "data": {
      "text/plain": [
       "['a', 'b', 'c', 'd', 'e', 'f', 'g']"
      ]
     },
     "metadata": {},
     "execution_count": 46
    }
   ],
   "metadata": {}
  },
  {
   "cell_type": "code",
   "execution_count": 47,
   "source": [
    "frame = [\r\n",
    "    [sg.Combo(values = data, size = (5, 4), default_value = data[0])],\r\n",
    "    [sg.CB(\"왼쪽 Combobox\"), sg.CB(\"오른쪽 Combobox\")]\r\n",
    "]"
   ],
   "outputs": [],
   "metadata": {}
  },
  {
   "cell_type": "code",
   "execution_count": 48,
   "source": [
    "layout = [\r\n",
    "    [sg.Frame(\"새로 만든 Frame\", frame)],\r\n",
    "    [sg.Ok(), sg.Cancel()]\r\n",
    "]"
   ],
   "outputs": [],
   "metadata": {}
  },
  {
   "cell_type": "code",
   "execution_count": 49,
   "source": [
    "window = sg.Window(\"ComboBox\", layout)\r\n",
    "event, values = window.read()\r\n",
    "window.close()\r\n",
    "print(event, values)"
   ],
   "outputs": [
    {
     "output_type": "stream",
     "name": "stdout",
     "text": [
      "Ok {0: 'c', 1: True, 2: True}\n"
     ]
    }
   ],
   "metadata": {}
  },
  {
   "cell_type": "code",
   "execution_count": 50,
   "source": [
    "## Horizonal separator"
   ],
   "outputs": [],
   "metadata": {}
  },
  {
   "cell_type": "code",
   "execution_count": 51,
   "source": [
    "data = list(\"abcdefg\")\r\n",
    "data"
   ],
   "outputs": [
    {
     "output_type": "execute_result",
     "data": {
      "text/plain": [
       "['a', 'b', 'c', 'd', 'e', 'f', 'g']"
      ]
     },
     "metadata": {},
     "execution_count": 51
    }
   ],
   "metadata": {}
  },
  {
   "cell_type": "code",
   "execution_count": 54,
   "source": [
    "frame = [\r\n",
    "    [sg.Combo(values = data, size = (5, 4), default_value = data[0])],\r\n",
    "    [sg.HorizontalSeparator()],\r\n",
    "    [sg.CB(\"왼쪽 Combobox\"), sg.CB(\"오른쪽 Combobox\")]\r\n",
    "]"
   ],
   "outputs": [],
   "metadata": {}
  },
  {
   "cell_type": "code",
   "execution_count": 55,
   "source": [
    "layout = [\r\n",
    "    [sg.Frame(\"새로 만든 Frame\", frame)],\r\n",
    "    [sg.Ok(), sg.Cancel()]\r\n",
    "]"
   ],
   "outputs": [],
   "metadata": {}
  },
  {
   "cell_type": "code",
   "execution_count": 56,
   "source": [
    "window = sg.Window(\"ComboBox\", layout)\r\n",
    "event, values = window.read()\r\n",
    "window.close()\r\n",
    "print(event, values)"
   ],
   "outputs": [
    {
     "output_type": "stream",
     "name": "stdout",
     "text": [
      "Ok {0: 'a', 2: False, 3: False}\n"
     ]
    }
   ],
   "metadata": {}
  },
  {
   "cell_type": "code",
   "execution_count": 57,
   "source": [
    "## Image"
   ],
   "outputs": [],
   "metadata": {}
  },
  {
   "cell_type": "code",
   "execution_count": 61,
   "source": [
    "layout = [\r\n",
    "    [sg.Image(\"./instagram.png\")],\r\n",
    "    [sg.Ok(), sg.Cancel()]\r\n",
    "]"
   ],
   "outputs": [],
   "metadata": {}
  },
  {
   "cell_type": "code",
   "execution_count": 62,
   "source": [
    "window = sg.Window(\"이미지보기\", layout)\r\n",
    "event, values = window.read()\r\n",
    "window.close()\r\n",
    "print(event, values)"
   ],
   "outputs": [
    {
     "output_type": "stream",
     "name": "stdout",
     "text": [
      "Ok {}\n"
     ]
    }
   ],
   "metadata": {}
  },
  {
   "cell_type": "code",
   "execution_count": 63,
   "source": [
    "## Input"
   ],
   "outputs": [],
   "metadata": {}
  },
  {
   "cell_type": "code",
   "execution_count": 66,
   "source": [
    "layout = [\r\n",
    "    [sg.Text(\"입력 1\")],\r\n",
    "    [sg.Input(key = \"-IN1-\")],\r\n",
    "    [sg.Text(\"입력 2\"), sg.In(key = \"-IN2-\")],\r\n",
    "    [sg.Text(\"입력 3\"), sg.I(key = \"-IN3-\")],\r\n",
    "    [sg.Ok(), sg.Cancel()]\r\n",
    "]"
   ],
   "outputs": [],
   "metadata": {}
  },
  {
   "cell_type": "code",
   "execution_count": 67,
   "source": [
    "window = sg.Window(\"이미지보기\", layout)\r\n",
    "event, values = window.read()\r\n",
    "window.close()\r\n",
    "print(event, values)"
   ],
   "outputs": [
    {
     "output_type": "stream",
     "name": "stdout",
     "text": [
      "Ok {'-IN1-': 'A', '-IN2-': 'B', '-IN3-': 'C'}\n"
     ]
    }
   ],
   "metadata": {}
  },
  {
   "cell_type": "code",
   "execution_count": 68,
   "source": [
    "## ListBox"
   ],
   "outputs": [],
   "metadata": {}
  },
  {
   "cell_type": "code",
   "execution_count": 69,
   "source": [
    "data = list(\"abcdefg\")\r\n",
    "data"
   ],
   "outputs": [
    {
     "output_type": "execute_result",
     "data": {
      "text/plain": [
       "['a', 'b', 'c', 'd', 'e', 'f', 'g']"
      ]
     },
     "metadata": {},
     "execution_count": 69
    }
   ],
   "metadata": {}
  },
  {
   "cell_type": "code",
   "execution_count": 73,
   "source": [
    "layout = [\r\n",
    "    [sg.Listbox(values = data, size = (5, 4))],\r\n",
    "    [sg.Ok(), sg.Cancel()]\r\n",
    "]"
   ],
   "outputs": [],
   "metadata": {}
  },
  {
   "cell_type": "code",
   "execution_count": 74,
   "source": [
    "window = sg.Window(\"이미지보기\", layout)\r\n",
    "event, values = window.read()\r\n",
    "window.close()\r\n",
    "print(event, values)"
   ],
   "outputs": [
    {
     "output_type": "stream",
     "name": "stdout",
     "text": [
      "Ok {0: ['a']}\n"
     ]
    }
   ],
   "metadata": {}
  },
  {
   "cell_type": "code",
   "execution_count": 75,
   "source": [
    "## Menu"
   ],
   "outputs": [],
   "metadata": {}
  },
  {
   "cell_type": "code",
   "execution_count": 76,
   "source": [
    "menu = [\r\n",
    "    [\"&File\", [\"!&Open\", \"&Save\", \"---\", \"E&xit\"]],\r\n",
    "    [\"&Edit\", [\"Copy\", \"Paste\"]]\r\n",
    "]"
   ],
   "outputs": [],
   "metadata": {}
  },
  {
   "cell_type": "code",
   "execution_count": 77,
   "source": [
    "layout = [\r\n",
    "    [sg.Menu(menu)],\r\n",
    "    [sg.Ok(), sg.Cancel()]\r\n",
    "]"
   ],
   "outputs": [],
   "metadata": {}
  },
  {
   "cell_type": "code",
   "execution_count": 78,
   "source": [
    "window = sg.Window(\"메뉴보기\", layout)\r\n",
    "event, values = window.read()\r\n",
    "window.close()\r\n",
    "print(event, values)"
   ],
   "outputs": [
    {
     "output_type": "stream",
     "name": "stdout",
     "text": [
      "None {0: None}\n"
     ]
    }
   ],
   "metadata": {}
  },
  {
   "cell_type": "code",
   "execution_count": 79,
   "source": [
    "## Multiline"
   ],
   "outputs": [],
   "metadata": {}
  },
  {
   "cell_type": "code",
   "execution_count": 80,
   "source": [
    "layout = [\r\n",
    "    [sg.Multiline(size = (100, 20))],\r\n",
    "    [sg.Ok(), sg.Cancel()]\r\n",
    "]"
   ],
   "outputs": [],
   "metadata": {}
  },
  {
   "cell_type": "code",
   "execution_count": 81,
   "source": [
    "window = sg.Window(\"멀티라인\", layout)\r\n",
    "event, values = window.read()\r\n",
    "window.close()\r\n",
    "print(event, values)"
   ],
   "outputs": [
    {
     "output_type": "stream",
     "name": "stdout",
     "text": [
      "Ok {0: 'asdfalkesjlkf\\n\\n\\n\\naiejfiajelij\\n\\n\\n\\naiejfiajelfj\\n\\n[\\n\\n\\nijaeifja디러ㅏㅣ더리더리ㅏㅓ믿ㄹ'}\n"
     ]
    }
   ],
   "metadata": {}
  },
  {
   "cell_type": "code",
   "execution_count": 82,
   "source": [
    "## Output Element"
   ],
   "outputs": [],
   "metadata": {}
  },
  {
   "cell_type": "code",
   "execution_count": 87,
   "source": [
    "layout = [\r\n",
    "    [sg.Output(size = (100, 20))],\r\n",
    "    [sg.Ok(), sg.Cancel()]\r\n",
    "]"
   ],
   "outputs": [],
   "metadata": {}
  },
  {
   "cell_type": "code",
   "execution_count": 88,
   "source": [
    "window = sg.Window(\"Output\", layout)"
   ],
   "outputs": [],
   "metadata": {}
  },
  {
   "cell_type": "code",
   "execution_count": 89,
   "source": [
    "event, values = window.read()\r\n",
    "if event == \"Ok\":\r\n",
    "    for i in range(50):\r\n",
    "        print(i)"
   ],
   "outputs": [],
   "metadata": {}
  },
  {
   "cell_type": "code",
   "execution_count": 90,
   "source": [
    "window.close()\r\n",
    "print(event, values)"
   ],
   "outputs": [],
   "metadata": {}
  },
  {
   "cell_type": "code",
   "execution_count": 91,
   "source": [
    "## Progress"
   ],
   "outputs": [],
   "metadata": {}
  },
  {
   "cell_type": "code",
   "execution_count": 97,
   "source": [
    "layout = [\r\n",
    "    [sg.ProgressBar(max_value = 500, orientation=\"h\", size=(20, 20), key = '-PROG-')],\r\n",
    "    [sg.Ok(), sg.Cancel()]\r\n",
    "]"
   ],
   "outputs": [],
   "metadata": {}
  },
  {
   "cell_type": "code",
   "execution_count": 98,
   "source": [
    "window = sg.Window(\"Progress\", layout)"
   ],
   "outputs": [],
   "metadata": {}
  },
  {
   "cell_type": "code",
   "execution_count": 99,
   "source": [
    "for i in range(500):\r\n",
    "    event, values = window.read(timeout = 1)\r\n",
    "    if event == \"Cancel\" or event == sg.WIN_CLOSED:\r\n",
    "        break\r\n",
    "    window[\"-PROG-\"].UpdateBar(i + 1)\r\n",
    "window.close()"
   ],
   "outputs": [],
   "metadata": {}
  },
  {
   "cell_type": "code",
   "execution_count": 100,
   "source": [
    "## Radio Button"
   ],
   "outputs": [],
   "metadata": {}
  },
  {
   "cell_type": "code",
   "execution_count": 101,
   "source": [
    "col1 = [\r\n",
    "    [sg.Radio(\"Radio-1\", group_id = 1)],\r\n",
    "    [sg.Radio(\"Radio-2\", group_id = 1)],\r\n",
    "    [sg.Radio(\"Radio-3\", group_id = 1)],\r\n",
    "]"
   ],
   "outputs": [],
   "metadata": {}
  },
  {
   "cell_type": "code",
   "execution_count": 102,
   "source": [
    "col2 = [\r\n",
    "    [sg.Radio(\"Radio-4\", group_id = 2)],\r\n",
    "    [sg.Radio(\"Radio-5\", group_id = 2)],\r\n",
    "    [sg.Radio(\"Radio-6\", group_id = 3)],\r\n",
    "]"
   ],
   "outputs": [],
   "metadata": {}
  },
  {
   "cell_type": "code",
   "execution_count": 103,
   "source": [
    "layout = [\r\n",
    "    [sg.Column(col1), sg.VerticalSeparator(), sg.Col(col2)],\r\n",
    "    [sg.Ok(), sg.Cancel()]\r\n",
    "]"
   ],
   "outputs": [],
   "metadata": {}
  },
  {
   "cell_type": "code",
   "execution_count": 104,
   "source": [
    "window = sg.Window(\"Radio Button\", layout)\r\n",
    "event, values = window.read()\r\n",
    "window.close()\r\n",
    "print(event, values)"
   ],
   "outputs": [
    {
     "output_type": "stream",
     "name": "stdout",
     "text": [
      "Ok {0: False, 1: False, 2: True, 4: True, 5: False, 6: True}\n"
     ]
    }
   ],
   "metadata": {}
  },
  {
   "cell_type": "code",
   "execution_count": 105,
   "source": [
    "## slide"
   ],
   "outputs": [],
   "metadata": {}
  },
  {
   "cell_type": "code",
   "execution_count": 108,
   "source": [
    "layout = [\r\n",
    "    [sg.Slider(range = (1, 100), default_value = 50, orientation = \"v\")],\r\n",
    "    [sg.Slider(range = (1, 200), default_value = 100, orientation = \"h\")],\r\n",
    "    [sg.Ok(), sg.Cancel()]\r\n",
    "]"
   ],
   "outputs": [],
   "metadata": {}
  },
  {
   "cell_type": "code",
   "execution_count": 109,
   "source": [
    "window = sg.Window(\"Slider\", layout)\r\n",
    "event, values = window.read()\r\n",
    "window.close()\r\n",
    "print(event, values)"
   ],
   "outputs": [
    {
     "output_type": "stream",
     "name": "stdout",
     "text": [
      "Ok {0: 22.0, 1: 1.0}\n"
     ]
    }
   ],
   "metadata": {}
  },
  {
   "cell_type": "code",
   "execution_count": 110,
   "source": [
    "## Spin"
   ],
   "outputs": [],
   "metadata": {}
  },
  {
   "cell_type": "code",
   "execution_count": 115,
   "source": [
    "layout = [\r\n",
    "    [sg.Spin(initial_value = 3, values=list(range(1, 10)), size = (5, 5))],\r\n",
    "    [sg.Spin(initial_value = \"다\", values=[\"가\", \"나\", \"다\"], size = (5, 5))],\r\n",
    "    [sg.Ok(), sg.Cancel()]\r\n",
    "]"
   ],
   "outputs": [],
   "metadata": {}
  },
  {
   "cell_type": "code",
   "execution_count": 116,
   "source": [
    "window = sg.Window(\"Spin\", layout)\r\n",
    "event, values = window.read()\r\n",
    "window.close()\r\n",
    "print(event, values)"
   ],
   "outputs": [
    {
     "output_type": "stream",
     "name": "stdout",
     "text": [
      "None {0: None, 1: None}\n"
     ]
    }
   ],
   "metadata": {}
  },
  {
   "cell_type": "code",
   "execution_count": 117,
   "source": [
    "## Status Bar\r\n",
    "layout = [\r\n",
    "    [sg.Multiline(size = (50, 10))],\r\n",
    "    [sg.StatusBar(\"안녕하세요!\")],\r\n",
    "    [sg.Ok(), sg.Cancel()]\r\n",
    "]"
   ],
   "outputs": [],
   "metadata": {}
  },
  {
   "cell_type": "code",
   "execution_count": 118,
   "source": [
    "window = sg.Window(\"Status Bar\", layout)\r\n",
    "event, values = window.read()\r\n",
    "window.close()\r\n",
    "print(event, values)"
   ],
   "outputs": [
    {
     "output_type": "stream",
     "name": "stdout",
     "text": [
      "Ok {0: 'ㅁㄴㅇㄻㄴㅇㄹ'}\n"
     ]
    }
   ],
   "metadata": {}
  },
  {
   "cell_type": "code",
   "execution_count": 119,
   "source": [
    "## Tabs"
   ],
   "outputs": [],
   "metadata": {}
  },
  {
   "cell_type": "code",
   "execution_count": 124,
   "source": [
    "tab1 = [\r\n",
    "    [sg.Text(\"탭 1 내용\")],\r\n",
    "    [sg.I(size = (30, 1))],\r\n",
    "    [sg.Text(\"이름\")],\r\n",
    "    [sg.I(size = (30, 1))],\r\n",
    "    [sg.Text(\"주소\")],\r\n",
    "    [sg.I(size = (30, 1))]\r\n",
    "]"
   ],
   "outputs": [],
   "metadata": {}
  },
  {
   "cell_type": "code",
   "execution_count": 125,
   "source": [
    "tab2 = [\r\n",
    "    [sg.Text(\"탭 2 내용\")],\r\n",
    "    [sg.I(size = (30, 1))],\r\n",
    "    [sg.Text(\"학교\")],\r\n",
    "    [sg.I(size = (30, 1))]\r\n",
    "]"
   ],
   "outputs": [],
   "metadata": {}
  },
  {
   "cell_type": "code",
   "execution_count": 126,
   "source": [
    "layout = [\r\n",
    "    [sg.TabGroup([\r\n",
    "        [sg.Tab(\"탭 1\", tab1), sg.Tab(\"탭 2\", tab2)]\r\n",
    "    ])],\r\n",
    "    [sg.Ok(), sg.Cancel()]\r\n",
    "]"
   ],
   "outputs": [],
   "metadata": {}
  },
  {
   "cell_type": "code",
   "execution_count": 127,
   "source": [
    "window = sg.Window(\"탭들\", layout)\r\n",
    "event, values = window.read()\r\n",
    "window.close()\r\n",
    "print(event, values)"
   ],
   "outputs": [
    {
     "output_type": "stream",
     "name": "stdout",
     "text": [
      "Ok {0: 'a', 1: 'b', 2: 'c', 3: '1', 4: '2', 5: '탭 1'}\n"
     ]
    }
   ],
   "metadata": {}
  },
  {
   "cell_type": "code",
   "execution_count": 128,
   "source": [
    "## Tables"
   ],
   "outputs": [],
   "metadata": {}
  },
  {
   "cell_type": "code",
   "execution_count": null,
   "source": [
    "data = []\r\n",
    "for i in range(1, 11):\r\n",
    "    row = []\r\n",
    "    for j in range(1, 11):\r\n",
    "        row.append(i*j)\r\n",
    "    data.append(list(row))\r\n",
    "data"
   ],
   "outputs": [],
   "metadata": {}
  },
  {
   "cell_type": "code",
   "execution_count": null,
   "source": [
    "heading = [f\"Col-{i}\" for i in range(1, 11)]\r\n",
    "heading"
   ],
   "outputs": [],
   "metadata": {}
  },
  {
   "cell_type": "code",
   "execution_count": 133,
   "source": [
    "layout = [\r\n",
    "    [sg.Table(headings = heading, values = data)],\r\n",
    "    [sg.Ok(), sg.Cancel()]\r\n",
    "]"
   ],
   "outputs": [],
   "metadata": {}
  },
  {
   "cell_type": "code",
   "execution_count": 134,
   "source": [
    "window = sg.Window(\"Table\", layout)\r\n",
    "event, values = window.read()\r\n",
    "window.close()\r\n",
    "print(event, values)"
   ],
   "outputs": [
    {
     "output_type": "stream",
     "name": "stdout",
     "text": [
      "*** tk version 8.6.9 detected.... patching ttk treeview code ***\n",
      "Ok {0: [2]}\n"
     ]
    }
   ],
   "metadata": {}
  },
  {
   "cell_type": "code",
   "execution_count": 135,
   "source": [
    "## Text"
   ],
   "outputs": [],
   "metadata": {}
  },
  {
   "cell_type": "code",
   "execution_count": 136,
   "source": [
    "layout = [\r\n",
    "    [sg.Text(\"안녕하세요1\")],\r\n",
    "    [sg.T(\"안녕하세요2\")],\r\n",
    "    [sg.Ok(), sg.Cancel()]\r\n",
    "]"
   ],
   "outputs": [],
   "metadata": {}
  },
  {
   "cell_type": "code",
   "execution_count": 137,
   "source": [
    "window = sg.Window(\"Text\", layout)\r\n",
    "event, values = window.read()\r\n",
    "window.close()\r\n",
    "print(event, values)"
   ],
   "outputs": [
    {
     "output_type": "stream",
     "name": "stdout",
     "text": [
      "Ok {}\n"
     ]
    }
   ],
   "metadata": {}
  },
  {
   "cell_type": "code",
   "execution_count": 138,
   "source": [
    "## 그외..."
   ],
   "outputs": [],
   "metadata": {}
  },
  {
   "cell_type": "code",
   "execution_count": 145,
   "source": [
    "layout = [\r\n",
    "    [sg.Text(\"파일을 선택해 주세요!\")],\r\n",
    "    [\r\n",
    "        sg.I(key = \"-FILE-\"), \r\n",
    "        sg.FileBrowse(\"파일탐색\", file_types = ((\"텍스트파일\", \"*.txt\"),(\"icon파일\", \"*.ico\")))\r\n",
    "    ],\r\n",
    "    [sg.Ok(), sg.Cancel()]\r\n",
    "]"
   ],
   "outputs": [],
   "metadata": {}
  },
  {
   "cell_type": "code",
   "execution_count": 146,
   "source": [
    "window = sg.Window(\"Text\", layout)\r\n",
    "event, values = window.read()\r\n",
    "window.close()\r\n",
    "print(event, values)"
   ],
   "outputs": [
    {
     "output_type": "stream",
     "name": "stdout",
     "text": [
      "Ok {'-File-': 'C:/workspace/20210904/mytext.txt', '파일탐색': 'C:/workspace/20210904/mytext.txt'}\n"
     ]
    }
   ],
   "metadata": {}
  },
  {
   "cell_type": "code",
   "execution_count": 152,
   "source": [
    "layout = [\r\n",
    "    [sg.Text(\"파일을 선택해 주세요!\")],\r\n",
    "    [sg.I(key = \"-FILE-\")], \r\n",
    "    [sg.FileBrowse(\"파일탐색\", file_types = ((\"텍스트파일\", \"*.txt\"),), target=\"-FILE-\") ],\r\n",
    "    [sg.Ok(), sg.Cancel()]\r\n",
    "]"
   ],
   "outputs": [],
   "metadata": {}
  },
  {
   "cell_type": "code",
   "execution_count": 153,
   "source": [
    "window = sg.Window(\"Text\", layout)\r\n",
    "event, values = window.read()\r\n",
    "window.close()\r\n",
    "print(event, values)"
   ],
   "outputs": [
    {
     "output_type": "stream",
     "name": "stdout",
     "text": [
      "Ok {'-FILE-': 'C:/workspace/20210904/mytext.txt', '파일탐색': 'C:/workspace/20210904/mytext.txt'}\n"
     ]
    }
   ],
   "metadata": {}
  },
  {
   "cell_type": "code",
   "execution_count": 155,
   "source": [
    "layout = [\r\n",
    "    [sg.CalendarButton(\"달력\")],\r\n",
    "    [sg.ColorChooserButton(\"색 선택\")],\r\n",
    "    [sg.FileBrowse(\"파일탐색\")],\r\n",
    "    [sg.FileSaveAs(\"파일저장\")],\r\n",
    "    [sg.FolderBrowse(\"폴더검색\")],    \r\n",
    "    [sg.Ok(), sg.Cancel()]\r\n",
    "]"
   ],
   "outputs": [],
   "metadata": {}
  },
  {
   "cell_type": "code",
   "execution_count": 156,
   "source": [
    "window = sg.Window(\"여러 버튼들\", layout)\r\n",
    "event, values = window.read()\r\n",
    "window.close()\r\n",
    "print(event, values)"
   ],
   "outputs": [
    {
     "output_type": "stream",
     "name": "stdout",
     "text": [
      "Ok {'달력': '2021-09-22 11:31:35', '파일탐색': '', '파일저장': '', '폴더검색': ''}\n"
     ]
    }
   ],
   "metadata": {}
  },
  {
   "cell_type": "code",
   "execution_count": null,
   "source": [],
   "outputs": [],
   "metadata": {}
  }
 ],
 "metadata": {
  "orig_nbformat": 4,
  "language_info": {
   "name": "python",
   "version": "3.9.6",
   "mimetype": "text/x-python",
   "codemirror_mode": {
    "name": "ipython",
    "version": 3
   },
   "pygments_lexer": "ipython3",
   "nbconvert_exporter": "python",
   "file_extension": ".py"
  },
  "kernelspec": {
   "name": "python3",
   "display_name": "Python 3.9.6 64-bit ('venv': venv)"
  },
  "interpreter": {
   "hash": "45296c0576c5cc7530661560ef48df3b1da650cee8316ac97ad76e2f2e7f1bb6"
  }
 },
 "nbformat": 4,
 "nbformat_minor": 2
}