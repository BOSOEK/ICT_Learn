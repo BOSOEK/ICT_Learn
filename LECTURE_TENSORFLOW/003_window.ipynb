{
 "cells": [
  {
   "cell_type": "code",
   "execution_count": null,
   "source": [
    "## 003_window.ipynb"
   ],
   "outputs": [],
   "metadata": {}
  },
  {
   "cell_type": "code",
   "execution_count": 2,
   "source": [
    "!pip install pysimplegui"
   ],
   "outputs": [
    {
     "output_type": "stream",
     "name": "stdout",
     "text": [
      "Collecting pysimplegui\n",
      "  Downloading PySimpleGUI-4.47.0-py3-none-any.whl (365 kB)\n",
      "Installing collected packages: pysimplegui\n",
      "Successfully installed pysimplegui-4.47.0\n"
     ]
    },
    {
     "output_type": "stream",
     "name": "stderr",
     "text": [
      "WARNING: You are using pip version 21.1.3; however, version 21.2.4 is available.\n",
      "You should consider upgrading via the 'c:\\lecture_tensorflow\\venv\\scripts\\python.exe -m pip install --upgrade pip' command.\n"
     ]
    }
   ],
   "metadata": {}
  },
  {
   "cell_type": "code",
   "execution_count": 1,
   "source": [
    "import PySimpleGUI as sg"
   ],
   "outputs": [],
   "metadata": {}
  },
  {
   "cell_type": "code",
   "execution_count": null,
   "source": [
    "## 일정시간동안 window 유지하기"
   ],
   "outputs": [],
   "metadata": {}
  },
  {
   "cell_type": "code",
   "execution_count": 4,
   "source": [
    "layout = [\r\n",
    "    []\r\n",
    "]"
   ],
   "outputs": [],
   "metadata": {}
  },
  {
   "cell_type": "code",
   "execution_count": 10,
   "source": [
    "window = sg.Window(\"안녕하세요\", layout, size = (300, 200))\r\n",
    "event, values = window.read(timeout = 5000)\r\n",
    "window.close()"
   ],
   "outputs": [],
   "metadata": {}
  },
  {
   "cell_type": "code",
   "execution_count": 15,
   "source": [
    "layout = [\r\n",
    "    [sg.T(\"입력을 해주세요\")],\r\n",
    "    [sg.I(key=\"-INPUT-\")],\r\n",
    "    [sg.Ok(), sg.Cancel()]\r\n",
    "]"
   ],
   "outputs": [],
   "metadata": {}
  },
  {
   "cell_type": "code",
   "execution_count": null,
   "source": [
    "## window.close() 사용"
   ],
   "outputs": [],
   "metadata": {}
  },
  {
   "cell_type": "code",
   "execution_count": 16,
   "source": [
    "window = sg.Window(\"입력을 처리하는 창\", layout)\r\n",
    "event, values = window.read()\r\n",
    "window.close()"
   ],
   "outputs": [],
   "metadata": {}
  },
  {
   "cell_type": "code",
   "execution_count": 17,
   "source": [
    "print(event, values, type(event), type(values))"
   ],
   "outputs": [
    {
     "output_type": "stream",
     "name": "stdout",
     "text": [
      "Ok {'-INPUT-': '날씨가 좋네요'} <class 'str'> <class 'dict'>\n"
     ]
    }
   ],
   "metadata": {}
  },
  {
   "cell_type": "code",
   "execution_count": null,
   "source": [
    "## window.close() 사용하지 않고, close=True 사용"
   ],
   "outputs": [],
   "metadata": {}
  },
  {
   "cell_type": "code",
   "execution_count": 20,
   "source": [
    "layout = [\r\n",
    "    [sg.T(\"입력을 해주세요\")],\r\n",
    "    [sg.I(key=\"-INPUT-\")],\r\n",
    "    [sg.Ok(), sg.Cancel()]\r\n",
    "]"
   ],
   "outputs": [],
   "metadata": {}
  },
  {
   "cell_type": "code",
   "execution_count": 21,
   "source": [
    "window = sg.Window(\"입력을 처리하는 창\", layout)\r\n",
    "event, values = window.read(close=True)\r\n",
    "print(event, values, type(event), type(values))"
   ],
   "outputs": [
    {
     "output_type": "stream",
     "name": "stdout",
     "text": [
      "Ok {'-INPUT-': '좋은 날!'} <class 'str'> <class 'dict'>\n"
     ]
    }
   ],
   "metadata": {}
  },
  {
   "cell_type": "code",
   "execution_count": null,
   "source": [
    "## window 유지하기"
   ],
   "outputs": [],
   "metadata": {}
  },
  {
   "cell_type": "code",
   "execution_count": 29,
   "source": [
    "layout = [\r\n",
    "    [sg.T(\"입력을 해주세요\")],\r\n",
    "    [sg.I(key=\"-INPUT-\")],\r\n",
    "    [sg.Ok(), sg.Cancel()]\r\n",
    "]"
   ],
   "outputs": [],
   "metadata": {}
  },
  {
   "cell_type": "code",
   "execution_count": 30,
   "source": [
    "window = sg.Window(\"입력을 처리하는 창\", layout)"
   ],
   "outputs": [],
   "metadata": {}
  },
  {
   "cell_type": "code",
   "execution_count": 31,
   "source": [
    "while True:\r\n",
    "    event, values = window.read()\r\n",
    "    if event == \"Cancel\" or event == sg.WIN_CLOSED:\r\n",
    "        break\r\n",
    "    print(event, values)\r\n",
    "window.close()\r\n",
    "print(event, values)"
   ],
   "outputs": [
    {
     "output_type": "stream",
     "name": "stdout",
     "text": [
      "Ok {'-INPUT-': 'ㄹ3ㄹ3ㄹ3'}\n",
      "Ok {'-INPUT-': 'ㄹ3ㄹ3ㄹ3'}\n",
      "Ok {'-INPUT-': 'ㄹ3ㄹ3ㄹ3'}\n",
      "Ok {'-INPUT-': 'ㄹ3ㄹ3ㄹ3'}\n",
      "Ok {'-INPUT-': 'ㄹ3ㄹ3ㄹ3'}\n",
      "None None\n"
     ]
    }
   ],
   "metadata": {}
  },
  {
   "cell_type": "code",
   "execution_count": null,
   "source": [
    "## 멀티 입력"
   ],
   "outputs": [],
   "metadata": {}
  },
  {
   "cell_type": "code",
   "execution_count": 32,
   "source": [
    "layout = [\r\n",
    "    [sg.T(\"입력을 해주세요\")],\r\n",
    "    [sg.I(key=\"-INPUT1-\")],\r\n",
    "    [sg.I(key=\"-INPUT2-\")],\r\n",
    "    [sg.I(key=\"-INPUT3-\")],\r\n",
    "    [sg.Ok(), sg.Cancel()]\r\n",
    "]"
   ],
   "outputs": [],
   "metadata": {}
  },
  {
   "cell_type": "code",
   "execution_count": 33,
   "source": [
    "window = sg.Window(\"입력을 처리하는 창\", layout)"
   ],
   "outputs": [],
   "metadata": {}
  },
  {
   "cell_type": "code",
   "execution_count": 34,
   "source": [
    "while True:\r\n",
    "    event, values = window.read()\r\n",
    "    if event == \"Cancel\" or event == sg.WIN_CLOSED:\r\n",
    "        break\r\n",
    "    print(event, values)\r\n",
    "window.close()\r\n",
    "print(event, values)"
   ],
   "outputs": [
    {
     "output_type": "stream",
     "name": "stdout",
     "text": [
      "Ok {'-INPUT1-': '1', '-INPUT2-': '2', '-INPUT3-': ''}\n",
      "Ok {'-INPUT1-': '1', '-INPUT2-': 'ㅁㅇㄴㄹ3', '-INPUT3-': '333'}\n",
      "Cancel {'-INPUT1-': '1', '-INPUT2-': 'ㅁㅇㄴㄹ3', '-INPUT3-': '333'}\n"
     ]
    }
   ],
   "metadata": {}
  },
  {
   "cell_type": "code",
   "execution_count": null,
   "source": [
    "## window의 내용을 update"
   ],
   "outputs": [],
   "metadata": {}
  },
  {
   "cell_type": "code",
   "execution_count": 7,
   "source": [
    "layout = [\r\n",
    "    [sg.T(\"입력을 해주세요\")],\r\n",
    "    [sg.I(key=\"-INPUT-\")],\r\n",
    "    [sg.T(size=(20, 1), key=\"-OUTPUT-\")],\r\n",
    "    [sg.Ok(), sg.Cancel()]\r\n",
    "]"
   ],
   "outputs": [],
   "metadata": {}
  },
  {
   "cell_type": "code",
   "execution_count": 8,
   "source": [
    "window = sg.Window(\"입력을 처리하는 창\", layout)"
   ],
   "outputs": [],
   "metadata": {}
  },
  {
   "cell_type": "code",
   "execution_count": 9,
   "source": [
    "while True:\r\n",
    "    event, values = window.read()\r\n",
    "    if event == \"Cancel\" or event == sg.WIN_CLOSED:\r\n",
    "        break\r\n",
    "    window[\"-OUTPUT-\"].update(values[\"-INPUT-\"])\r\n",
    "    print(event, values)\r\n",
    "window.close()\r\n",
    "print(event, values)"
   ],
   "outputs": [
    {
     "output_type": "stream",
     "name": "stdout",
     "text": [
      "Ok {'-INPUT-': '1'}\n",
      "Ok {'-INPUT-': '3'}\n",
      "Ok {'-INPUT-': '5'}\n",
      "None None\n"
     ]
    }
   ],
   "metadata": {}
  },
  {
   "cell_type": "code",
   "execution_count": null,
   "source": [
    "# 입력값을 바로 보여주는 enable_events 특정 element에 이벤트가 발생하면 바로 동작하겠다!"
   ],
   "outputs": [],
   "metadata": {}
  },
  {
   "cell_type": "code",
   "execution_count": 13,
   "source": [
    "layout = [\r\n",
    "    [sg.T(\"입력을 해주세요\")],\r\n",
    "    [sg.I(key=\"-INPUT-\", enable_events = True)],\r\n",
    "    [sg.T(size=(20, 1), key=\"-OUTPUT-\")],\r\n",
    "    [sg.Ok(), sg.Cancel()]\r\n",
    "]"
   ],
   "outputs": [],
   "metadata": {}
  },
  {
   "cell_type": "code",
   "execution_count": 14,
   "source": [
    "window = sg.Window(\"입력을 처리하는 창\", layout)"
   ],
   "outputs": [],
   "metadata": {}
  },
  {
   "cell_type": "code",
   "execution_count": 15,
   "source": [
    "while True:\r\n",
    "    event, values = window.read()\r\n",
    "    if event == \"Cancel\" or event == sg.WIN_CLOSED:\r\n",
    "        break\r\n",
    "    if event == \"-INPUT-\":\r\n",
    "        window[\"-OUTPUT-\"].update(values[\"-INPUT-\"])\r\n",
    "    if event == \"Ok\":\r\n",
    "        sg.popup(\"Ok를 클릭하셨군요!\")\r\n",
    "    print(event, values)\r\n",
    "window.close()\r\n",
    "print(event, values)"
   ],
   "outputs": [
    {
     "output_type": "stream",
     "name": "stdout",
     "text": [
      "-INPUT- {'-INPUT-': ''}\n",
      "-INPUT- {'-INPUT-': ''}\n",
      "-INPUT- {'-INPUT-': 'ㅁ'}\n",
      "-INPUT- {'-INPUT-': 'ㅁ'}\n",
      "-INPUT- {'-INPUT-': 'ㅁㅁ'}\n",
      "-INPUT- {'-INPUT-': 'ㅁㅁ'}\n",
      "-INPUT- {'-INPUT-': 'ㅁㅁㄴ'}\n",
      "-INPUT- {'-INPUT-': 'ㅁㅁㄴ'}\n",
      "-INPUT- {'-INPUT-': 'ㅁㅁㄴㅇ'}\n",
      "-INPUT- {'-INPUT-': 'ㅁㅁㄴㅇㄹ'}\n",
      "-INPUT- {'-INPUT-': 'ㅁㅁㄴㅇㄹ'}\n",
      "-INPUT- {'-INPUT-': 'ㅁㅁㄴㅇㄹ'}\n",
      "-INPUT- {'-INPUT-': 'ㄷ'}\n",
      "Ok {'-INPUT-': 'ㄷ'}\n",
      "-INPUT- {'-INPUT-': '1'}\n",
      "-INPUT- {'-INPUT-': ''}\n",
      "-INPUT- {'-INPUT-': '2'}\n",
      "-INPUT- {'-INPUT-': ''}\n",
      "-INPUT- {'-INPUT-': '3'}\n",
      "-INPUT- {'-INPUT-': '34'}\n",
      "-INPUT- {'-INPUT-': '345'}\n",
      "-INPUT- {'-INPUT-': '3455'}\n",
      "-INPUT- {'-INPUT-': '34555'}\n",
      "-INPUT- {'-INPUT-': '345556'}\n",
      "-INPUT- {'-INPUT-': '3455566'}\n",
      "-INPUT- {'-INPUT-': '3455566'}\n",
      "-INPUT- {'-INPUT-': '3455566'}\n",
      "-INPUT- {'-INPUT-': '3455566ㄴ'}\n",
      "-INPUT- {'-INPUT-': '3455566ㄴ'}\n",
      "-INPUT- {'-INPUT-': '3455566ㄴㅇ'}\n",
      "-INPUT- {'-INPUT-': '3455566ㄴㅇ'}\n",
      "-INPUT- {'-INPUT-': '3455566ㄴㅇ'}\n",
      "-INPUT- {'-INPUT-': '3455566ㄴㅇㅀ'}\n",
      "-INPUT- {'-INPUT-': '3455566ㄴㅇㅀ'}\n",
      "-INPUT- {'-INPUT-': '3455566ㄴㅇㅀㄴ'}\n",
      "-INPUT- {'-INPUT-': '3455566ㄴㅇㅀㄴ'}\n",
      "-INPUT- {'-INPUT-': '3455566ㄴㅇㅀㄴㅇ'}\n",
      "-INPUT- {'-INPUT-': '3455566ㄴㅇㅀㄴㅇ'}\n",
      "-INPUT- {'-INPUT-': '3455566ㄴㅇㅀㄴㅇㅀ'}\n",
      "Cancel {'-INPUT-': '3455566ㄴㅇㅀㄴㅇㅀ'}\n"
     ]
    }
   ],
   "metadata": {}
  },
  {
   "cell_type": "code",
   "execution_count": null,
   "source": [
    "## theme"
   ],
   "outputs": [],
   "metadata": {}
  },
  {
   "cell_type": "code",
   "execution_count": 25,
   "source": [
    "sg.theme_list(), len(sg.theme_list())"
   ],
   "outputs": [
    {
     "output_type": "execute_result",
     "data": {
      "text/plain": [
       "(['Black',\n",
       "  'BlueMono',\n",
       "  'BluePurple',\n",
       "  'BrightColors',\n",
       "  'BrownBlue',\n",
       "  'Dark',\n",
       "  'Dark2',\n",
       "  'DarkAmber',\n",
       "  'DarkBlack',\n",
       "  'DarkBlack1',\n",
       "  'DarkBlue',\n",
       "  'DarkBlue1',\n",
       "  'DarkBlue10',\n",
       "  'DarkBlue11',\n",
       "  'DarkBlue12',\n",
       "  'DarkBlue13',\n",
       "  'DarkBlue14',\n",
       "  'DarkBlue15',\n",
       "  'DarkBlue16',\n",
       "  'DarkBlue17',\n",
       "  'DarkBlue2',\n",
       "  'DarkBlue3',\n",
       "  'DarkBlue4',\n",
       "  'DarkBlue5',\n",
       "  'DarkBlue6',\n",
       "  'DarkBlue7',\n",
       "  'DarkBlue8',\n",
       "  'DarkBlue9',\n",
       "  'DarkBrown',\n",
       "  'DarkBrown1',\n",
       "  'DarkBrown2',\n",
       "  'DarkBrown3',\n",
       "  'DarkBrown4',\n",
       "  'DarkBrown5',\n",
       "  'DarkBrown6',\n",
       "  'DarkBrown7',\n",
       "  'DarkGreen',\n",
       "  'DarkGreen1',\n",
       "  'DarkGreen2',\n",
       "  'DarkGreen3',\n",
       "  'DarkGreen4',\n",
       "  'DarkGreen5',\n",
       "  'DarkGreen6',\n",
       "  'DarkGreen7',\n",
       "  'DarkGrey',\n",
       "  'DarkGrey1',\n",
       "  'DarkGrey10',\n",
       "  'DarkGrey11',\n",
       "  'DarkGrey12',\n",
       "  'DarkGrey13',\n",
       "  'DarkGrey14',\n",
       "  'DarkGrey2',\n",
       "  'DarkGrey3',\n",
       "  'DarkGrey4',\n",
       "  'DarkGrey5',\n",
       "  'DarkGrey6',\n",
       "  'DarkGrey7',\n",
       "  'DarkGrey8',\n",
       "  'DarkGrey9',\n",
       "  'DarkPurple',\n",
       "  'DarkPurple1',\n",
       "  'DarkPurple2',\n",
       "  'DarkPurple3',\n",
       "  'DarkPurple4',\n",
       "  'DarkPurple5',\n",
       "  'DarkPurple6',\n",
       "  'DarkPurple7',\n",
       "  'DarkRed',\n",
       "  'DarkRed1',\n",
       "  'DarkRed2',\n",
       "  'DarkTanBlue',\n",
       "  'DarkTeal',\n",
       "  'DarkTeal1',\n",
       "  'DarkTeal10',\n",
       "  'DarkTeal11',\n",
       "  'DarkTeal12',\n",
       "  'DarkTeal2',\n",
       "  'DarkTeal3',\n",
       "  'DarkTeal4',\n",
       "  'DarkTeal5',\n",
       "  'DarkTeal6',\n",
       "  'DarkTeal7',\n",
       "  'DarkTeal8',\n",
       "  'DarkTeal9',\n",
       "  'Default',\n",
       "  'Default1',\n",
       "  'DefaultNoMoreNagging',\n",
       "  'GrayGrayGray',\n",
       "  'Green',\n",
       "  'GreenMono',\n",
       "  'GreenTan',\n",
       "  'HotDogStand',\n",
       "  'Kayak',\n",
       "  'LightBlue',\n",
       "  'LightBlue1',\n",
       "  'LightBlue2',\n",
       "  'LightBlue3',\n",
       "  'LightBlue4',\n",
       "  'LightBlue5',\n",
       "  'LightBlue6',\n",
       "  'LightBlue7',\n",
       "  'LightBrown',\n",
       "  'LightBrown1',\n",
       "  'LightBrown10',\n",
       "  'LightBrown11',\n",
       "  'LightBrown12',\n",
       "  'LightBrown13',\n",
       "  'LightBrown2',\n",
       "  'LightBrown3',\n",
       "  'LightBrown4',\n",
       "  'LightBrown5',\n",
       "  'LightBrown6',\n",
       "  'LightBrown7',\n",
       "  'LightBrown8',\n",
       "  'LightBrown9',\n",
       "  'LightGray1',\n",
       "  'LightGreen',\n",
       "  'LightGreen1',\n",
       "  'LightGreen10',\n",
       "  'LightGreen2',\n",
       "  'LightGreen3',\n",
       "  'LightGreen4',\n",
       "  'LightGreen5',\n",
       "  'LightGreen6',\n",
       "  'LightGreen7',\n",
       "  'LightGreen8',\n",
       "  'LightGreen9',\n",
       "  'LightGrey',\n",
       "  'LightGrey1',\n",
       "  'LightGrey2',\n",
       "  'LightGrey3',\n",
       "  'LightGrey4',\n",
       "  'LightGrey5',\n",
       "  'LightGrey6',\n",
       "  'LightPurple',\n",
       "  'LightTeal',\n",
       "  'LightYellow',\n",
       "  'Material1',\n",
       "  'Material2',\n",
       "  'NeutralBlue',\n",
       "  'Purple',\n",
       "  'Python',\n",
       "  'Reddit',\n",
       "  'Reds',\n",
       "  'SandyBeach',\n",
       "  'SystemDefault',\n",
       "  'SystemDefault1',\n",
       "  'SystemDefaultForReal',\n",
       "  'Tan',\n",
       "  'TanBlue',\n",
       "  'TealMono',\n",
       "  'Topanga'],\n",
       " 152)"
      ]
     },
     "metadata": {},
     "execution_count": 25
    }
   ],
   "metadata": {}
  },
  {
   "cell_type": "code",
   "execution_count": 26,
   "source": [
    "sg.theme(\"TealMono\")"
   ],
   "outputs": [
    {
     "output_type": "execute_result",
     "data": {
      "text/plain": [
       "'TealMono'"
      ]
     },
     "metadata": {},
     "execution_count": 26
    }
   ],
   "metadata": {}
  },
  {
   "cell_type": "code",
   "execution_count": 27,
   "source": [
    "layout = [\r\n",
    "    [sg.T(\"입력을 해주세요\")],\r\n",
    "    [sg.I(key=\"-INPUT-\", enable_events = True)],\r\n",
    "    [sg.T(size=(20, 1), key=\"-OUTPUT-\")],\r\n",
    "    [sg.Ok(), sg.Cancel()]\r\n",
    "]"
   ],
   "outputs": [],
   "metadata": {}
  },
  {
   "cell_type": "code",
   "execution_count": 28,
   "source": [
    "window = sg.Window(\"입력을 처리하는 창\", layout)"
   ],
   "outputs": [],
   "metadata": {}
  },
  {
   "cell_type": "code",
   "execution_count": 29,
   "source": [
    "while True:\r\n",
    "    event, values = window.read()\r\n",
    "    if event == \"Cancel\" or event == sg.WIN_CLOSED:\r\n",
    "        break\r\n",
    "    if event == \"-INPUT-\":\r\n",
    "        window[\"-OUTPUT-\"].update(values[\"-INPUT-\"])\r\n",
    "    if event == \"Ok\":\r\n",
    "        sg.popup(\"Ok를 클릭하셨군요!\")\r\n",
    "    print(event, values)\r\n",
    "window.close()\r\n",
    "print(event, values)"
   ],
   "outputs": [
    {
     "output_type": "stream",
     "name": "stdout",
     "text": [
      "None {'-INPUT-': None}\n"
     ]
    }
   ],
   "metadata": {}
  },
  {
   "cell_type": "code",
   "execution_count": null,
   "source": [],
   "outputs": [],
   "metadata": {}
  }
 ],
 "metadata": {
  "orig_nbformat": 4,
  "language_info": {
   "name": "python",
   "version": "3.9.6",
   "mimetype": "text/x-python",
   "codemirror_mode": {
    "name": "ipython",
    "version": 3
   },
   "pygments_lexer": "ipython3",
   "nbconvert_exporter": "python",
   "file_extension": ".py"
  },
  "kernelspec": {
   "name": "python3",
   "display_name": "Python 3.9.6 64-bit ('venv': venv)"
  },
  "interpreter": {
   "hash": "23b0618377e212a12a26e4ee68a3e39884635847071ead513355fecbb008c6df"
  }
 },
 "nbformat": 4,
 "nbformat_minor": 2
}